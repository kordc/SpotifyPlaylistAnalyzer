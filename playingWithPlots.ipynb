{
 "cells": [
  {
   "cell_type": "code",
   "execution_count": 2,
   "metadata": {},
   "outputs": [],
   "source": [
    "import plotly.express as px\n",
    "import plotly.graph_objects as go\n",
    "import pandas as pd"
   ]
  },
  {
   "cell_type": "code",
   "execution_count": 3,
   "metadata": {},
   "outputs": [
    {
     "data": {
      "text/plain": [
       "Index(['Unnamed: 0', 'artist', 'explicit', 'name', 'album', 'popularity',\n",
       "       'acousticness', 'danceability', 'duration', 'energy',\n",
       "       'instrumentalness', 'key', 'liveness', 'loudness', 'mode',\n",
       "       'speechiness', 'time_signature', 'valence', 'id', 'query'],\n",
       "      dtype='object')"
      ]
     },
     "execution_count": 3,
     "metadata": {},
     "output_type": "execute_result"
    }
   ],
   "source": [
    "df = pd.read_csv(\"Different_top_50.csv\")\n",
    "df.columns"
   ]
  },
  {
   "cell_type": "code",
   "execution_count": 74,
   "metadata": {},
   "outputs": [
    {
     "name": "stderr",
     "output_type": "stream",
     "text": [
      "C:\\Users\\sebas\\AppData\\Local\\Temp\\ipykernel_980\\89269499.py:1: FutureWarning:\n",
      "\n",
      "Dropping of nuisance columns in DataFrame reductions (with 'numeric_only=None') is deprecated; in a future version this will raise TypeError.  Select only valid columns before calling the reduction.\n",
      "\n"
     ]
    },
    {
     "data": {
      "text/plain": [
       "Index(['Unnamed: 0', 'explicit', 'popularity', 'acousticness', 'danceability',\n",
       "       'duration', 'energy', 'instrumentalness', 'liveness', 'loudness',\n",
       "       'speechiness', 'time_signature', 'valence', 'id'],\n",
       "      dtype='object')"
      ]
     },
     "execution_count": 74,
     "metadata": {},
     "output_type": "execute_result"
    }
   ],
   "source": [
    "df.mean().index"
   ]
  },
  {
   "cell_type": "code",
   "execution_count": 24,
   "metadata": {},
   "outputs": [],
   "source": [
    "unpivoted = df.groupby([\"query\"]).mean().reset_index()[['danceability',  'energy',  'speechiness',  'acousticness',  'liveness',  'valence', \"query\"]]"
   ]
  },
  {
   "cell_type": "code",
   "execution_count": 28,
   "metadata": {},
   "outputs": [
    {
     "data": {
      "text/plain": [
       "Index(['query', 'variable', 'value'], dtype='object')"
      ]
     },
     "execution_count": 28,
     "metadata": {},
     "output_type": "execute_result"
    }
   ],
   "source": [
    "melted.columns"
   ]
  },
  {
   "cell_type": "code",
   "execution_count": 57,
   "metadata": {},
   "outputs": [
    {
     "name": "stderr",
     "output_type": "stream",
     "text": [
      "c:\\Users\\sebas\\miniconda3\\lib\\site-packages\\plotly\\express\\_core.py:271: FutureWarning:\n",
      "\n",
      "The frame.append method is deprecated and will be removed from pandas in a future version. Use pandas.concat instead.\n",
      "\n",
      "c:\\Users\\sebas\\miniconda3\\lib\\site-packages\\plotly\\express\\_core.py:271: FutureWarning:\n",
      "\n",
      "The frame.append method is deprecated and will be removed from pandas in a future version. Use pandas.concat instead.\n",
      "\n",
      "c:\\Users\\sebas\\miniconda3\\lib\\site-packages\\plotly\\express\\_core.py:271: FutureWarning:\n",
      "\n",
      "The frame.append method is deprecated and will be removed from pandas in a future version. Use pandas.concat instead.\n",
      "\n",
      "c:\\Users\\sebas\\miniconda3\\lib\\site-packages\\plotly\\express\\_core.py:271: FutureWarning:\n",
      "\n",
      "The frame.append method is deprecated and will be removed from pandas in a future version. Use pandas.concat instead.\n",
      "\n",
      "c:\\Users\\sebas\\miniconda3\\lib\\site-packages\\plotly\\express\\_core.py:271: FutureWarning:\n",
      "\n",
      "The frame.append method is deprecated and will be removed from pandas in a future version. Use pandas.concat instead.\n",
      "\n",
      "c:\\Users\\sebas\\miniconda3\\lib\\site-packages\\plotly\\express\\_core.py:271: FutureWarning:\n",
      "\n",
      "The frame.append method is deprecated and will be removed from pandas in a future version. Use pandas.concat instead.\n",
      "\n"
     ]
    },
    {
     "data": {
      "application/vnd.plotly.v1+json": {
       "config": {
        "plotlyServerURL": "https://plot.ly"
       },
       "data": [
        {
         "hovertemplate": "query=Top 50 Australia<br>value=%{r}<br>variable=%{theta}<extra></extra>",
         "legendgroup": "Top 50 Australia",
         "line": {
          "color": "#636efa",
          "dash": "solid"
         },
         "marker": {
          "symbol": "circle"
         },
         "mode": "lines",
         "name": "Top 50 Australia",
         "opacity": 0.7,
         "r": [
          0.6439199999999999,
          0.61918,
          0.065408,
          0.309134,
          0.165374,
          0.48162,
          0.6439199999999999
         ],
         "showlegend": true,
         "subplot": "polar",
         "theta": [
          "danceability",
          "energy",
          "speechiness",
          "acousticness",
          "liveness",
          "valence",
          "danceability"
         ],
         "type": "scatterpolar"
        },
        {
         "hovertemplate": "query=Top 50 Egypt<br>value=%{r}<br>variable=%{theta}<extra></extra>",
         "legendgroup": "Top 50 Egypt",
         "line": {
          "color": "#EF553B",
          "dash": "solid"
         },
         "marker": {
          "symbol": "circle"
         },
         "mode": "lines",
         "name": "Top 50 Egypt",
         "opacity": 0.7,
         "r": [
          0.7263,
          0.59266,
          0.132572,
          0.396406,
          0.16450199999999998,
          0.553718,
          0.7263
         ],
         "showlegend": true,
         "subplot": "polar",
         "theta": [
          "danceability",
          "energy",
          "speechiness",
          "acousticness",
          "liveness",
          "valence",
          "danceability"
         ],
         "type": "scatterpolar"
        },
        {
         "hovertemplate": "query=Top 50 Japan<br>value=%{r}<br>variable=%{theta}<extra></extra>",
         "legendgroup": "Top 50 Japan",
         "line": {
          "color": "#00cc96",
          "dash": "solid"
         },
         "marker": {
          "symbol": "circle"
         },
         "mode": "lines",
         "name": "Top 50 Japan",
         "opacity": 0.7,
         "r": [
          0.5318333333333334,
          0.7113888888888888,
          0.05938888888888889,
          0.17066471666666666,
          0.24073333333333333,
          0.5920000000000001,
          0.5318333333333334
         ],
         "showlegend": true,
         "subplot": "polar",
         "theta": [
          "danceability",
          "energy",
          "speechiness",
          "acousticness",
          "liveness",
          "valence",
          "danceability"
         ],
         "type": "scatterpolar"
        },
        {
         "hovertemplate": "query=Top 50 Poland<br>value=%{r}<br>variable=%{theta}<extra></extra>",
         "legendgroup": "Top 50 Poland",
         "line": {
          "color": "#ab63fa",
          "dash": "solid"
         },
         "marker": {
          "symbol": "circle"
         },
         "mode": "lines",
         "name": "Top 50 Poland",
         "opacity": 0.7,
         "r": [
          0.69676,
          0.6127199999999999,
          0.115548,
          0.270314,
          0.1679,
          0.51654,
          0.69676
         ],
         "showlegend": true,
         "subplot": "polar",
         "theta": [
          "danceability",
          "energy",
          "speechiness",
          "acousticness",
          "liveness",
          "valence",
          "danceability"
         ],
         "type": "scatterpolar"
        },
        {
         "hovertemplate": "query=Top 50 USA<br>value=%{r}<br>variable=%{theta}<extra></extra>",
         "legendgroup": "Top 50 USA",
         "line": {
          "color": "#FFA15A",
          "dash": "solid"
         },
         "marker": {
          "symbol": "circle"
         },
         "mode": "lines",
         "name": "Top 50 USA",
         "opacity": 0.7,
         "r": [
          0.6839148936170213,
          0.6387021276595745,
          0.10605531914893618,
          0.2876674659574468,
          0.17359361702127657,
          0.5109148936170214,
          0.6839148936170213
         ],
         "showlegend": true,
         "subplot": "polar",
         "theta": [
          "danceability",
          "energy",
          "speechiness",
          "acousticness",
          "liveness",
          "valence",
          "danceability"
         ],
         "type": "scatterpolar"
        },
        {
         "hovertemplate": "query=Top 50 belgium<br>value=%{r}<br>variable=%{theta}<extra></extra>",
         "legendgroup": "Top 50 belgium",
         "line": {
          "color": "#19d3f3",
          "dash": "solid"
         },
         "marker": {
          "symbol": "circle"
         },
         "mode": "lines",
         "name": "Top 50 belgium",
         "opacity": 0.7,
         "r": [
          0.64996,
          0.61732,
          0.060286,
          0.2575694,
          0.173016,
          0.474538,
          0.64996
         ],
         "showlegend": true,
         "subplot": "polar",
         "theta": [
          "danceability",
          "energy",
          "speechiness",
          "acousticness",
          "liveness",
          "valence",
          "danceability"
         ],
         "type": "scatterpolar"
        }
       ],
       "layout": {
        "legend": {
         "title": {
          "text": "query"
         },
         "tracegroupgap": 0
        },
        "margin": {
         "t": 60
        },
        "polar": {
         "angularaxis": {
          "direction": "clockwise",
          "rotation": 90
         },
         "domain": {
          "x": [
           0,
           1
          ],
          "y": [
           0,
           1
          ]
         },
         "radialaxis": {
          "range": [
           0,
           1
          ]
         }
        },
        "template": {
         "data": {
          "bar": [
           {
            "error_x": {
             "color": "#2a3f5f"
            },
            "error_y": {
             "color": "#2a3f5f"
            },
            "marker": {
             "line": {
              "color": "#E5ECF6",
              "width": 0.5
             },
             "pattern": {
              "fillmode": "overlay",
              "size": 10,
              "solidity": 0.2
             }
            },
            "type": "bar"
           }
          ],
          "barpolar": [
           {
            "marker": {
             "line": {
              "color": "#E5ECF6",
              "width": 0.5
             },
             "pattern": {
              "fillmode": "overlay",
              "size": 10,
              "solidity": 0.2
             }
            },
            "type": "barpolar"
           }
          ],
          "carpet": [
           {
            "aaxis": {
             "endlinecolor": "#2a3f5f",
             "gridcolor": "white",
             "linecolor": "white",
             "minorgridcolor": "white",
             "startlinecolor": "#2a3f5f"
            },
            "baxis": {
             "endlinecolor": "#2a3f5f",
             "gridcolor": "white",
             "linecolor": "white",
             "minorgridcolor": "white",
             "startlinecolor": "#2a3f5f"
            },
            "type": "carpet"
           }
          ],
          "choropleth": [
           {
            "colorbar": {
             "outlinewidth": 0,
             "ticks": ""
            },
            "type": "choropleth"
           }
          ],
          "contour": [
           {
            "colorbar": {
             "outlinewidth": 0,
             "ticks": ""
            },
            "colorscale": [
             [
              0,
              "#0d0887"
             ],
             [
              0.1111111111111111,
              "#46039f"
             ],
             [
              0.2222222222222222,
              "#7201a8"
             ],
             [
              0.3333333333333333,
              "#9c179e"
             ],
             [
              0.4444444444444444,
              "#bd3786"
             ],
             [
              0.5555555555555556,
              "#d8576b"
             ],
             [
              0.6666666666666666,
              "#ed7953"
             ],
             [
              0.7777777777777778,
              "#fb9f3a"
             ],
             [
              0.8888888888888888,
              "#fdca26"
             ],
             [
              1,
              "#f0f921"
             ]
            ],
            "type": "contour"
           }
          ],
          "contourcarpet": [
           {
            "colorbar": {
             "outlinewidth": 0,
             "ticks": ""
            },
            "type": "contourcarpet"
           }
          ],
          "heatmap": [
           {
            "colorbar": {
             "outlinewidth": 0,
             "ticks": ""
            },
            "colorscale": [
             [
              0,
              "#0d0887"
             ],
             [
              0.1111111111111111,
              "#46039f"
             ],
             [
              0.2222222222222222,
              "#7201a8"
             ],
             [
              0.3333333333333333,
              "#9c179e"
             ],
             [
              0.4444444444444444,
              "#bd3786"
             ],
             [
              0.5555555555555556,
              "#d8576b"
             ],
             [
              0.6666666666666666,
              "#ed7953"
             ],
             [
              0.7777777777777778,
              "#fb9f3a"
             ],
             [
              0.8888888888888888,
              "#fdca26"
             ],
             [
              1,
              "#f0f921"
             ]
            ],
            "type": "heatmap"
           }
          ],
          "heatmapgl": [
           {
            "colorbar": {
             "outlinewidth": 0,
             "ticks": ""
            },
            "colorscale": [
             [
              0,
              "#0d0887"
             ],
             [
              0.1111111111111111,
              "#46039f"
             ],
             [
              0.2222222222222222,
              "#7201a8"
             ],
             [
              0.3333333333333333,
              "#9c179e"
             ],
             [
              0.4444444444444444,
              "#bd3786"
             ],
             [
              0.5555555555555556,
              "#d8576b"
             ],
             [
              0.6666666666666666,
              "#ed7953"
             ],
             [
              0.7777777777777778,
              "#fb9f3a"
             ],
             [
              0.8888888888888888,
              "#fdca26"
             ],
             [
              1,
              "#f0f921"
             ]
            ],
            "type": "heatmapgl"
           }
          ],
          "histogram": [
           {
            "marker": {
             "pattern": {
              "fillmode": "overlay",
              "size": 10,
              "solidity": 0.2
             }
            },
            "type": "histogram"
           }
          ],
          "histogram2d": [
           {
            "colorbar": {
             "outlinewidth": 0,
             "ticks": ""
            },
            "colorscale": [
             [
              0,
              "#0d0887"
             ],
             [
              0.1111111111111111,
              "#46039f"
             ],
             [
              0.2222222222222222,
              "#7201a8"
             ],
             [
              0.3333333333333333,
              "#9c179e"
             ],
             [
              0.4444444444444444,
              "#bd3786"
             ],
             [
              0.5555555555555556,
              "#d8576b"
             ],
             [
              0.6666666666666666,
              "#ed7953"
             ],
             [
              0.7777777777777778,
              "#fb9f3a"
             ],
             [
              0.8888888888888888,
              "#fdca26"
             ],
             [
              1,
              "#f0f921"
             ]
            ],
            "type": "histogram2d"
           }
          ],
          "histogram2dcontour": [
           {
            "colorbar": {
             "outlinewidth": 0,
             "ticks": ""
            },
            "colorscale": [
             [
              0,
              "#0d0887"
             ],
             [
              0.1111111111111111,
              "#46039f"
             ],
             [
              0.2222222222222222,
              "#7201a8"
             ],
             [
              0.3333333333333333,
              "#9c179e"
             ],
             [
              0.4444444444444444,
              "#bd3786"
             ],
             [
              0.5555555555555556,
              "#d8576b"
             ],
             [
              0.6666666666666666,
              "#ed7953"
             ],
             [
              0.7777777777777778,
              "#fb9f3a"
             ],
             [
              0.8888888888888888,
              "#fdca26"
             ],
             [
              1,
              "#f0f921"
             ]
            ],
            "type": "histogram2dcontour"
           }
          ],
          "mesh3d": [
           {
            "colorbar": {
             "outlinewidth": 0,
             "ticks": ""
            },
            "type": "mesh3d"
           }
          ],
          "parcoords": [
           {
            "line": {
             "colorbar": {
              "outlinewidth": 0,
              "ticks": ""
             }
            },
            "type": "parcoords"
           }
          ],
          "pie": [
           {
            "automargin": true,
            "type": "pie"
           }
          ],
          "scatter": [
           {
            "fillpattern": {
             "fillmode": "overlay",
             "size": 10,
             "solidity": 0.2
            },
            "type": "scatter"
           }
          ],
          "scatter3d": [
           {
            "line": {
             "colorbar": {
              "outlinewidth": 0,
              "ticks": ""
             }
            },
            "marker": {
             "colorbar": {
              "outlinewidth": 0,
              "ticks": ""
             }
            },
            "type": "scatter3d"
           }
          ],
          "scattercarpet": [
           {
            "marker": {
             "colorbar": {
              "outlinewidth": 0,
              "ticks": ""
             }
            },
            "type": "scattercarpet"
           }
          ],
          "scattergeo": [
           {
            "marker": {
             "colorbar": {
              "outlinewidth": 0,
              "ticks": ""
             }
            },
            "type": "scattergeo"
           }
          ],
          "scattergl": [
           {
            "marker": {
             "colorbar": {
              "outlinewidth": 0,
              "ticks": ""
             }
            },
            "type": "scattergl"
           }
          ],
          "scattermapbox": [
           {
            "marker": {
             "colorbar": {
              "outlinewidth": 0,
              "ticks": ""
             }
            },
            "type": "scattermapbox"
           }
          ],
          "scatterpolar": [
           {
            "marker": {
             "colorbar": {
              "outlinewidth": 0,
              "ticks": ""
             }
            },
            "type": "scatterpolar"
           }
          ],
          "scatterpolargl": [
           {
            "marker": {
             "colorbar": {
              "outlinewidth": 0,
              "ticks": ""
             }
            },
            "type": "scatterpolargl"
           }
          ],
          "scatterternary": [
           {
            "marker": {
             "colorbar": {
              "outlinewidth": 0,
              "ticks": ""
             }
            },
            "type": "scatterternary"
           }
          ],
          "surface": [
           {
            "colorbar": {
             "outlinewidth": 0,
             "ticks": ""
            },
            "colorscale": [
             [
              0,
              "#0d0887"
             ],
             [
              0.1111111111111111,
              "#46039f"
             ],
             [
              0.2222222222222222,
              "#7201a8"
             ],
             [
              0.3333333333333333,
              "#9c179e"
             ],
             [
              0.4444444444444444,
              "#bd3786"
             ],
             [
              0.5555555555555556,
              "#d8576b"
             ],
             [
              0.6666666666666666,
              "#ed7953"
             ],
             [
              0.7777777777777778,
              "#fb9f3a"
             ],
             [
              0.8888888888888888,
              "#fdca26"
             ],
             [
              1,
              "#f0f921"
             ]
            ],
            "type": "surface"
           }
          ],
          "table": [
           {
            "cells": {
             "fill": {
              "color": "#EBF0F8"
             },
             "line": {
              "color": "white"
             }
            },
            "header": {
             "fill": {
              "color": "#C8D4E3"
             },
             "line": {
              "color": "white"
             }
            },
            "type": "table"
           }
          ]
         },
         "layout": {
          "annotationdefaults": {
           "arrowcolor": "#2a3f5f",
           "arrowhead": 0,
           "arrowwidth": 1
          },
          "autotypenumbers": "strict",
          "coloraxis": {
           "colorbar": {
            "outlinewidth": 0,
            "ticks": ""
           }
          },
          "colorscale": {
           "diverging": [
            [
             0,
             "#8e0152"
            ],
            [
             0.1,
             "#c51b7d"
            ],
            [
             0.2,
             "#de77ae"
            ],
            [
             0.3,
             "#f1b6da"
            ],
            [
             0.4,
             "#fde0ef"
            ],
            [
             0.5,
             "#f7f7f7"
            ],
            [
             0.6,
             "#e6f5d0"
            ],
            [
             0.7,
             "#b8e186"
            ],
            [
             0.8,
             "#7fbc41"
            ],
            [
             0.9,
             "#4d9221"
            ],
            [
             1,
             "#276419"
            ]
           ],
           "sequential": [
            [
             0,
             "#0d0887"
            ],
            [
             0.1111111111111111,
             "#46039f"
            ],
            [
             0.2222222222222222,
             "#7201a8"
            ],
            [
             0.3333333333333333,
             "#9c179e"
            ],
            [
             0.4444444444444444,
             "#bd3786"
            ],
            [
             0.5555555555555556,
             "#d8576b"
            ],
            [
             0.6666666666666666,
             "#ed7953"
            ],
            [
             0.7777777777777778,
             "#fb9f3a"
            ],
            [
             0.8888888888888888,
             "#fdca26"
            ],
            [
             1,
             "#f0f921"
            ]
           ],
           "sequentialminus": [
            [
             0,
             "#0d0887"
            ],
            [
             0.1111111111111111,
             "#46039f"
            ],
            [
             0.2222222222222222,
             "#7201a8"
            ],
            [
             0.3333333333333333,
             "#9c179e"
            ],
            [
             0.4444444444444444,
             "#bd3786"
            ],
            [
             0.5555555555555556,
             "#d8576b"
            ],
            [
             0.6666666666666666,
             "#ed7953"
            ],
            [
             0.7777777777777778,
             "#fb9f3a"
            ],
            [
             0.8888888888888888,
             "#fdca26"
            ],
            [
             1,
             "#f0f921"
            ]
           ]
          },
          "colorway": [
           "#636efa",
           "#EF553B",
           "#00cc96",
           "#ab63fa",
           "#FFA15A",
           "#19d3f3",
           "#FF6692",
           "#B6E880",
           "#FF97FF",
           "#FECB52"
          ],
          "font": {
           "color": "#2a3f5f"
          },
          "geo": {
           "bgcolor": "white",
           "lakecolor": "white",
           "landcolor": "#E5ECF6",
           "showlakes": true,
           "showland": true,
           "subunitcolor": "white"
          },
          "hoverlabel": {
           "align": "left"
          },
          "hovermode": "closest",
          "mapbox": {
           "style": "light"
          },
          "paper_bgcolor": "white",
          "plot_bgcolor": "#E5ECF6",
          "polar": {
           "angularaxis": {
            "gridcolor": "white",
            "linecolor": "white",
            "ticks": ""
           },
           "bgcolor": "#E5ECF6",
           "radialaxis": {
            "gridcolor": "white",
            "linecolor": "white",
            "ticks": ""
           }
          },
          "scene": {
           "xaxis": {
            "backgroundcolor": "#E5ECF6",
            "gridcolor": "white",
            "gridwidth": 2,
            "linecolor": "white",
            "showbackground": true,
            "ticks": "",
            "zerolinecolor": "white"
           },
           "yaxis": {
            "backgroundcolor": "#E5ECF6",
            "gridcolor": "white",
            "gridwidth": 2,
            "linecolor": "white",
            "showbackground": true,
            "ticks": "",
            "zerolinecolor": "white"
           },
           "zaxis": {
            "backgroundcolor": "#E5ECF6",
            "gridcolor": "white",
            "gridwidth": 2,
            "linecolor": "white",
            "showbackground": true,
            "ticks": "",
            "zerolinecolor": "white"
           }
          },
          "shapedefaults": {
           "line": {
            "color": "#2a3f5f"
           }
          },
          "ternary": {
           "aaxis": {
            "gridcolor": "white",
            "linecolor": "white",
            "ticks": ""
           },
           "baxis": {
            "gridcolor": "white",
            "linecolor": "white",
            "ticks": ""
           },
           "bgcolor": "#E5ECF6",
           "caxis": {
            "gridcolor": "white",
            "linecolor": "white",
            "ticks": ""
           }
          },
          "title": {
           "x": 0.05
          },
          "xaxis": {
           "automargin": true,
           "gridcolor": "white",
           "linecolor": "white",
           "ticks": "",
           "title": {
            "standoff": 15
           },
           "zerolinecolor": "white",
           "zerolinewidth": 2
          },
          "yaxis": {
           "automargin": true,
           "gridcolor": "white",
           "linecolor": "white",
           "ticks": "",
           "title": {
            "standoff": 15
           },
           "zerolinecolor": "white",
           "zerolinewidth": 2
          }
         }
        }
       }
      }
     },
     "metadata": {},
     "output_type": "display_data"
    }
   ],
   "source": [
    "melted = pd.melt(unpivoted, id_vars=[\"query\"])\n",
    "\n",
    "fig = px.line_polar(melted, r=\"value\", theta=\"variable\", color=\"query\",\n",
    "                            line_close=True, range_r=[0,1])\n",
    "#fig.update_traces(fill='toself')\n",
    "fig.update_traces(opacity=0.7)\n",
    "fig"
   ]
  },
  {
   "cell_type": "code",
   "execution_count": 113,
   "metadata": {},
   "outputs": [],
   "source": [
    "def radarPlot(data : pd.DataFrame, behaviour=\"average\"):\n",
    "        if behaviour == \"average\":\n",
    "                radarData = data[['danceability',  'energy',  'speechiness',  'acousticness',  'liveness',  'valence']]\n",
    "                toPlot = radarData.mean()\n",
    "                fig = px.line_polar(r=toPlot.values, theta=toPlot.index, line_close=True, range_r=[0,1])\n",
    "        else:\n",
    "                if behaviour == \"separate\":\n",
    "                        separate_variable = \"name\"\n",
    "                elif behaviour == \"by_query\":\n",
    "                        separate_variable = \"query\"\n",
    "                radarData = data[['danceability',  'energy',  'speechiness',  'acousticness',  'liveness',  'valence', separate_variable]]\n",
    "                radarData = radarData.groupby([separate_variable]).mean().reset_index()\n",
    "                radarData = pd.melt(radarData, id_vars=[separate_variable])\n",
    "\n",
    "                fig = px.line_polar(radarData, r=\"value\", theta=\"variable\", color=separate_variable,\n",
    "                            line_close=True, range_r=[0,1])\n",
    "                fig.update_traces(opacity=0.7)\n",
    "\n",
    "        fig.update_layout(margin=dict(l=0, r=0, t=25, b=25))        \n",
    "        return fig"
   ]
  },
  {
   "cell_type": "code",
   "execution_count": 115,
   "metadata": {},
   "outputs": [
    {
     "name": "stderr",
     "output_type": "stream",
     "text": [
      "c:\\Users\\sebas\\miniconda3\\lib\\site-packages\\plotly\\express\\_core.py:271: FutureWarning:\n",
      "\n",
      "The frame.append method is deprecated and will be removed from pandas in a future version. Use pandas.concat instead.\n",
      "\n",
      "c:\\Users\\sebas\\miniconda3\\lib\\site-packages\\plotly\\express\\_core.py:271: FutureWarning:\n",
      "\n",
      "The frame.append method is deprecated and will be removed from pandas in a future version. Use pandas.concat instead.\n",
      "\n",
      "c:\\Users\\sebas\\miniconda3\\lib\\site-packages\\plotly\\express\\_core.py:271: FutureWarning:\n",
      "\n",
      "The frame.append method is deprecated and will be removed from pandas in a future version. Use pandas.concat instead.\n",
      "\n",
      "c:\\Users\\sebas\\miniconda3\\lib\\site-packages\\plotly\\express\\_core.py:271: FutureWarning:\n",
      "\n",
      "The frame.append method is deprecated and will be removed from pandas in a future version. Use pandas.concat instead.\n",
      "\n",
      "c:\\Users\\sebas\\miniconda3\\lib\\site-packages\\plotly\\express\\_core.py:271: FutureWarning:\n",
      "\n",
      "The frame.append method is deprecated and will be removed from pandas in a future version. Use pandas.concat instead.\n",
      "\n",
      "c:\\Users\\sebas\\miniconda3\\lib\\site-packages\\plotly\\express\\_core.py:271: FutureWarning:\n",
      "\n",
      "The frame.append method is deprecated and will be removed from pandas in a future version. Use pandas.concat instead.\n",
      "\n",
      "c:\\Users\\sebas\\miniconda3\\lib\\site-packages\\plotly\\express\\_core.py:271: FutureWarning:\n",
      "\n",
      "The frame.append method is deprecated and will be removed from pandas in a future version. Use pandas.concat instead.\n",
      "\n",
      "c:\\Users\\sebas\\miniconda3\\lib\\site-packages\\plotly\\express\\_core.py:271: FutureWarning:\n",
      "\n",
      "The frame.append method is deprecated and will be removed from pandas in a future version. Use pandas.concat instead.\n",
      "\n",
      "c:\\Users\\sebas\\miniconda3\\lib\\site-packages\\plotly\\express\\_core.py:271: FutureWarning:\n",
      "\n",
      "The frame.append method is deprecated and will be removed from pandas in a future version. Use pandas.concat instead.\n",
      "\n",
      "c:\\Users\\sebas\\miniconda3\\lib\\site-packages\\plotly\\express\\_core.py:271: FutureWarning:\n",
      "\n",
      "The frame.append method is deprecated and will be removed from pandas in a future version. Use pandas.concat instead.\n",
      "\n",
      "c:\\Users\\sebas\\miniconda3\\lib\\site-packages\\plotly\\express\\_core.py:271: FutureWarning:\n",
      "\n",
      "The frame.append method is deprecated and will be removed from pandas in a future version. Use pandas.concat instead.\n",
      "\n",
      "c:\\Users\\sebas\\miniconda3\\lib\\site-packages\\plotly\\express\\_core.py:271: FutureWarning:\n",
      "\n",
      "The frame.append method is deprecated and will be removed from pandas in a future version. Use pandas.concat instead.\n",
      "\n",
      "c:\\Users\\sebas\\miniconda3\\lib\\site-packages\\plotly\\express\\_core.py:271: FutureWarning:\n",
      "\n",
      "The frame.append method is deprecated and will be removed from pandas in a future version. Use pandas.concat instead.\n",
      "\n",
      "c:\\Users\\sebas\\miniconda3\\lib\\site-packages\\plotly\\express\\_core.py:271: FutureWarning:\n",
      "\n",
      "The frame.append method is deprecated and will be removed from pandas in a future version. Use pandas.concat instead.\n",
      "\n",
      "c:\\Users\\sebas\\miniconda3\\lib\\site-packages\\plotly\\express\\_core.py:271: FutureWarning:\n",
      "\n",
      "The frame.append method is deprecated and will be removed from pandas in a future version. Use pandas.concat instead.\n",
      "\n",
      "c:\\Users\\sebas\\miniconda3\\lib\\site-packages\\plotly\\express\\_core.py:271: FutureWarning:\n",
      "\n",
      "The frame.append method is deprecated and will be removed from pandas in a future version. Use pandas.concat instead.\n",
      "\n",
      "c:\\Users\\sebas\\miniconda3\\lib\\site-packages\\plotly\\express\\_core.py:271: FutureWarning:\n",
      "\n",
      "The frame.append method is deprecated and will be removed from pandas in a future version. Use pandas.concat instead.\n",
      "\n",
      "c:\\Users\\sebas\\miniconda3\\lib\\site-packages\\plotly\\express\\_core.py:271: FutureWarning:\n",
      "\n",
      "The frame.append method is deprecated and will be removed from pandas in a future version. Use pandas.concat instead.\n",
      "\n",
      "c:\\Users\\sebas\\miniconda3\\lib\\site-packages\\plotly\\express\\_core.py:271: FutureWarning:\n",
      "\n",
      "The frame.append method is deprecated and will be removed from pandas in a future version. Use pandas.concat instead.\n",
      "\n",
      "c:\\Users\\sebas\\miniconda3\\lib\\site-packages\\plotly\\express\\_core.py:271: FutureWarning:\n",
      "\n",
      "The frame.append method is deprecated and will be removed from pandas in a future version. Use pandas.concat instead.\n",
      "\n",
      "c:\\Users\\sebas\\miniconda3\\lib\\site-packages\\plotly\\express\\_core.py:271: FutureWarning:\n",
      "\n",
      "The frame.append method is deprecated and will be removed from pandas in a future version. Use pandas.concat instead.\n",
      "\n",
      "c:\\Users\\sebas\\miniconda3\\lib\\site-packages\\plotly\\express\\_core.py:271: FutureWarning:\n",
      "\n",
      "The frame.append method is deprecated and will be removed from pandas in a future version. Use pandas.concat instead.\n",
      "\n",
      "c:\\Users\\sebas\\miniconda3\\lib\\site-packages\\plotly\\express\\_core.py:271: FutureWarning:\n",
      "\n",
      "The frame.append method is deprecated and will be removed from pandas in a future version. Use pandas.concat instead.\n",
      "\n",
      "c:\\Users\\sebas\\miniconda3\\lib\\site-packages\\plotly\\express\\_core.py:271: FutureWarning:\n",
      "\n",
      "The frame.append method is deprecated and will be removed from pandas in a future version. Use pandas.concat instead.\n",
      "\n",
      "c:\\Users\\sebas\\miniconda3\\lib\\site-packages\\plotly\\express\\_core.py:271: FutureWarning:\n",
      "\n",
      "The frame.append method is deprecated and will be removed from pandas in a future version. Use pandas.concat instead.\n",
      "\n",
      "c:\\Users\\sebas\\miniconda3\\lib\\site-packages\\plotly\\express\\_core.py:271: FutureWarning:\n",
      "\n",
      "The frame.append method is deprecated and will be removed from pandas in a future version. Use pandas.concat instead.\n",
      "\n",
      "c:\\Users\\sebas\\miniconda3\\lib\\site-packages\\plotly\\express\\_core.py:271: FutureWarning:\n",
      "\n",
      "The frame.append method is deprecated and will be removed from pandas in a future version. Use pandas.concat instead.\n",
      "\n",
      "c:\\Users\\sebas\\miniconda3\\lib\\site-packages\\plotly\\express\\_core.py:271: FutureWarning:\n",
      "\n",
      "The frame.append method is deprecated and will be removed from pandas in a future version. Use pandas.concat instead.\n",
      "\n",
      "c:\\Users\\sebas\\miniconda3\\lib\\site-packages\\plotly\\express\\_core.py:271: FutureWarning:\n",
      "\n",
      "The frame.append method is deprecated and will be removed from pandas in a future version. Use pandas.concat instead.\n",
      "\n",
      "c:\\Users\\sebas\\miniconda3\\lib\\site-packages\\plotly\\express\\_core.py:271: FutureWarning:\n",
      "\n",
      "The frame.append method is deprecated and will be removed from pandas in a future version. Use pandas.concat instead.\n",
      "\n",
      "c:\\Users\\sebas\\miniconda3\\lib\\site-packages\\plotly\\express\\_core.py:271: FutureWarning:\n",
      "\n",
      "The frame.append method is deprecated and will be removed from pandas in a future version. Use pandas.concat instead.\n",
      "\n",
      "c:\\Users\\sebas\\miniconda3\\lib\\site-packages\\plotly\\express\\_core.py:271: FutureWarning:\n",
      "\n",
      "The frame.append method is deprecated and will be removed from pandas in a future version. Use pandas.concat instead.\n",
      "\n",
      "c:\\Users\\sebas\\miniconda3\\lib\\site-packages\\plotly\\express\\_core.py:271: FutureWarning:\n",
      "\n",
      "The frame.append method is deprecated and will be removed from pandas in a future version. Use pandas.concat instead.\n",
      "\n",
      "c:\\Users\\sebas\\miniconda3\\lib\\site-packages\\plotly\\express\\_core.py:271: FutureWarning:\n",
      "\n",
      "The frame.append method is deprecated and will be removed from pandas in a future version. Use pandas.concat instead.\n",
      "\n",
      "c:\\Users\\sebas\\miniconda3\\lib\\site-packages\\plotly\\express\\_core.py:271: FutureWarning:\n",
      "\n",
      "The frame.append method is deprecated and will be removed from pandas in a future version. Use pandas.concat instead.\n",
      "\n",
      "c:\\Users\\sebas\\miniconda3\\lib\\site-packages\\plotly\\express\\_core.py:271: FutureWarning:\n",
      "\n",
      "The frame.append method is deprecated and will be removed from pandas in a future version. Use pandas.concat instead.\n",
      "\n",
      "c:\\Users\\sebas\\miniconda3\\lib\\site-packages\\plotly\\express\\_core.py:271: FutureWarning:\n",
      "\n",
      "The frame.append method is deprecated and will be removed from pandas in a future version. Use pandas.concat instead.\n",
      "\n",
      "c:\\Users\\sebas\\miniconda3\\lib\\site-packages\\plotly\\express\\_core.py:271: FutureWarning:\n",
      "\n",
      "The frame.append method is deprecated and will be removed from pandas in a future version. Use pandas.concat instead.\n",
      "\n",
      "c:\\Users\\sebas\\miniconda3\\lib\\site-packages\\plotly\\express\\_core.py:271: FutureWarning:\n",
      "\n",
      "The frame.append method is deprecated and will be removed from pandas in a future version. Use pandas.concat instead.\n",
      "\n",
      "c:\\Users\\sebas\\miniconda3\\lib\\site-packages\\plotly\\express\\_core.py:271: FutureWarning:\n",
      "\n",
      "The frame.append method is deprecated and will be removed from pandas in a future version. Use pandas.concat instead.\n",
      "\n",
      "c:\\Users\\sebas\\miniconda3\\lib\\site-packages\\plotly\\express\\_core.py:271: FutureWarning:\n",
      "\n",
      "The frame.append method is deprecated and will be removed from pandas in a future version. Use pandas.concat instead.\n",
      "\n",
      "c:\\Users\\sebas\\miniconda3\\lib\\site-packages\\plotly\\express\\_core.py:271: FutureWarning:\n",
      "\n",
      "The frame.append method is deprecated and will be removed from pandas in a future version. Use pandas.concat instead.\n",
      "\n",
      "c:\\Users\\sebas\\miniconda3\\lib\\site-packages\\plotly\\express\\_core.py:271: FutureWarning:\n",
      "\n",
      "The frame.append method is deprecated and will be removed from pandas in a future version. Use pandas.concat instead.\n",
      "\n",
      "c:\\Users\\sebas\\miniconda3\\lib\\site-packages\\plotly\\express\\_core.py:271: FutureWarning:\n",
      "\n",
      "The frame.append method is deprecated and will be removed from pandas in a future version. Use pandas.concat instead.\n",
      "\n",
      "c:\\Users\\sebas\\miniconda3\\lib\\site-packages\\plotly\\express\\_core.py:271: FutureWarning:\n",
      "\n",
      "The frame.append method is deprecated and will be removed from pandas in a future version. Use pandas.concat instead.\n",
      "\n",
      "c:\\Users\\sebas\\miniconda3\\lib\\site-packages\\plotly\\express\\_core.py:271: FutureWarning:\n",
      "\n",
      "The frame.append method is deprecated and will be removed from pandas in a future version. Use pandas.concat instead.\n",
      "\n",
      "c:\\Users\\sebas\\miniconda3\\lib\\site-packages\\plotly\\express\\_core.py:271: FutureWarning:\n",
      "\n",
      "The frame.append method is deprecated and will be removed from pandas in a future version. Use pandas.concat instead.\n",
      "\n",
      "c:\\Users\\sebas\\miniconda3\\lib\\site-packages\\plotly\\express\\_core.py:271: FutureWarning:\n",
      "\n",
      "The frame.append method is deprecated and will be removed from pandas in a future version. Use pandas.concat instead.\n",
      "\n",
      "c:\\Users\\sebas\\miniconda3\\lib\\site-packages\\plotly\\express\\_core.py:271: FutureWarning:\n",
      "\n",
      "The frame.append method is deprecated and will be removed from pandas in a future version. Use pandas.concat instead.\n",
      "\n",
      "c:\\Users\\sebas\\miniconda3\\lib\\site-packages\\plotly\\express\\_core.py:271: FutureWarning:\n",
      "\n",
      "The frame.append method is deprecated and will be removed from pandas in a future version. Use pandas.concat instead.\n",
      "\n",
      "c:\\Users\\sebas\\miniconda3\\lib\\site-packages\\plotly\\express\\_core.py:271: FutureWarning:\n",
      "\n",
      "The frame.append method is deprecated and will be removed from pandas in a future version. Use pandas.concat instead.\n",
      "\n",
      "c:\\Users\\sebas\\miniconda3\\lib\\site-packages\\plotly\\express\\_core.py:271: FutureWarning:\n",
      "\n",
      "The frame.append method is deprecated and will be removed from pandas in a future version. Use pandas.concat instead.\n",
      "\n",
      "c:\\Users\\sebas\\miniconda3\\lib\\site-packages\\plotly\\express\\_core.py:271: FutureWarning:\n",
      "\n",
      "The frame.append method is deprecated and will be removed from pandas in a future version. Use pandas.concat instead.\n",
      "\n",
      "c:\\Users\\sebas\\miniconda3\\lib\\site-packages\\plotly\\express\\_core.py:271: FutureWarning:\n",
      "\n",
      "The frame.append method is deprecated and will be removed from pandas in a future version. Use pandas.concat instead.\n",
      "\n",
      "c:\\Users\\sebas\\miniconda3\\lib\\site-packages\\plotly\\express\\_core.py:271: FutureWarning:\n",
      "\n",
      "The frame.append method is deprecated and will be removed from pandas in a future version. Use pandas.concat instead.\n",
      "\n",
      "c:\\Users\\sebas\\miniconda3\\lib\\site-packages\\plotly\\express\\_core.py:271: FutureWarning:\n",
      "\n",
      "The frame.append method is deprecated and will be removed from pandas in a future version. Use pandas.concat instead.\n",
      "\n",
      "c:\\Users\\sebas\\miniconda3\\lib\\site-packages\\plotly\\express\\_core.py:271: FutureWarning:\n",
      "\n",
      "The frame.append method is deprecated and will be removed from pandas in a future version. Use pandas.concat instead.\n",
      "\n",
      "c:\\Users\\sebas\\miniconda3\\lib\\site-packages\\plotly\\express\\_core.py:271: FutureWarning:\n",
      "\n",
      "The frame.append method is deprecated and will be removed from pandas in a future version. Use pandas.concat instead.\n",
      "\n",
      "c:\\Users\\sebas\\miniconda3\\lib\\site-packages\\plotly\\express\\_core.py:271: FutureWarning:\n",
      "\n",
      "The frame.append method is deprecated and will be removed from pandas in a future version. Use pandas.concat instead.\n",
      "\n",
      "c:\\Users\\sebas\\miniconda3\\lib\\site-packages\\plotly\\express\\_core.py:271: FutureWarning:\n",
      "\n",
      "The frame.append method is deprecated and will be removed from pandas in a future version. Use pandas.concat instead.\n",
      "\n",
      "c:\\Users\\sebas\\miniconda3\\lib\\site-packages\\plotly\\express\\_core.py:271: FutureWarning:\n",
      "\n",
      "The frame.append method is deprecated and will be removed from pandas in a future version. Use pandas.concat instead.\n",
      "\n",
      "c:\\Users\\sebas\\miniconda3\\lib\\site-packages\\plotly\\express\\_core.py:271: FutureWarning:\n",
      "\n",
      "The frame.append method is deprecated and will be removed from pandas in a future version. Use pandas.concat instead.\n",
      "\n",
      "c:\\Users\\sebas\\miniconda3\\lib\\site-packages\\plotly\\express\\_core.py:271: FutureWarning:\n",
      "\n",
      "The frame.append method is deprecated and will be removed from pandas in a future version. Use pandas.concat instead.\n",
      "\n",
      "c:\\Users\\sebas\\miniconda3\\lib\\site-packages\\plotly\\express\\_core.py:271: FutureWarning:\n",
      "\n",
      "The frame.append method is deprecated and will be removed from pandas in a future version. Use pandas.concat instead.\n",
      "\n",
      "c:\\Users\\sebas\\miniconda3\\lib\\site-packages\\plotly\\express\\_core.py:271: FutureWarning:\n",
      "\n",
      "The frame.append method is deprecated and will be removed from pandas in a future version. Use pandas.concat instead.\n",
      "\n",
      "c:\\Users\\sebas\\miniconda3\\lib\\site-packages\\plotly\\express\\_core.py:271: FutureWarning:\n",
      "\n",
      "The frame.append method is deprecated and will be removed from pandas in a future version. Use pandas.concat instead.\n",
      "\n",
      "c:\\Users\\sebas\\miniconda3\\lib\\site-packages\\plotly\\express\\_core.py:271: FutureWarning:\n",
      "\n",
      "The frame.append method is deprecated and will be removed from pandas in a future version. Use pandas.concat instead.\n",
      "\n",
      "c:\\Users\\sebas\\miniconda3\\lib\\site-packages\\plotly\\express\\_core.py:271: FutureWarning:\n",
      "\n",
      "The frame.append method is deprecated and will be removed from pandas in a future version. Use pandas.concat instead.\n",
      "\n",
      "c:\\Users\\sebas\\miniconda3\\lib\\site-packages\\plotly\\express\\_core.py:271: FutureWarning:\n",
      "\n",
      "The frame.append method is deprecated and will be removed from pandas in a future version. Use pandas.concat instead.\n",
      "\n",
      "c:\\Users\\sebas\\miniconda3\\lib\\site-packages\\plotly\\express\\_core.py:271: FutureWarning:\n",
      "\n",
      "The frame.append method is deprecated and will be removed from pandas in a future version. Use pandas.concat instead.\n",
      "\n",
      "c:\\Users\\sebas\\miniconda3\\lib\\site-packages\\plotly\\express\\_core.py:271: FutureWarning:\n",
      "\n",
      "The frame.append method is deprecated and will be removed from pandas in a future version. Use pandas.concat instead.\n",
      "\n",
      "c:\\Users\\sebas\\miniconda3\\lib\\site-packages\\plotly\\express\\_core.py:271: FutureWarning:\n",
      "\n",
      "The frame.append method is deprecated and will be removed from pandas in a future version. Use pandas.concat instead.\n",
      "\n",
      "c:\\Users\\sebas\\miniconda3\\lib\\site-packages\\plotly\\express\\_core.py:271: FutureWarning:\n",
      "\n",
      "The frame.append method is deprecated and will be removed from pandas in a future version. Use pandas.concat instead.\n",
      "\n",
      "c:\\Users\\sebas\\miniconda3\\lib\\site-packages\\plotly\\express\\_core.py:271: FutureWarning:\n",
      "\n",
      "The frame.append method is deprecated and will be removed from pandas in a future version. Use pandas.concat instead.\n",
      "\n",
      "c:\\Users\\sebas\\miniconda3\\lib\\site-packages\\plotly\\express\\_core.py:271: FutureWarning:\n",
      "\n",
      "The frame.append method is deprecated and will be removed from pandas in a future version. Use pandas.concat instead.\n",
      "\n",
      "c:\\Users\\sebas\\miniconda3\\lib\\site-packages\\plotly\\express\\_core.py:271: FutureWarning:\n",
      "\n",
      "The frame.append method is deprecated and will be removed from pandas in a future version. Use pandas.concat instead.\n",
      "\n",
      "c:\\Users\\sebas\\miniconda3\\lib\\site-packages\\plotly\\express\\_core.py:271: FutureWarning:\n",
      "\n",
      "The frame.append method is deprecated and will be removed from pandas in a future version. Use pandas.concat instead.\n",
      "\n",
      "c:\\Users\\sebas\\miniconda3\\lib\\site-packages\\plotly\\express\\_core.py:271: FutureWarning:\n",
      "\n",
      "The frame.append method is deprecated and will be removed from pandas in a future version. Use pandas.concat instead.\n",
      "\n",
      "c:\\Users\\sebas\\miniconda3\\lib\\site-packages\\plotly\\express\\_core.py:271: FutureWarning:\n",
      "\n",
      "The frame.append method is deprecated and will be removed from pandas in a future version. Use pandas.concat instead.\n",
      "\n",
      "c:\\Users\\sebas\\miniconda3\\lib\\site-packages\\plotly\\express\\_core.py:271: FutureWarning:\n",
      "\n",
      "The frame.append method is deprecated and will be removed from pandas in a future version. Use pandas.concat instead.\n",
      "\n",
      "c:\\Users\\sebas\\miniconda3\\lib\\site-packages\\plotly\\express\\_core.py:271: FutureWarning:\n",
      "\n",
      "The frame.append method is deprecated and will be removed from pandas in a future version. Use pandas.concat instead.\n",
      "\n",
      "c:\\Users\\sebas\\miniconda3\\lib\\site-packages\\plotly\\express\\_core.py:271: FutureWarning:\n",
      "\n",
      "The frame.append method is deprecated and will be removed from pandas in a future version. Use pandas.concat instead.\n",
      "\n",
      "c:\\Users\\sebas\\miniconda3\\lib\\site-packages\\plotly\\express\\_core.py:271: FutureWarning:\n",
      "\n",
      "The frame.append method is deprecated and will be removed from pandas in a future version. Use pandas.concat instead.\n",
      "\n",
      "c:\\Users\\sebas\\miniconda3\\lib\\site-packages\\plotly\\express\\_core.py:271: FutureWarning:\n",
      "\n",
      "The frame.append method is deprecated and will be removed from pandas in a future version. Use pandas.concat instead.\n",
      "\n",
      "c:\\Users\\sebas\\miniconda3\\lib\\site-packages\\plotly\\express\\_core.py:271: FutureWarning:\n",
      "\n",
      "The frame.append method is deprecated and will be removed from pandas in a future version. Use pandas.concat instead.\n",
      "\n",
      "c:\\Users\\sebas\\miniconda3\\lib\\site-packages\\plotly\\express\\_core.py:271: FutureWarning:\n",
      "\n",
      "The frame.append method is deprecated and will be removed from pandas in a future version. Use pandas.concat instead.\n",
      "\n",
      "c:\\Users\\sebas\\miniconda3\\lib\\site-packages\\plotly\\express\\_core.py:271: FutureWarning:\n",
      "\n",
      "The frame.append method is deprecated and will be removed from pandas in a future version. Use pandas.concat instead.\n",
      "\n",
      "c:\\Users\\sebas\\miniconda3\\lib\\site-packages\\plotly\\express\\_core.py:271: FutureWarning:\n",
      "\n",
      "The frame.append method is deprecated and will be removed from pandas in a future version. Use pandas.concat instead.\n",
      "\n",
      "c:\\Users\\sebas\\miniconda3\\lib\\site-packages\\plotly\\express\\_core.py:271: FutureWarning:\n",
      "\n",
      "The frame.append method is deprecated and will be removed from pandas in a future version. Use pandas.concat instead.\n",
      "\n",
      "c:\\Users\\sebas\\miniconda3\\lib\\site-packages\\plotly\\express\\_core.py:271: FutureWarning:\n",
      "\n",
      "The frame.append method is deprecated and will be removed from pandas in a future version. Use pandas.concat instead.\n",
      "\n",
      "c:\\Users\\sebas\\miniconda3\\lib\\site-packages\\plotly\\express\\_core.py:271: FutureWarning:\n",
      "\n",
      "The frame.append method is deprecated and will be removed from pandas in a future version. Use pandas.concat instead.\n",
      "\n",
      "c:\\Users\\sebas\\miniconda3\\lib\\site-packages\\plotly\\express\\_core.py:271: FutureWarning:\n",
      "\n",
      "The frame.append method is deprecated and will be removed from pandas in a future version. Use pandas.concat instead.\n",
      "\n",
      "c:\\Users\\sebas\\miniconda3\\lib\\site-packages\\plotly\\express\\_core.py:271: FutureWarning:\n",
      "\n",
      "The frame.append method is deprecated and will be removed from pandas in a future version. Use pandas.concat instead.\n",
      "\n",
      "c:\\Users\\sebas\\miniconda3\\lib\\site-packages\\plotly\\express\\_core.py:271: FutureWarning:\n",
      "\n",
      "The frame.append method is deprecated and will be removed from pandas in a future version. Use pandas.concat instead.\n",
      "\n",
      "c:\\Users\\sebas\\miniconda3\\lib\\site-packages\\plotly\\express\\_core.py:271: FutureWarning:\n",
      "\n",
      "The frame.append method is deprecated and will be removed from pandas in a future version. Use pandas.concat instead.\n",
      "\n",
      "c:\\Users\\sebas\\miniconda3\\lib\\site-packages\\plotly\\express\\_core.py:271: FutureWarning:\n",
      "\n",
      "The frame.append method is deprecated and will be removed from pandas in a future version. Use pandas.concat instead.\n",
      "\n",
      "c:\\Users\\sebas\\miniconda3\\lib\\site-packages\\plotly\\express\\_core.py:271: FutureWarning:\n",
      "\n",
      "The frame.append method is deprecated and will be removed from pandas in a future version. Use pandas.concat instead.\n",
      "\n",
      "c:\\Users\\sebas\\miniconda3\\lib\\site-packages\\plotly\\express\\_core.py:271: FutureWarning:\n",
      "\n",
      "The frame.append method is deprecated and will be removed from pandas in a future version. Use pandas.concat instead.\n",
      "\n",
      "c:\\Users\\sebas\\miniconda3\\lib\\site-packages\\plotly\\express\\_core.py:271: FutureWarning:\n",
      "\n",
      "The frame.append method is deprecated and will be removed from pandas in a future version. Use pandas.concat instead.\n",
      "\n",
      "c:\\Users\\sebas\\miniconda3\\lib\\site-packages\\plotly\\express\\_core.py:271: FutureWarning:\n",
      "\n",
      "The frame.append method is deprecated and will be removed from pandas in a future version. Use pandas.concat instead.\n",
      "\n",
      "c:\\Users\\sebas\\miniconda3\\lib\\site-packages\\plotly\\express\\_core.py:271: FutureWarning:\n",
      "\n",
      "The frame.append method is deprecated and will be removed from pandas in a future version. Use pandas.concat instead.\n",
      "\n",
      "c:\\Users\\sebas\\miniconda3\\lib\\site-packages\\plotly\\express\\_core.py:271: FutureWarning:\n",
      "\n",
      "The frame.append method is deprecated and will be removed from pandas in a future version. Use pandas.concat instead.\n",
      "\n",
      "c:\\Users\\sebas\\miniconda3\\lib\\site-packages\\plotly\\express\\_core.py:271: FutureWarning:\n",
      "\n",
      "The frame.append method is deprecated and will be removed from pandas in a future version. Use pandas.concat instead.\n",
      "\n",
      "c:\\Users\\sebas\\miniconda3\\lib\\site-packages\\plotly\\express\\_core.py:271: FutureWarning:\n",
      "\n",
      "The frame.append method is deprecated and will be removed from pandas in a future version. Use pandas.concat instead.\n",
      "\n",
      "c:\\Users\\sebas\\miniconda3\\lib\\site-packages\\plotly\\express\\_core.py:271: FutureWarning:\n",
      "\n",
      "The frame.append method is deprecated and will be removed from pandas in a future version. Use pandas.concat instead.\n",
      "\n",
      "c:\\Users\\sebas\\miniconda3\\lib\\site-packages\\plotly\\express\\_core.py:271: FutureWarning:\n",
      "\n",
      "The frame.append method is deprecated and will be removed from pandas in a future version. Use pandas.concat instead.\n",
      "\n",
      "c:\\Users\\sebas\\miniconda3\\lib\\site-packages\\plotly\\express\\_core.py:271: FutureWarning:\n",
      "\n",
      "The frame.append method is deprecated and will be removed from pandas in a future version. Use pandas.concat instead.\n",
      "\n",
      "c:\\Users\\sebas\\miniconda3\\lib\\site-packages\\plotly\\express\\_core.py:271: FutureWarning:\n",
      "\n",
      "The frame.append method is deprecated and will be removed from pandas in a future version. Use pandas.concat instead.\n",
      "\n",
      "c:\\Users\\sebas\\miniconda3\\lib\\site-packages\\plotly\\express\\_core.py:271: FutureWarning:\n",
      "\n",
      "The frame.append method is deprecated and will be removed from pandas in a future version. Use pandas.concat instead.\n",
      "\n",
      "c:\\Users\\sebas\\miniconda3\\lib\\site-packages\\plotly\\express\\_core.py:271: FutureWarning:\n",
      "\n",
      "The frame.append method is deprecated and will be removed from pandas in a future version. Use pandas.concat instead.\n",
      "\n",
      "c:\\Users\\sebas\\miniconda3\\lib\\site-packages\\plotly\\express\\_core.py:271: FutureWarning:\n",
      "\n",
      "The frame.append method is deprecated and will be removed from pandas in a future version. Use pandas.concat instead.\n",
      "\n",
      "c:\\Users\\sebas\\miniconda3\\lib\\site-packages\\plotly\\express\\_core.py:271: FutureWarning:\n",
      "\n",
      "The frame.append method is deprecated and will be removed from pandas in a future version. Use pandas.concat instead.\n",
      "\n",
      "c:\\Users\\sebas\\miniconda3\\lib\\site-packages\\plotly\\express\\_core.py:271: FutureWarning:\n",
      "\n",
      "The frame.append method is deprecated and will be removed from pandas in a future version. Use pandas.concat instead.\n",
      "\n",
      "c:\\Users\\sebas\\miniconda3\\lib\\site-packages\\plotly\\express\\_core.py:271: FutureWarning:\n",
      "\n",
      "The frame.append method is deprecated and will be removed from pandas in a future version. Use pandas.concat instead.\n",
      "\n",
      "c:\\Users\\sebas\\miniconda3\\lib\\site-packages\\plotly\\express\\_core.py:271: FutureWarning:\n",
      "\n",
      "The frame.append method is deprecated and will be removed from pandas in a future version. Use pandas.concat instead.\n",
      "\n",
      "c:\\Users\\sebas\\miniconda3\\lib\\site-packages\\plotly\\express\\_core.py:271: FutureWarning:\n",
      "\n",
      "The frame.append method is deprecated and will be removed from pandas in a future version. Use pandas.concat instead.\n",
      "\n",
      "c:\\Users\\sebas\\miniconda3\\lib\\site-packages\\plotly\\express\\_core.py:271: FutureWarning:\n",
      "\n",
      "The frame.append method is deprecated and will be removed from pandas in a future version. Use pandas.concat instead.\n",
      "\n",
      "c:\\Users\\sebas\\miniconda3\\lib\\site-packages\\plotly\\express\\_core.py:271: FutureWarning:\n",
      "\n",
      "The frame.append method is deprecated and will be removed from pandas in a future version. Use pandas.concat instead.\n",
      "\n",
      "c:\\Users\\sebas\\miniconda3\\lib\\site-packages\\plotly\\express\\_core.py:271: FutureWarning:\n",
      "\n",
      "The frame.append method is deprecated and will be removed from pandas in a future version. Use pandas.concat instead.\n",
      "\n",
      "c:\\Users\\sebas\\miniconda3\\lib\\site-packages\\plotly\\express\\_core.py:271: FutureWarning:\n",
      "\n",
      "The frame.append method is deprecated and will be removed from pandas in a future version. Use pandas.concat instead.\n",
      "\n",
      "c:\\Users\\sebas\\miniconda3\\lib\\site-packages\\plotly\\express\\_core.py:271: FutureWarning:\n",
      "\n",
      "The frame.append method is deprecated and will be removed from pandas in a future version. Use pandas.concat instead.\n",
      "\n",
      "c:\\Users\\sebas\\miniconda3\\lib\\site-packages\\plotly\\express\\_core.py:271: FutureWarning:\n",
      "\n",
      "The frame.append method is deprecated and will be removed from pandas in a future version. Use pandas.concat instead.\n",
      "\n",
      "c:\\Users\\sebas\\miniconda3\\lib\\site-packages\\plotly\\express\\_core.py:271: FutureWarning:\n",
      "\n",
      "The frame.append method is deprecated and will be removed from pandas in a future version. Use pandas.concat instead.\n",
      "\n",
      "c:\\Users\\sebas\\miniconda3\\lib\\site-packages\\plotly\\express\\_core.py:271: FutureWarning:\n",
      "\n",
      "The frame.append method is deprecated and will be removed from pandas in a future version. Use pandas.concat instead.\n",
      "\n",
      "c:\\Users\\sebas\\miniconda3\\lib\\site-packages\\plotly\\express\\_core.py:271: FutureWarning:\n",
      "\n",
      "The frame.append method is deprecated and will be removed from pandas in a future version. Use pandas.concat instead.\n",
      "\n",
      "c:\\Users\\sebas\\miniconda3\\lib\\site-packages\\plotly\\express\\_core.py:271: FutureWarning:\n",
      "\n",
      "The frame.append method is deprecated and will be removed from pandas in a future version. Use pandas.concat instead.\n",
      "\n",
      "c:\\Users\\sebas\\miniconda3\\lib\\site-packages\\plotly\\express\\_core.py:271: FutureWarning:\n",
      "\n",
      "The frame.append method is deprecated and will be removed from pandas in a future version. Use pandas.concat instead.\n",
      "\n",
      "c:\\Users\\sebas\\miniconda3\\lib\\site-packages\\plotly\\express\\_core.py:271: FutureWarning:\n",
      "\n",
      "The frame.append method is deprecated and will be removed from pandas in a future version. Use pandas.concat instead.\n",
      "\n",
      "c:\\Users\\sebas\\miniconda3\\lib\\site-packages\\plotly\\express\\_core.py:271: FutureWarning:\n",
      "\n",
      "The frame.append method is deprecated and will be removed from pandas in a future version. Use pandas.concat instead.\n",
      "\n",
      "c:\\Users\\sebas\\miniconda3\\lib\\site-packages\\plotly\\express\\_core.py:271: FutureWarning:\n",
      "\n",
      "The frame.append method is deprecated and will be removed from pandas in a future version. Use pandas.concat instead.\n",
      "\n",
      "c:\\Users\\sebas\\miniconda3\\lib\\site-packages\\plotly\\express\\_core.py:271: FutureWarning:\n",
      "\n",
      "The frame.append method is deprecated and will be removed from pandas in a future version. Use pandas.concat instead.\n",
      "\n",
      "c:\\Users\\sebas\\miniconda3\\lib\\site-packages\\plotly\\express\\_core.py:271: FutureWarning:\n",
      "\n",
      "The frame.append method is deprecated and will be removed from pandas in a future version. Use pandas.concat instead.\n",
      "\n",
      "c:\\Users\\sebas\\miniconda3\\lib\\site-packages\\plotly\\express\\_core.py:271: FutureWarning:\n",
      "\n",
      "The frame.append method is deprecated and will be removed from pandas in a future version. Use pandas.concat instead.\n",
      "\n",
      "c:\\Users\\sebas\\miniconda3\\lib\\site-packages\\plotly\\express\\_core.py:271: FutureWarning:\n",
      "\n",
      "The frame.append method is deprecated and will be removed from pandas in a future version. Use pandas.concat instead.\n",
      "\n",
      "c:\\Users\\sebas\\miniconda3\\lib\\site-packages\\plotly\\express\\_core.py:271: FutureWarning:\n",
      "\n",
      "The frame.append method is deprecated and will be removed from pandas in a future version. Use pandas.concat instead.\n",
      "\n",
      "c:\\Users\\sebas\\miniconda3\\lib\\site-packages\\plotly\\express\\_core.py:271: FutureWarning:\n",
      "\n",
      "The frame.append method is deprecated and will be removed from pandas in a future version. Use pandas.concat instead.\n",
      "\n",
      "c:\\Users\\sebas\\miniconda3\\lib\\site-packages\\plotly\\express\\_core.py:271: FutureWarning:\n",
      "\n",
      "The frame.append method is deprecated and will be removed from pandas in a future version. Use pandas.concat instead.\n",
      "\n",
      "c:\\Users\\sebas\\miniconda3\\lib\\site-packages\\plotly\\express\\_core.py:271: FutureWarning:\n",
      "\n",
      "The frame.append method is deprecated and will be removed from pandas in a future version. Use pandas.concat instead.\n",
      "\n",
      "c:\\Users\\sebas\\miniconda3\\lib\\site-packages\\plotly\\express\\_core.py:271: FutureWarning:\n",
      "\n",
      "The frame.append method is deprecated and will be removed from pandas in a future version. Use pandas.concat instead.\n",
      "\n",
      "c:\\Users\\sebas\\miniconda3\\lib\\site-packages\\plotly\\express\\_core.py:271: FutureWarning:\n",
      "\n",
      "The frame.append method is deprecated and will be removed from pandas in a future version. Use pandas.concat instead.\n",
      "\n",
      "c:\\Users\\sebas\\miniconda3\\lib\\site-packages\\plotly\\express\\_core.py:271: FutureWarning:\n",
      "\n",
      "The frame.append method is deprecated and will be removed from pandas in a future version. Use pandas.concat instead.\n",
      "\n",
      "c:\\Users\\sebas\\miniconda3\\lib\\site-packages\\plotly\\express\\_core.py:271: FutureWarning:\n",
      "\n",
      "The frame.append method is deprecated and will be removed from pandas in a future version. Use pandas.concat instead.\n",
      "\n",
      "c:\\Users\\sebas\\miniconda3\\lib\\site-packages\\plotly\\express\\_core.py:271: FutureWarning:\n",
      "\n",
      "The frame.append method is deprecated and will be removed from pandas in a future version. Use pandas.concat instead.\n",
      "\n",
      "c:\\Users\\sebas\\miniconda3\\lib\\site-packages\\plotly\\express\\_core.py:271: FutureWarning:\n",
      "\n",
      "The frame.append method is deprecated and will be removed from pandas in a future version. Use pandas.concat instead.\n",
      "\n",
      "c:\\Users\\sebas\\miniconda3\\lib\\site-packages\\plotly\\express\\_core.py:271: FutureWarning:\n",
      "\n",
      "The frame.append method is deprecated and will be removed from pandas in a future version. Use pandas.concat instead.\n",
      "\n",
      "c:\\Users\\sebas\\miniconda3\\lib\\site-packages\\plotly\\express\\_core.py:271: FutureWarning:\n",
      "\n",
      "The frame.append method is deprecated and will be removed from pandas in a future version. Use pandas.concat instead.\n",
      "\n",
      "c:\\Users\\sebas\\miniconda3\\lib\\site-packages\\plotly\\express\\_core.py:271: FutureWarning:\n",
      "\n",
      "The frame.append method is deprecated and will be removed from pandas in a future version. Use pandas.concat instead.\n",
      "\n",
      "c:\\Users\\sebas\\miniconda3\\lib\\site-packages\\plotly\\express\\_core.py:271: FutureWarning:\n",
      "\n",
      "The frame.append method is deprecated and will be removed from pandas in a future version. Use pandas.concat instead.\n",
      "\n",
      "c:\\Users\\sebas\\miniconda3\\lib\\site-packages\\plotly\\express\\_core.py:271: FutureWarning:\n",
      "\n",
      "The frame.append method is deprecated and will be removed from pandas in a future version. Use pandas.concat instead.\n",
      "\n",
      "c:\\Users\\sebas\\miniconda3\\lib\\site-packages\\plotly\\express\\_core.py:271: FutureWarning:\n",
      "\n",
      "The frame.append method is deprecated and will be removed from pandas in a future version. Use pandas.concat instead.\n",
      "\n",
      "c:\\Users\\sebas\\miniconda3\\lib\\site-packages\\plotly\\express\\_core.py:271: FutureWarning:\n",
      "\n",
      "The frame.append method is deprecated and will be removed from pandas in a future version. Use pandas.concat instead.\n",
      "\n",
      "c:\\Users\\sebas\\miniconda3\\lib\\site-packages\\plotly\\express\\_core.py:271: FutureWarning:\n",
      "\n",
      "The frame.append method is deprecated and will be removed from pandas in a future version. Use pandas.concat instead.\n",
      "\n",
      "c:\\Users\\sebas\\miniconda3\\lib\\site-packages\\plotly\\express\\_core.py:271: FutureWarning:\n",
      "\n",
      "The frame.append method is deprecated and will be removed from pandas in a future version. Use pandas.concat instead.\n",
      "\n",
      "c:\\Users\\sebas\\miniconda3\\lib\\site-packages\\plotly\\express\\_core.py:271: FutureWarning:\n",
      "\n",
      "The frame.append method is deprecated and will be removed from pandas in a future version. Use pandas.concat instead.\n",
      "\n",
      "c:\\Users\\sebas\\miniconda3\\lib\\site-packages\\plotly\\express\\_core.py:271: FutureWarning:\n",
      "\n",
      "The frame.append method is deprecated and will be removed from pandas in a future version. Use pandas.concat instead.\n",
      "\n",
      "c:\\Users\\sebas\\miniconda3\\lib\\site-packages\\plotly\\express\\_core.py:271: FutureWarning:\n",
      "\n",
      "The frame.append method is deprecated and will be removed from pandas in a future version. Use pandas.concat instead.\n",
      "\n",
      "c:\\Users\\sebas\\miniconda3\\lib\\site-packages\\plotly\\express\\_core.py:271: FutureWarning:\n",
      "\n",
      "The frame.append method is deprecated and will be removed from pandas in a future version. Use pandas.concat instead.\n",
      "\n",
      "c:\\Users\\sebas\\miniconda3\\lib\\site-packages\\plotly\\express\\_core.py:271: FutureWarning:\n",
      "\n",
      "The frame.append method is deprecated and will be removed from pandas in a future version. Use pandas.concat instead.\n",
      "\n",
      "c:\\Users\\sebas\\miniconda3\\lib\\site-packages\\plotly\\express\\_core.py:271: FutureWarning:\n",
      "\n",
      "The frame.append method is deprecated and will be removed from pandas in a future version. Use pandas.concat instead.\n",
      "\n",
      "c:\\Users\\sebas\\miniconda3\\lib\\site-packages\\plotly\\express\\_core.py:271: FutureWarning:\n",
      "\n",
      "The frame.append method is deprecated and will be removed from pandas in a future version. Use pandas.concat instead.\n",
      "\n",
      "c:\\Users\\sebas\\miniconda3\\lib\\site-packages\\plotly\\express\\_core.py:271: FutureWarning:\n",
      "\n",
      "The frame.append method is deprecated and will be removed from pandas in a future version. Use pandas.concat instead.\n",
      "\n",
      "c:\\Users\\sebas\\miniconda3\\lib\\site-packages\\plotly\\express\\_core.py:271: FutureWarning:\n",
      "\n",
      "The frame.append method is deprecated and will be removed from pandas in a future version. Use pandas.concat instead.\n",
      "\n",
      "c:\\Users\\sebas\\miniconda3\\lib\\site-packages\\plotly\\express\\_core.py:271: FutureWarning:\n",
      "\n",
      "The frame.append method is deprecated and will be removed from pandas in a future version. Use pandas.concat instead.\n",
      "\n",
      "c:\\Users\\sebas\\miniconda3\\lib\\site-packages\\plotly\\express\\_core.py:271: FutureWarning:\n",
      "\n",
      "The frame.append method is deprecated and will be removed from pandas in a future version. Use pandas.concat instead.\n",
      "\n",
      "c:\\Users\\sebas\\miniconda3\\lib\\site-packages\\plotly\\express\\_core.py:271: FutureWarning:\n",
      "\n",
      "The frame.append method is deprecated and will be removed from pandas in a future version. Use pandas.concat instead.\n",
      "\n",
      "c:\\Users\\sebas\\miniconda3\\lib\\site-packages\\plotly\\express\\_core.py:271: FutureWarning:\n",
      "\n",
      "The frame.append method is deprecated and will be removed from pandas in a future version. Use pandas.concat instead.\n",
      "\n",
      "c:\\Users\\sebas\\miniconda3\\lib\\site-packages\\plotly\\express\\_core.py:271: FutureWarning:\n",
      "\n",
      "The frame.append method is deprecated and will be removed from pandas in a future version. Use pandas.concat instead.\n",
      "\n",
      "c:\\Users\\sebas\\miniconda3\\lib\\site-packages\\plotly\\express\\_core.py:271: FutureWarning:\n",
      "\n",
      "The frame.append method is deprecated and will be removed from pandas in a future version. Use pandas.concat instead.\n",
      "\n",
      "c:\\Users\\sebas\\miniconda3\\lib\\site-packages\\plotly\\express\\_core.py:271: FutureWarning:\n",
      "\n",
      "The frame.append method is deprecated and will be removed from pandas in a future version. Use pandas.concat instead.\n",
      "\n",
      "c:\\Users\\sebas\\miniconda3\\lib\\site-packages\\plotly\\express\\_core.py:271: FutureWarning:\n",
      "\n",
      "The frame.append method is deprecated and will be removed from pandas in a future version. Use pandas.concat instead.\n",
      "\n",
      "c:\\Users\\sebas\\miniconda3\\lib\\site-packages\\plotly\\express\\_core.py:271: FutureWarning:\n",
      "\n",
      "The frame.append method is deprecated and will be removed from pandas in a future version. Use pandas.concat instead.\n",
      "\n",
      "c:\\Users\\sebas\\miniconda3\\lib\\site-packages\\plotly\\express\\_core.py:271: FutureWarning:\n",
      "\n",
      "The frame.append method is deprecated and will be removed from pandas in a future version. Use pandas.concat instead.\n",
      "\n",
      "c:\\Users\\sebas\\miniconda3\\lib\\site-packages\\plotly\\express\\_core.py:271: FutureWarning:\n",
      "\n",
      "The frame.append method is deprecated and will be removed from pandas in a future version. Use pandas.concat instead.\n",
      "\n",
      "c:\\Users\\sebas\\miniconda3\\lib\\site-packages\\plotly\\express\\_core.py:271: FutureWarning:\n",
      "\n",
      "The frame.append method is deprecated and will be removed from pandas in a future version. Use pandas.concat instead.\n",
      "\n",
      "c:\\Users\\sebas\\miniconda3\\lib\\site-packages\\plotly\\express\\_core.py:271: FutureWarning:\n",
      "\n",
      "The frame.append method is deprecated and will be removed from pandas in a future version. Use pandas.concat instead.\n",
      "\n",
      "c:\\Users\\sebas\\miniconda3\\lib\\site-packages\\plotly\\express\\_core.py:271: FutureWarning:\n",
      "\n",
      "The frame.append method is deprecated and will be removed from pandas in a future version. Use pandas.concat instead.\n",
      "\n",
      "c:\\Users\\sebas\\miniconda3\\lib\\site-packages\\plotly\\express\\_core.py:271: FutureWarning:\n",
      "\n",
      "The frame.append method is deprecated and will be removed from pandas in a future version. Use pandas.concat instead.\n",
      "\n",
      "c:\\Users\\sebas\\miniconda3\\lib\\site-packages\\plotly\\express\\_core.py:271: FutureWarning:\n",
      "\n",
      "The frame.append method is deprecated and will be removed from pandas in a future version. Use pandas.concat instead.\n",
      "\n",
      "c:\\Users\\sebas\\miniconda3\\lib\\site-packages\\plotly\\express\\_core.py:271: FutureWarning:\n",
      "\n",
      "The frame.append method is deprecated and will be removed from pandas in a future version. Use pandas.concat instead.\n",
      "\n",
      "c:\\Users\\sebas\\miniconda3\\lib\\site-packages\\plotly\\express\\_core.py:271: FutureWarning:\n",
      "\n",
      "The frame.append method is deprecated and will be removed from pandas in a future version. Use pandas.concat instead.\n",
      "\n",
      "c:\\Users\\sebas\\miniconda3\\lib\\site-packages\\plotly\\express\\_core.py:271: FutureWarning:\n",
      "\n",
      "The frame.append method is deprecated and will be removed from pandas in a future version. Use pandas.concat instead.\n",
      "\n",
      "c:\\Users\\sebas\\miniconda3\\lib\\site-packages\\plotly\\express\\_core.py:271: FutureWarning:\n",
      "\n",
      "The frame.append method is deprecated and will be removed from pandas in a future version. Use pandas.concat instead.\n",
      "\n",
      "c:\\Users\\sebas\\miniconda3\\lib\\site-packages\\plotly\\express\\_core.py:271: FutureWarning:\n",
      "\n",
      "The frame.append method is deprecated and will be removed from pandas in a future version. Use pandas.concat instead.\n",
      "\n",
      "c:\\Users\\sebas\\miniconda3\\lib\\site-packages\\plotly\\express\\_core.py:271: FutureWarning:\n",
      "\n",
      "The frame.append method is deprecated and will be removed from pandas in a future version. Use pandas.concat instead.\n",
      "\n",
      "c:\\Users\\sebas\\miniconda3\\lib\\site-packages\\plotly\\express\\_core.py:271: FutureWarning:\n",
      "\n",
      "The frame.append method is deprecated and will be removed from pandas in a future version. Use pandas.concat instead.\n",
      "\n"
     ]
    },
    {
     "data": {
      "application/vnd.plotly.v1+json": {
       "config": {
        "plotlyServerURL": "https://plot.ly"
       },
       "data": [
        {
         "hovertemplate": "name=7een Maysara (Molowave)<br>value=%{r}<br>variable=%{theta}<extra></extra>",
         "legendgroup": "7een Maysara (Molowave)",
         "line": {
          "color": "#636efa",
          "dash": "solid"
         },
         "marker": {
          "symbol": "circle"
         },
         "mode": "lines",
         "name": "7een Maysara (Molowave)",
         "opacity": 0.7,
         "r": [
          0.66,
          0.746,
          0.0331,
          0.04,
          0.111,
          0.407,
          0.66
         ],
         "showlegend": true,
         "subplot": "polar",
         "theta": [
          "danceability",
          "energy",
          "speechiness",
          "acousticness",
          "liveness",
          "valence",
          "danceability"
         ],
         "type": "scatterpolargl"
        },
        {
         "hovertemplate": "name=About Damn Time<br>value=%{r}<br>variable=%{theta}<extra></extra>",
         "legendgroup": "About Damn Time",
         "line": {
          "color": "#EF553B",
          "dash": "solid"
         },
         "marker": {
          "symbol": "circle"
         },
         "mode": "lines",
         "name": "About Damn Time",
         "opacity": 0.7,
         "r": [
          0.8356666666666666,
          0.7443333333333334,
          0.06446666666666667,
          0.10000000000000002,
          0.3416666666666666,
          0.719,
          0.8356666666666666
         ],
         "showlegend": true,
         "subplot": "polar",
         "theta": [
          "danceability",
          "energy",
          "speechiness",
          "acousticness",
          "liveness",
          "valence",
          "danceability"
         ],
         "type": "scatterpolargl"
        },
        {
         "hovertemplate": "name=Adriana Lima<br>value=%{r}<br>variable=%{theta}<extra></extra>",
         "legendgroup": "Adriana Lima",
         "line": {
          "color": "#00cc96",
          "dash": "solid"
         },
         "marker": {
          "symbol": "circle"
         },
         "mode": "lines",
         "name": "Adriana Lima",
         "opacity": 0.7,
         "r": [
          0.7,
          0.505,
          0.111,
          0.268,
          0.267,
          0.36,
          0.7
         ],
         "showlegend": true,
         "subplot": "polar",
         "theta": [
          "danceability",
          "energy",
          "speechiness",
          "acousticness",
          "liveness",
          "valence",
          "danceability"
         ],
         "type": "scatterpolargl"
        },
        {
         "hovertemplate": "name=Aleky Eyoun<br>value=%{r}<br>variable=%{theta}<extra></extra>",
         "legendgroup": "Aleky Eyoun",
         "line": {
          "color": "#ab63fa",
          "dash": "solid"
         },
         "marker": {
          "symbol": "circle"
         },
         "mode": "lines",
         "name": "Aleky Eyoun",
         "opacity": 0.7,
         "r": [
          0.695,
          0.391,
          0.0441,
          0.734,
          0.14,
          0.355,
          0.695
         ],
         "showlegend": true,
         "subplot": "polar",
         "theta": [
          "danceability",
          "energy",
          "speechiness",
          "acousticness",
          "liveness",
          "valence",
          "danceability"
         ],
         "type": "scatterpolargl"
        },
        {
         "hovertemplate": "name=All That She Wants<br>value=%{r}<br>variable=%{theta}<extra></extra>",
         "legendgroup": "All That She Wants",
         "line": {
          "color": "#FFA15A",
          "dash": "solid"
         },
         "marker": {
          "symbol": "circle"
         },
         "mode": "lines",
         "name": "All That She Wants",
         "opacity": 0.7,
         "r": [
          0.634,
          0.711,
          0.0378,
          0.00677,
          0.0561,
          0.39,
          0.634
         ],
         "showlegend": true,
         "subplot": "polar",
         "theta": [
          "danceability",
          "energy",
          "speechiness",
          "acousticness",
          "liveness",
          "valence",
          "danceability"
         ],
         "type": "scatterpolargl"
        },
        {
         "hovertemplate": "name=All the Way (i got married at 26)<br>value=%{r}<br>variable=%{theta}<extra></extra>",
         "legendgroup": "All the Way (i got married at 26)",
         "line": {
          "color": "#19d3f3",
          "dash": "solid"
         },
         "marker": {
          "symbol": "circle"
         },
         "mode": "lines",
         "name": "All the Way (i got married at 26)",
         "opacity": 0.7,
         "r": [
          0.7399999999999999,
          0.533,
          0.0446,
          0.379,
          0.118,
          0.34800000000000003,
          0.7399999999999999
         ],
         "showlegend": true,
         "subplot": "polar",
         "theta": [
          "danceability",
          "energy",
          "speechiness",
          "acousticness",
          "liveness",
          "valence",
          "danceability"
         ],
         "type": "scatterpolargl"
        },
        {
         "hovertemplate": "name=Aloomek<br>value=%{r}<br>variable=%{theta}<extra></extra>",
         "legendgroup": "Aloomek",
         "line": {
          "color": "#FF6692",
          "dash": "solid"
         },
         "marker": {
          "symbol": "circle"
         },
         "mode": "lines",
         "name": "Aloomek",
         "opacity": 0.7,
         "r": [
          0.84,
          0.327,
          0.306,
          0.651,
          0.105,
          0.367,
          0.84
         ],
         "showlegend": true,
         "subplot": "polar",
         "theta": [
          "danceability",
          "energy",
          "speechiness",
          "acousticness",
          "liveness",
          "valence",
          "danceability"
         ],
         "type": "scatterpolargl"
        },
        {
         "hovertemplate": "name=Another Love<br>value=%{r}<br>variable=%{theta}<extra></extra>",
         "legendgroup": "Another Love",
         "line": {
          "color": "#B6E880",
          "dash": "solid"
         },
         "marker": {
          "symbol": "circle"
         },
         "mode": "lines",
         "name": "Another Love",
         "opacity": 0.7,
         "r": [
          0.442,
          0.538,
          0.0451,
          0.717,
          0.09,
          0.139,
          0.442
         ],
         "showlegend": true,
         "subplot": "polar",
         "theta": [
          "danceability",
          "energy",
          "speechiness",
          "acousticness",
          "liveness",
          "valence",
          "danceability"
         ],
         "type": "scatterpolargl"
        },
        {
         "hovertemplate": "name=As It Was<br>value=%{r}<br>variable=%{theta}<extra></extra>",
         "legendgroup": "As It Was",
         "line": {
          "color": "#FF97FF",
          "dash": "solid"
         },
         "marker": {
          "symbol": "circle"
         },
         "mode": "lines",
         "name": "As It Was",
         "opacity": 0.7,
         "r": [
          0.52,
          0.731,
          0.05569999999999999,
          0.342,
          0.311,
          0.662,
          0.52
         ],
         "showlegend": true,
         "subplot": "polar",
         "theta": [
          "danceability",
          "energy",
          "speechiness",
          "acousticness",
          "liveness",
          "valence",
          "danceability"
         ],
         "type": "scatterpolargl"
        },
        {
         "hovertemplate": "name=BARBARY<br>value=%{r}<br>variable=%{theta}<extra></extra>",
         "legendgroup": "BARBARY",
         "line": {
          "color": "#FECB52",
          "dash": "solid"
         },
         "marker": {
          "symbol": "circle"
         },
         "mode": "lines",
         "name": "BARBARY",
         "opacity": 0.7,
         "r": [
          0.531,
          0.65,
          0.148,
          0.0774,
          0.0991,
          0.422,
          0.531
         ],
         "showlegend": true,
         "subplot": "polar",
         "theta": [
          "danceability",
          "energy",
          "speechiness",
          "acousticness",
          "liveness",
          "valence",
          "danceability"
         ],
         "type": "scatterpolargl"
        },
        {
         "hovertemplate": "name=BEDOESIARA<br>value=%{r}<br>variable=%{theta}<extra></extra>",
         "legendgroup": "BEDOESIARA",
         "line": {
          "color": "#636efa",
          "dash": "solid"
         },
         "marker": {
          "symbol": "circle"
         },
         "mode": "lines",
         "name": "BEDOESIARA",
         "opacity": 0.7,
         "r": [
          0.919,
          0.575,
          0.242,
          0.228,
          0.114,
          0.717,
          0.919
         ],
         "showlegend": true,
         "subplot": "polar",
         "theta": [
          "danceability",
          "energy",
          "speechiness",
          "acousticness",
          "liveness",
          "valence",
          "danceability"
         ],
         "type": "scatterpolargl"
        },
        {
         "hovertemplate": "name=Bam Bam (feat. Ed Sheeran)<br>value=%{r}<br>variable=%{theta}<extra></extra>",
         "legendgroup": "Bam Bam (feat. Ed Sheeran)",
         "line": {
          "color": "#EF553B",
          "dash": "solid"
         },
         "marker": {
          "symbol": "circle"
         },
         "mode": "lines",
         "name": "Bam Bam (feat. Ed Sheeran)",
         "opacity": 0.7,
         "r": [
          0.756,
          0.697,
          0.0401,
          0.182,
          0.333,
          0.956,
          0.756
         ],
         "showlegend": true,
         "subplot": "polar",
         "theta": [
          "danceability",
          "energy",
          "speechiness",
          "acousticness",
          "liveness",
          "valence",
          "danceability"
         ],
         "type": "scatterpolargl"
        },
        {
         "hovertemplate": "name=Best Friends<br>value=%{r}<br>variable=%{theta}<extra></extra>",
         "legendgroup": "Best Friends",
         "line": {
          "color": "#00cc96",
          "dash": "solid"
         },
         "marker": {
          "symbol": "circle"
         },
         "mode": "lines",
         "name": "Best Friends",
         "opacity": 0.7,
         "r": [
          0.7440000000000001,
          0.534,
          0.0645,
          0.627,
          0.137,
          0.57,
          0.7440000000000001
         ],
         "showlegend": true,
         "subplot": "polar",
         "theta": [
          "danceability",
          "energy",
          "speechiness",
          "acousticness",
          "liveness",
          "valence",
          "danceability"
         ],
         "type": "scatterpolargl"
        },
        {
         "hovertemplate": "name=Betadeen<br>value=%{r}<br>variable=%{theta}<extra></extra>",
         "legendgroup": "Betadeen",
         "line": {
          "color": "#ab63fa",
          "dash": "solid"
         },
         "marker": {
          "symbol": "circle"
         },
         "mode": "lines",
         "name": "Betadeen",
         "opacity": 0.7,
         "r": [
          0.773,
          0.521,
          0.131,
          0.752,
          0.0923,
          0.537,
          0.773
         ],
         "showlegend": true,
         "subplot": "polar",
         "theta": [
          "danceability",
          "energy",
          "speechiness",
          "acousticness",
          "liveness",
          "valence",
          "danceability"
         ],
         "type": "scatterpolargl"
        },
        {
         "hovertemplate": "name=Boyfriends<br>value=%{r}<br>variable=%{theta}<extra></extra>",
         "legendgroup": "Boyfriends",
         "line": {
          "color": "#FFA15A",
          "dash": "solid"
         },
         "marker": {
          "symbol": "circle"
         },
         "mode": "lines",
         "name": "Boyfriends",
         "opacity": 0.7,
         "r": [
          0.417,
          0.202,
          0.0357,
          0.935,
          0.108,
          0.323,
          0.417
         ],
         "showlegend": true,
         "subplot": "polar",
         "theta": [
          "danceability",
          "energy",
          "speechiness",
          "acousticness",
          "liveness",
          "valence",
          "danceability"
         ],
         "type": "scatterpolargl"
        },
        {
         "hovertemplate": "name=Brrr Brrr Brrr<br>value=%{r}<br>variable=%{theta}<extra></extra>",
         "legendgroup": "Brrr Brrr Brrr",
         "line": {
          "color": "#19d3f3",
          "dash": "solid"
         },
         "marker": {
          "symbol": "circle"
         },
         "mode": "lines",
         "name": "Brrr Brrr Brrr",
         "opacity": 0.7,
         "r": [
          0.852,
          0.688,
          0.211,
          0.485,
          0.199,
          0.673,
          0.852
         ],
         "showlegend": true,
         "subplot": "polar",
         "theta": [
          "danceability",
          "energy",
          "speechiness",
          "acousticness",
          "liveness",
          "valence",
          "danceability"
         ],
         "type": "scatterpolargl"
        },
        {
         "hovertemplate": "name=Butter<br>value=%{r}<br>variable=%{theta}<extra></extra>",
         "legendgroup": "Butter",
         "line": {
          "color": "#FF6692",
          "dash": "solid"
         },
         "marker": {
          "symbol": "circle"
         },
         "mode": "lines",
         "name": "Butter",
         "opacity": 0.7,
         "r": [
          0.759,
          0.459,
          0.0948,
          0.00323,
          0.0906,
          0.695,
          0.759
         ],
         "showlegend": true,
         "subplot": "polar",
         "theta": [
          "danceability",
          "energy",
          "speechiness",
          "acousticness",
          "liveness",
          "valence",
          "danceability"
         ],
         "type": "scatterpolargl"
        },
        {
         "hovertemplate": "name=CITRUS<br>value=%{r}<br>variable=%{theta}<extra></extra>",
         "legendgroup": "CITRUS",
         "line": {
          "color": "#B6E880",
          "dash": "solid"
         },
         "marker": {
          "symbol": "circle"
         },
         "mode": "lines",
         "name": "CITRUS",
         "opacity": 0.7,
         "r": [
          0.549,
          0.861,
          0.0459,
          0.22,
          0.361,
          0.739,
          0.549
         ],
         "showlegend": true,
         "subplot": "polar",
         "theta": [
          "danceability",
          "energy",
          "speechiness",
          "acousticness",
          "liveness",
          "valence",
          "danceability"
         ],
         "type": "scatterpolargl"
        },
        {
         "hovertemplate": "name=Chaos<br>value=%{r}<br>variable=%{theta}<extra></extra>",
         "legendgroup": "Chaos",
         "line": {
          "color": "#FF97FF",
          "dash": "solid"
         },
         "marker": {
          "symbol": "circle"
         },
         "mode": "lines",
         "name": "Chaos",
         "opacity": 0.7,
         "r": [
          0.668,
          0.456,
          0.0586,
          0.253,
          0.112,
          0.303,
          0.668
         ],
         "showlegend": true,
         "subplot": "polar",
         "theta": [
          "danceability",
          "energy",
          "speechiness",
          "acousticness",
          "liveness",
          "valence",
          "danceability"
         ],
         "type": "scatterpolargl"
        },
        {
         "hovertemplate": "name=Cinema<br>value=%{r}<br>variable=%{theta}<extra></extra>",
         "legendgroup": "Cinema",
         "line": {
          "color": "#FECB52",
          "dash": "solid"
         },
         "marker": {
          "symbol": "circle"
         },
         "mode": "lines",
         "name": "Cinema",
         "opacity": 0.7,
         "r": [
          0.829,
          0.644,
          0.0427,
          0.354,
          0.0944,
          0.896,
          0.829
         ],
         "showlegend": true,
         "subplot": "polar",
         "theta": [
          "danceability",
          "energy",
          "speechiness",
          "acousticness",
          "liveness",
          "valence",
          "danceability"
         ],
         "type": "scatterpolargl"
        },
        {
         "hovertemplate": "name=Cold Heart - PNAU Remix<br>value=%{r}<br>variable=%{theta}<extra></extra>",
         "legendgroup": "Cold Heart - PNAU Remix",
         "line": {
          "color": "#636efa",
          "dash": "solid"
         },
         "marker": {
          "symbol": "circle"
         },
         "mode": "lines",
         "name": "Cold Heart - PNAU Remix",
         "opacity": 0.7,
         "r": [
          0.795,
          0.8000000000000002,
          0.0309,
          0.0354,
          0.09149999999999998,
          0.934,
          0.795
         ],
         "showlegend": true,
         "subplot": "polar",
         "theta": [
          "danceability",
          "energy",
          "speechiness",
          "acousticness",
          "liveness",
          "valence",
          "danceability"
         ],
         "type": "scatterpolargl"
        },
        {
         "hovertemplate": "name=Complifuckincated<br>value=%{r}<br>variable=%{theta}<extra></extra>",
         "legendgroup": "Complifuckincated",
         "line": {
          "color": "#EF553B",
          "dash": "solid"
         },
         "marker": {
          "symbol": "circle"
         },
         "mode": "lines",
         "name": "Complifuckincated",
         "opacity": 0.7,
         "r": [
          0.7719999999999999,
          0.4749999999999999,
          0.0506,
          0.0317,
          0.151,
          0.297,
          0.7719999999999999
         ],
         "showlegend": true,
         "subplot": "polar",
         "theta": [
          "danceability",
          "energy",
          "speechiness",
          "acousticness",
          "liveness",
          "valence",
          "danceability"
         ],
         "type": "scatterpolargl"
        },
        {
         "hovertemplate": "name=Cooped Up (with Roddy Ricch)<br>value=%{r}<br>variable=%{theta}<extra></extra>",
         "legendgroup": "Cooped Up (with Roddy Ricch)",
         "line": {
          "color": "#00cc96",
          "dash": "solid"
         },
         "marker": {
          "symbol": "circle"
         },
         "mode": "lines",
         "name": "Cooped Up (with Roddy Ricch)",
         "opacity": 0.7,
         "r": [
          0.644,
          0.775,
          0.242,
          0.0399,
          0.113,
          0.372,
          0.644
         ],
         "showlegend": true,
         "subplot": "polar",
         "theta": [
          "danceability",
          "energy",
          "speechiness",
          "acousticness",
          "liveness",
          "valence",
          "danceability"
         ],
         "type": "scatterpolargl"
        },
        {
         "hovertemplate": "name=Cowboy<br>value=%{r}<br>variable=%{theta}<extra></extra>",
         "legendgroup": "Cowboy",
         "line": {
          "color": "#ab63fa",
          "dash": "solid"
         },
         "marker": {
          "symbol": "circle"
         },
         "mode": "lines",
         "name": "Cowboy",
         "opacity": 0.7,
         "r": [
          0.661,
          0.699,
          0.03,
          0.164,
          0.09200000000000001,
          0.648,
          0.661
         ],
         "showlegend": true,
         "subplot": "polar",
         "theta": [
          "danceability",
          "energy",
          "speechiness",
          "acousticness",
          "liveness",
          "valence",
          "danceability"
         ],
         "type": "scatterpolargl"
        },
        {
         "hovertemplate": "name=Dawly<br>value=%{r}<br>variable=%{theta}<extra></extra>",
         "legendgroup": "Dawly",
         "line": {
          "color": "#FFA15A",
          "dash": "solid"
         },
         "marker": {
          "symbol": "circle"
         },
         "mode": "lines",
         "name": "Dawly",
         "opacity": 0.7,
         "r": [
          0.854,
          0.367,
          0.328,
          0.421,
          0.0903,
          0.349,
          0.854
         ],
         "showlegend": true,
         "subplot": "polar",
         "theta": [
          "danceability",
          "energy",
          "speechiness",
          "acousticness",
          "liveness",
          "valence",
          "danceability"
         ],
         "type": "scatterpolargl"
        },
        {
         "hovertemplate": "name=Daydreaming<br>value=%{r}<br>variable=%{theta}<extra></extra>",
         "legendgroup": "Daydreaming",
         "line": {
          "color": "#19d3f3",
          "dash": "solid"
         },
         "marker": {
          "symbol": "circle"
         },
         "mode": "lines",
         "name": "Daydreaming",
         "opacity": 0.7,
         "r": [
          0.707,
          0.811,
          0.0304,
          0.311,
          0.131,
          0.899,
          0.707
         ],
         "showlegend": true,
         "subplot": "polar",
         "theta": [
          "danceability",
          "energy",
          "speechiness",
          "acousticness",
          "liveness",
          "valence",
          "danceability"
         ],
         "type": "scatterpolargl"
        },
        {
         "hovertemplate": "name=Daylight<br>value=%{r}<br>variable=%{theta}<extra></extra>",
         "legendgroup": "Daylight",
         "line": {
          "color": "#FF6692",
          "dash": "solid"
         },
         "marker": {
          "symbol": "circle"
         },
         "mode": "lines",
         "name": "Daylight",
         "opacity": 0.7,
         "r": [
          0.686,
          0.445,
          0.0398,
          0.484,
          0.175,
          0.626,
          0.686
         ],
         "showlegend": true,
         "subplot": "polar",
         "theta": [
          "danceability",
          "energy",
          "speechiness",
          "acousticness",
          "liveness",
          "valence",
          "danceability"
         ],
         "type": "scatterpolargl"
        },
        {
         "hovertemplate": "name=De Diepte<br>value=%{r}<br>variable=%{theta}<extra></extra>",
         "legendgroup": "De Diepte",
         "line": {
          "color": "#B6E880",
          "dash": "solid"
         },
         "marker": {
          "symbol": "circle"
         },
         "mode": "lines",
         "name": "De Diepte",
         "opacity": 0.7,
         "r": [
          0.502,
          0.397,
          0.0282,
          0.378,
          0.143,
          0.159,
          0.502
         ],
         "showlegend": true,
         "subplot": "polar",
         "theta": [
          "danceability",
          "energy",
          "speechiness",
          "acousticness",
          "liveness",
          "valence",
          "danceability"
         ],
         "type": "scatterpolargl"
        },
        {
         "hovertemplate": "name=Decennium<br>value=%{r}<br>variable=%{theta}<extra></extra>",
         "legendgroup": "Decennium",
         "line": {
          "color": "#FF97FF",
          "dash": "solid"
         },
         "marker": {
          "symbol": "circle"
         },
         "mode": "lines",
         "name": "Decennium",
         "opacity": 0.7,
         "r": [
          0.707,
          0.685,
          0.336,
          0.763,
          0.116,
          0.541,
          0.707
         ],
         "showlegend": true,
         "subplot": "polar",
         "theta": [
          "danceability",
          "energy",
          "speechiness",
          "acousticness",
          "liveness",
          "valence",
          "danceability"
         ],
         "type": "scatterpolargl"
        },
        {
         "hovertemplate": "name=Denamet<br>value=%{r}<br>variable=%{theta}<extra></extra>",
         "legendgroup": "Denamet",
         "line": {
          "color": "#FECB52",
          "dash": "solid"
         },
         "marker": {
          "symbol": "circle"
         },
         "mode": "lines",
         "name": "Denamet",
         "opacity": 0.7,
         "r": [
          0.661,
          0.575,
          0.314,
          0.292,
          0.0861,
          0.432,
          0.661
         ],
         "showlegend": true,
         "subplot": "polar",
         "theta": [
          "danceability",
          "energy",
          "speechiness",
          "acousticness",
          "liveness",
          "valence",
          "danceability"
         ],
         "type": "scatterpolargl"
        },
        {
         "hovertemplate": "name=Después de la Playa<br>value=%{r}<br>variable=%{theta}<extra></extra>",
         "legendgroup": "Después de la Playa",
         "line": {
          "color": "#636efa",
          "dash": "solid"
         },
         "marker": {
          "symbol": "circle"
         },
         "mode": "lines",
         "name": "Después de la Playa",
         "opacity": 0.7,
         "r": [
          0.564,
          0.903,
          0.307,
          0.356,
          0.175,
          0.607,
          0.564
         ],
         "showlegend": true,
         "subplot": "polar",
         "theta": [
          "danceability",
          "energy",
          "speechiness",
          "acousticness",
          "liveness",
          "valence",
          "danceability"
         ],
         "type": "scatterpolargl"
        },
        {
         "hovertemplate": "name=Die Hard<br>value=%{r}<br>variable=%{theta}<extra></extra>",
         "legendgroup": "Die Hard",
         "line": {
          "color": "#EF553B",
          "dash": "solid"
         },
         "marker": {
          "symbol": "circle"
         },
         "mode": "lines",
         "name": "Die Hard",
         "opacity": 0.7,
         "r": [
          0.777,
          0.737,
          0.248,
          0.317,
          0.126,
          0.361,
          0.777
         ],
         "showlegend": true,
         "subplot": "polar",
         "theta": [
          "danceability",
          "energy",
          "speechiness",
          "acousticness",
          "liveness",
          "valence",
          "danceability"
         ],
         "type": "scatterpolargl"
        },
        {
         "hovertemplate": "name=Disarray<br>value=%{r}<br>variable=%{theta}<extra></extra>",
         "legendgroup": "Disarray",
         "line": {
          "color": "#00cc96",
          "dash": "solid"
         },
         "marker": {
          "symbol": "circle"
         },
         "mode": "lines",
         "name": "Disarray",
         "opacity": 0.7,
         "r": [
          0.696,
          0.573,
          0.0349,
          0.0854,
          0.103,
          0.318,
          0.696
         ],
         "showlegend": true,
         "subplot": "polar",
         "theta": [
          "danceability",
          "energy",
          "speechiness",
          "acousticness",
          "liveness",
          "valence",
          "danceability"
         ],
         "type": "scatterpolargl"
        },
        {
         "hovertemplate": "name=Dit Is Wat Mijn Mama Zei<br>value=%{r}<br>variable=%{theta}<extra></extra>",
         "legendgroup": "Dit Is Wat Mijn Mama Zei",
         "line": {
          "color": "#ab63fa",
          "dash": "solid"
         },
         "marker": {
          "symbol": "circle"
         },
         "mode": "lines",
         "name": "Dit Is Wat Mijn Mama Zei",
         "opacity": 0.7,
         "r": [
          0.792,
          0.524,
          0.0372,
          0.258,
          0.128,
          0.737,
          0.792
         ],
         "showlegend": true,
         "subplot": "polar",
         "theta": [
          "danceability",
          "energy",
          "speechiness",
          "acousticness",
          "liveness",
          "valence",
          "danceability"
         ],
         "type": "scatterpolargl"
        },
        {
         "hovertemplate": "name=Drown<br>value=%{r}<br>variable=%{theta}<extra></extra>",
         "legendgroup": "Drown",
         "line": {
          "color": "#FFA15A",
          "dash": "solid"
         },
         "marker": {
          "symbol": "circle"
         },
         "mode": "lines",
         "name": "Drown",
         "opacity": 0.7,
         "r": [
          0.592,
          0.526,
          0.0333,
          0.268,
          0.0775,
          0.55,
          0.592
         ],
         "showlegend": true,
         "subplot": "polar",
         "theta": [
          "danceability",
          "energy",
          "speechiness",
          "acousticness",
          "liveness",
          "valence",
          "danceability"
         ],
         "type": "scatterpolargl"
        },
        {
         "hovertemplate": "name=Drugs<br>value=%{r}<br>variable=%{theta}<extra></extra>",
         "legendgroup": "Drugs",
         "line": {
          "color": "#19d3f3",
          "dash": "solid"
         },
         "marker": {
          "symbol": "circle"
         },
         "mode": "lines",
         "name": "Drugs",
         "opacity": 0.7,
         "r": [
          0.744,
          0.382,
          0.0268,
          0.137,
          0.0918,
          0.52,
          0.744
         ],
         "showlegend": true,
         "subplot": "polar",
         "theta": [
          "danceability",
          "energy",
          "speechiness",
          "acousticness",
          "liveness",
          "valence",
          "danceability"
         ],
         "type": "scatterpolargl"
        },
        {
         "hovertemplate": "name=Dua Lipa<br>value=%{r}<br>variable=%{theta}<extra></extra>",
         "legendgroup": "Dua Lipa",
         "line": {
          "color": "#FF6692",
          "dash": "solid"
         },
         "marker": {
          "symbol": "circle"
         },
         "mode": "lines",
         "name": "Dua Lipa",
         "opacity": 0.7,
         "r": [
          0.83,
          0.65,
          0.0672,
          0.00144,
          0.103,
          0.47,
          0.83
         ],
         "showlegend": true,
         "subplot": "polar",
         "theta": [
          "danceability",
          "energy",
          "speechiness",
          "acousticness",
          "liveness",
          "valence",
          "danceability"
         ],
         "type": "scatterpolargl"
        },
        {
         "hovertemplate": "name=Efecto<br>value=%{r}<br>variable=%{theta}<extra></extra>",
         "legendgroup": "Efecto",
         "line": {
          "color": "#B6E880",
          "dash": "solid"
         },
         "marker": {
          "symbol": "circle"
         },
         "mode": "lines",
         "name": "Efecto",
         "opacity": 0.7,
         "r": [
          0.801,
          0.475,
          0.0516,
          0.141,
          0.0639,
          0.234,
          0.801
         ],
         "showlegend": true,
         "subplot": "polar",
         "theta": [
          "danceability",
          "energy",
          "speechiness",
          "acousticness",
          "liveness",
          "valence",
          "danceability"
         ],
         "type": "scatterpolargl"
        },
        {
         "hovertemplate": "name=El 3bd W El Waili<br>value=%{r}<br>variable=%{theta}<extra></extra>",
         "legendgroup": "El 3bd W El Waili",
         "line": {
          "color": "#FF97FF",
          "dash": "solid"
         },
         "marker": {
          "symbol": "circle"
         },
         "mode": "lines",
         "name": "El 3bd W El Waili",
         "opacity": 0.7,
         "r": [
          0.442,
          0.42,
          0.136,
          0.723,
          0.124,
          0.149,
          0.442
         ],
         "showlegend": true,
         "subplot": "polar",
         "theta": [
          "danceability",
          "energy",
          "speechiness",
          "acousticness",
          "liveness",
          "valence",
          "danceability"
         ],
         "type": "scatterpolargl"
        },
        {
         "hovertemplate": "name=El Haraka de<br>value=%{r}<br>variable=%{theta}<extra></extra>",
         "legendgroup": "El Haraka de",
         "line": {
          "color": "#FECB52",
          "dash": "solid"
         },
         "marker": {
          "symbol": "circle"
         },
         "mode": "lines",
         "name": "El Haraka de",
         "opacity": 0.7,
         "r": [
          0.765,
          0.818,
          0.0434,
          0.255,
          0.549,
          0.635,
          0.765
         ],
         "showlegend": true,
         "subplot": "polar",
         "theta": [
          "danceability",
          "energy",
          "speechiness",
          "acousticness",
          "liveness",
          "valence",
          "danceability"
         ],
         "type": "scatterpolargl"
        },
        {
         "hovertemplate": "name=El Melouk - الملوك<br>value=%{r}<br>variable=%{theta}<extra></extra>",
         "legendgroup": "El Melouk - الملوك",
         "line": {
          "color": "#636efa",
          "dash": "solid"
         },
         "marker": {
          "symbol": "circle"
         },
         "mode": "lines",
         "name": "El Melouk - الملوك",
         "opacity": 0.7,
         "r": [
          0.714,
          0.921,
          0.0976,
          0.0574,
          0.256,
          0.817,
          0.714
         ],
         "showlegend": true,
         "subplot": "polar",
         "theta": [
          "danceability",
          "energy",
          "speechiness",
          "acousticness",
          "liveness",
          "valence",
          "danceability"
         ],
         "type": "scatterpolargl"
        },
        {
         "hovertemplate": "name=Elghazala Ray2a (feat. Mohamed Osama)<br>value=%{r}<br>variable=%{theta}<extra></extra>",
         "legendgroup": "Elghazala Ray2a (feat. Mohamed Osama)",
         "line": {
          "color": "#EF553B",
          "dash": "solid"
         },
         "marker": {
          "symbol": "circle"
         },
         "mode": "lines",
         "name": "Elghazala Ray2a (feat. Mohamed Osama)",
         "opacity": 0.7,
         "r": [
          0.888,
          0.72,
          0.0453,
          0.195,
          0.0726,
          0.801,
          0.888
         ],
         "showlegend": true,
         "subplot": "polar",
         "theta": [
          "danceability",
          "energy",
          "speechiness",
          "acousticness",
          "liveness",
          "valence",
          "danceability"
         ],
         "type": "scatterpolargl"
        },
        {
         "hovertemplate": "name=Enemy (with JID) - from the series Arcane League of Legends<br>value=%{r}<br>variable=%{theta}<extra></extra>",
         "legendgroup": "Enemy (with JID) - from the series Arcane League of Legends",
         "line": {
          "color": "#00cc96",
          "dash": "solid"
         },
         "marker": {
          "symbol": "circle"
         },
         "mode": "lines",
         "name": "Enemy (with JID) - from the series Arcane League of Legends",
         "opacity": 0.7,
         "r": [
          0.728,
          0.783,
          0.266,
          0.237,
          0.434,
          0.555,
          0.728
         ],
         "showlegend": true,
         "subplot": "polar",
         "theta": [
          "danceability",
          "energy",
          "speechiness",
          "acousticness",
          "liveness",
          "valence",
          "danceability"
         ],
         "type": "scatterpolargl"
        },
        {
         "hovertemplate": "name=Eso Es<br>value=%{r}<br>variable=%{theta}<extra></extra>",
         "legendgroup": "Eso Es",
         "line": {
          "color": "#ab63fa",
          "dash": "solid"
         },
         "marker": {
          "symbol": "circle"
         },
         "mode": "lines",
         "name": "Eso Es",
         "opacity": 0.7,
         "r": [
          0.644,
          0.537,
          0.221,
          0.69,
          0.295,
          0.19099999999999998,
          0.644
         ],
         "showlegend": true,
         "subplot": "polar",
         "theta": [
          "danceability",
          "energy",
          "speechiness",
          "acousticness",
          "liveness",
          "valence",
          "danceability"
         ],
         "type": "scatterpolargl"
        },
        {
         "hovertemplate": "name=Etnaset<br>value=%{r}<br>variable=%{theta}<extra></extra>",
         "legendgroup": "Etnaset",
         "line": {
          "color": "#FFA15A",
          "dash": "solid"
         },
         "marker": {
          "symbol": "circle"
         },
         "mode": "lines",
         "name": "Etnaset",
         "opacity": 0.7,
         "r": [
          0.444,
          0.5,
          0.0666,
          0.804,
          0.108,
          0.271,
          0.444
         ],
         "showlegend": true,
         "subplot": "polar",
         "theta": [
          "danceability",
          "energy",
          "speechiness",
          "acousticness",
          "liveness",
          "valence",
          "danceability"
         ],
         "type": "scatterpolargl"
        },
        {
         "hovertemplate": "name=FAR2 KHEBRA<br>value=%{r}<br>variable=%{theta}<extra></extra>",
         "legendgroup": "FAR2 KHEBRA",
         "line": {
          "color": "#19d3f3",
          "dash": "solid"
         },
         "marker": {
          "symbol": "circle"
         },
         "mode": "lines",
         "name": "FAR2 KHEBRA",
         "opacity": 0.7,
         "r": [
          0.798,
          0.867,
          0.0532,
          0.153,
          0.0643,
          0.784,
          0.798
         ],
         "showlegend": true,
         "subplot": "polar",
         "theta": [
          "danceability",
          "energy",
          "speechiness",
          "acousticness",
          "liveness",
          "valence",
          "danceability"
         ],
         "type": "scatterpolargl"
        },
        {
         "hovertemplate": "name=Fairytale<br>value=%{r}<br>variable=%{theta}<extra></extra>",
         "legendgroup": "Fairytale",
         "line": {
          "color": "#FF6692",
          "dash": "solid"
         },
         "marker": {
          "symbol": "circle"
         },
         "mode": "lines",
         "name": "Fairytale",
         "opacity": 0.7,
         "r": [
          0.642,
          0.61,
          0.0494,
          0.133,
          0.0873,
          0.616,
          0.642
         ],
         "showlegend": true,
         "subplot": "polar",
         "theta": [
          "danceability",
          "energy",
          "speechiness",
          "acousticness",
          "liveness",
          "valence",
          "danceability"
         ],
         "type": "scatterpolargl"
        },
        {
         "hovertemplate": "name=Fake Love<br>value=%{r}<br>variable=%{theta}<extra></extra>",
         "legendgroup": "Fake Love",
         "line": {
          "color": "#B6E880",
          "dash": "solid"
         },
         "marker": {
          "symbol": "circle"
         },
         "mode": "lines",
         "name": "Fake Love",
         "opacity": 0.7,
         "r": [
          0.686,
          0.636,
          0.234,
          0.15,
          0.142,
          0.473,
          0.686
         ],
         "showlegend": true,
         "subplot": "polar",
         "theta": [
          "danceability",
          "energy",
          "speechiness",
          "acousticness",
          "liveness",
          "valence",
          "danceability"
         ],
         "type": "scatterpolargl"
        },
        {
         "hovertemplate": "name=Ferrari<br>value=%{r}<br>variable=%{theta}<extra></extra>",
         "legendgroup": "Ferrari",
         "line": {
          "color": "#FF97FF",
          "dash": "solid"
         },
         "marker": {
          "symbol": "circle"
         },
         "mode": "lines",
         "name": "Ferrari",
         "opacity": 0.7,
         "r": [
          0.847,
          0.69,
          0.0493,
          0.0127,
          0.0526,
          0.692,
          0.847
         ],
         "showlegend": true,
         "subplot": "polar",
         "theta": [
          "danceability",
          "energy",
          "speechiness",
          "acousticness",
          "liveness",
          "valence",
          "danceability"
         ],
         "type": "scatterpolargl"
        },
        {
         "hovertemplate": "name=First Class<br>value=%{r}<br>variable=%{theta}<extra></extra>",
         "legendgroup": "First Class",
         "line": {
          "color": "#FECB52",
          "dash": "solid"
         },
         "marker": {
          "symbol": "circle"
         },
         "mode": "lines",
         "name": "First Class",
         "opacity": 0.7,
         "r": [
          0.9013333333333334,
          0.583,
          0.10933333333333334,
          0.11033333333333334,
          0.11166666666666668,
          0.3316666666666667,
          0.9013333333333334
         ],
         "showlegend": true,
         "subplot": "polar",
         "theta": [
          "danceability",
          "energy",
          "speechiness",
          "acousticness",
          "liveness",
          "valence",
          "danceability"
         ],
         "type": "scatterpolargl"
        },
        {
         "hovertemplate": "name=Free<br>value=%{r}<br>variable=%{theta}<extra></extra>",
         "legendgroup": "Free",
         "line": {
          "color": "#636efa",
          "dash": "solid"
         },
         "marker": {
          "symbol": "circle"
         },
         "mode": "lines",
         "name": "Free",
         "opacity": 0.7,
         "r": [
          0.423,
          0.849,
          0.143,
          0.125,
          0.111,
          0.312,
          0.423
         ],
         "showlegend": true,
         "subplot": "polar",
         "theta": [
          "danceability",
          "energy",
          "speechiness",
          "acousticness",
          "liveness",
          "valence",
          "danceability"
         ],
         "type": "scatterpolargl"
        },
        {
         "hovertemplate": "name=Ghost<br>value=%{r}<br>variable=%{theta}<extra></extra>",
         "legendgroup": "Ghost",
         "line": {
          "color": "#EF553B",
          "dash": "solid"
         },
         "marker": {
          "symbol": "circle"
         },
         "mode": "lines",
         "name": "Ghost",
         "opacity": 0.7,
         "r": [
          0.601,
          0.741,
          0.0478,
          0.185,
          0.415,
          0.441,
          0.601
         ],
         "showlegend": true,
         "subplot": "polar",
         "theta": [
          "danceability",
          "energy",
          "speechiness",
          "acousticness",
          "liveness",
          "valence",
          "danceability"
         ],
         "type": "scatterpolargl"
        },
        {
         "hovertemplate": "name=Go On<br>value=%{r}<br>variable=%{theta}<extra></extra>",
         "legendgroup": "Go On",
         "line": {
          "color": "#00cc96",
          "dash": "solid"
         },
         "marker": {
          "symbol": "circle"
         },
         "mode": "lines",
         "name": "Go On",
         "opacity": 0.7,
         "r": [
          0.819,
          0.802,
          0.0903,
          0.12,
          0.111,
          0.629,
          0.819
         ],
         "showlegend": true,
         "subplot": "polar",
         "theta": [
          "danceability",
          "energy",
          "speechiness",
          "acousticness",
          "liveness",
          "valence",
          "danceability"
         ],
         "type": "scatterpolargl"
        },
        {
         "hovertemplate": "name=Gold Leaf<br>value=%{r}<br>variable=%{theta}<extra></extra>",
         "legendgroup": "Gold Leaf",
         "line": {
          "color": "#ab63fa",
          "dash": "solid"
         },
         "marker": {
          "symbol": "circle"
         },
         "mode": "lines",
         "name": "Gold Leaf",
         "opacity": 0.7,
         "r": [
          0.635,
          0.8,
          0.028,
          0.0000309,
          0.0806,
          0.886,
          0.635
         ],
         "showlegend": true,
         "subplot": "polar",
         "theta": [
          "danceability",
          "energy",
          "speechiness",
          "acousticness",
          "liveness",
          "valence",
          "danceability"
         ],
         "type": "scatterpolargl"
        },
        {
         "hovertemplate": "name=Got Some Attitude - Radio Edit<br>value=%{r}<br>variable=%{theta}<extra></extra>",
         "legendgroup": "Got Some Attitude - Radio Edit",
         "line": {
          "color": "#FFA15A",
          "dash": "solid"
         },
         "marker": {
          "symbol": "circle"
         },
         "mode": "lines",
         "name": "Got Some Attitude - Radio Edit",
         "opacity": 0.7,
         "r": [
          0.813,
          0.472,
          0.344,
          0.203,
          0.0998,
          0.659,
          0.813
         ],
         "showlegend": true,
         "subplot": "polar",
         "theta": [
          "danceability",
          "energy",
          "speechiness",
          "acousticness",
          "liveness",
          "valence",
          "danceability"
         ],
         "type": "scatterpolargl"
        },
        {
         "hovertemplate": "name=Grapejuice<br>value=%{r}<br>variable=%{theta}<extra></extra>",
         "legendgroup": "Grapejuice",
         "line": {
          "color": "#19d3f3",
          "dash": "solid"
         },
         "marker": {
          "symbol": "circle"
         },
         "mode": "lines",
         "name": "Grapejuice",
         "opacity": 0.7,
         "r": [
          0.645,
          0.721,
          0.0336,
          0.357,
          0.204,
          0.88,
          0.645
         ],
         "showlegend": true,
         "subplot": "polar",
         "theta": [
          "danceability",
          "energy",
          "speechiness",
          "acousticness",
          "liveness",
          "valence",
          "danceability"
         ],
         "type": "scatterpolargl"
        },
        {
         "hovertemplate": "name=HARAZEEK<br>value=%{r}<br>variable=%{theta}<extra></extra>",
         "legendgroup": "HARAZEEK",
         "line": {
          "color": "#FF6692",
          "dash": "solid"
         },
         "marker": {
          "symbol": "circle"
         },
         "mode": "lines",
         "name": "HARAZEEK",
         "opacity": 0.7,
         "r": [
          0.829,
          0.783,
          0.0572,
          0.0481,
          0.216,
          0.869,
          0.829
         ],
         "showlegend": true,
         "subplot": "polar",
         "theta": [
          "danceability",
          "energy",
          "speechiness",
          "acousticness",
          "liveness",
          "valence",
          "danceability"
         ],
         "type": "scatterpolargl"
        },
        {
         "hovertemplate": "name=Hard Times<br>value=%{r}<br>variable=%{theta}<extra></extra>",
         "legendgroup": "Hard Times",
         "line": {
          "color": "#B6E880",
          "dash": "solid"
         },
         "marker": {
          "symbol": "circle"
         },
         "mode": "lines",
         "name": "Hard Times",
         "opacity": 0.7,
         "r": [
          0.563,
          0.848,
          0.0335,
          0.00515,
          0.322,
          0.592,
          0.563
         ],
         "showlegend": true,
         "subplot": "polar",
         "theta": [
          "danceability",
          "energy",
          "speechiness",
          "acousticness",
          "liveness",
          "valence",
          "danceability"
         ],
         "type": "scatterpolargl"
        },
        {
         "hovertemplate": "name=Heat Waves<br>value=%{r}<br>variable=%{theta}<extra></extra>",
         "legendgroup": "Heat Waves",
         "line": {
          "color": "#FF97FF",
          "dash": "solid"
         },
         "marker": {
          "symbol": "circle"
         },
         "mode": "lines",
         "name": "Heat Waves",
         "opacity": 0.7,
         "r": [
          0.761,
          0.525,
          0.0944,
          0.44,
          0.0921,
          0.531,
          0.761
         ],
         "showlegend": true,
         "subplot": "polar",
         "theta": [
          "danceability",
          "energy",
          "speechiness",
          "acousticness",
          "liveness",
          "valence",
          "danceability"
         ],
         "type": "scatterpolargl"
        },
        {
         "hovertemplate": "name=Honest<br>value=%{r}<br>variable=%{theta}<extra></extra>",
         "legendgroup": "Honest",
         "line": {
          "color": "#FECB52",
          "dash": "solid"
         },
         "marker": {
          "symbol": "circle"
         },
         "mode": "lines",
         "name": "Honest",
         "opacity": 0.7,
         "r": [
          0.547,
          0.914,
          0.0732,
          0.0496,
          0.228,
          0.722,
          0.547
         ],
         "showlegend": true,
         "subplot": "polar",
         "theta": [
          "danceability",
          "energy",
          "speechiness",
          "acousticness",
          "liveness",
          "valence",
          "danceability"
         ],
         "type": "scatterpolargl"
        },
        {
         "hovertemplate": "name=I Still Do<br>value=%{r}<br>variable=%{theta}<extra></extra>",
         "legendgroup": "I Still Do",
         "line": {
          "color": "#636efa",
          "dash": "solid"
         },
         "marker": {
          "symbol": "circle"
         },
         "mode": "lines",
         "name": "I Still Do",
         "opacity": 0.7,
         "r": [
          0.543,
          0.448,
          0.0635,
          0.165,
          0.335,
          0.136,
          0.543
         ],
         "showlegend": true,
         "subplot": "polar",
         "theta": [
          "danceability",
          "energy",
          "speechiness",
          "acousticness",
          "liveness",
          "valence",
          "danceability"
         ],
         "type": "scatterpolargl"
        },
        {
         "hovertemplate": "name=I'll Forget U, I Won't Forget This<br>value=%{r}<br>variable=%{theta}<extra></extra>",
         "legendgroup": "I'll Forget U, I Won't Forget This",
         "line": {
          "color": "#EF553B",
          "dash": "solid"
         },
         "marker": {
          "symbol": "circle"
         },
         "mode": "lines",
         "name": "I'll Forget U, I Won't Forget This",
         "opacity": 0.7,
         "r": [
          0.656,
          0.475,
          0.0606,
          0.127,
          0.0914,
          0.535,
          0.656
         ],
         "showlegend": true,
         "subplot": "polar",
         "theta": [
          "danceability",
          "energy",
          "speechiness",
          "acousticness",
          "liveness",
          "valence",
          "danceability"
         ],
         "type": "scatterpolargl"
        },
        {
         "hovertemplate": "name=INDUSTRY BABY (feat. Jack Harlow)<br>value=%{r}<br>variable=%{theta}<extra></extra>",
         "legendgroup": "INDUSTRY BABY (feat. Jack Harlow)",
         "line": {
          "color": "#00cc96",
          "dash": "solid"
         },
         "marker": {
          "symbol": "circle"
         },
         "mode": "lines",
         "name": "INDUSTRY BABY (feat. Jack Harlow)",
         "opacity": 0.7,
         "r": [
          0.736,
          0.699,
          0.0579,
          0.0221,
          0.0486,
          0.911,
          0.736
         ],
         "showlegend": true,
         "subplot": "polar",
         "theta": [
          "danceability",
          "energy",
          "speechiness",
          "acousticness",
          "liveness",
          "valence",
          "danceability"
         ],
         "type": "scatterpolargl"
        },
        {
         "hovertemplate": "name=Icarus<br>value=%{r}<br>variable=%{theta}<extra></extra>",
         "legendgroup": "Icarus",
         "line": {
          "color": "#ab63fa",
          "dash": "solid"
         },
         "marker": {
          "symbol": "circle"
         },
         "mode": "lines",
         "name": "Icarus",
         "opacity": 0.7,
         "r": [
          0.649,
          0.771,
          0.04900000000000001,
          0.345,
          0.08800000000000001,
          0.659,
          0.649
         ],
         "showlegend": true,
         "subplot": "polar",
         "theta": [
          "danceability",
          "energy",
          "speechiness",
          "acousticness",
          "liveness",
          "valence",
          "danceability"
         ],
         "type": "scatterpolargl"
        },
        {
         "hovertemplate": "name=Jakie To Uczucie?<br>value=%{r}<br>variable=%{theta}<extra></extra>",
         "legendgroup": "Jakie To Uczucie?",
         "line": {
          "color": "#FFA15A",
          "dash": "solid"
         },
         "marker": {
          "symbol": "circle"
         },
         "mode": "lines",
         "name": "Jakie To Uczucie?",
         "opacity": 0.7,
         "r": [
          0.822,
          0.653,
          0.172,
          0.079,
          0.122,
          0.758,
          0.822
         ],
         "showlegend": true,
         "subplot": "polar",
         "theta": [
          "danceability",
          "energy",
          "speechiness",
          "acousticness",
          "liveness",
          "valence",
          "danceability"
         ],
         "type": "scatterpolargl"
        },
        {
         "hovertemplate": "name=Jeżyk!<br>value=%{r}<br>variable=%{theta}<extra></extra>",
         "legendgroup": "Jeżyk!",
         "line": {
          "color": "#19d3f3",
          "dash": "solid"
         },
         "marker": {
          "symbol": "circle"
         },
         "mode": "lines",
         "name": "Jeżyk!",
         "opacity": 0.7,
         "r": [
          0.73,
          0.64,
          0.138,
          0.0356,
          0.32,
          0.52,
          0.73
         ],
         "showlegend": true,
         "subplot": "polar",
         "theta": [
          "danceability",
          "energy",
          "speechiness",
          "acousticness",
          "liveness",
          "valence",
          "danceability"
         ],
         "type": "scatterpolargl"
        },
        {
         "hovertemplate": "name=KOKAINA<br>value=%{r}<br>variable=%{theta}<extra></extra>",
         "legendgroup": "KOKAINA",
         "line": {
          "color": "#FF6692",
          "dash": "solid"
         },
         "marker": {
          "symbol": "circle"
         },
         "mode": "lines",
         "name": "KOKAINA",
         "opacity": 0.7,
         "r": [
          0.759,
          0.555,
          0.38,
          0.0866,
          0.0896,
          0.781,
          0.759
         ],
         "showlegend": true,
         "subplot": "polar",
         "theta": [
          "danceability",
          "energy",
          "speechiness",
          "acousticness",
          "liveness",
          "valence",
          "danceability"
         ],
         "type": "scatterpolargl"
        },
        {
         "hovertemplate": "name=Keep Driving<br>value=%{r}<br>variable=%{theta}<extra></extra>",
         "legendgroup": "Keep Driving",
         "line": {
          "color": "#B6E880",
          "dash": "solid"
         },
         "marker": {
          "symbol": "circle"
         },
         "mode": "lines",
         "name": "Keep Driving",
         "opacity": 0.7,
         "r": [
          0.721,
          0.479,
          0.226,
          0.321,
          0.182,
          0.902,
          0.721
         ],
         "showlegend": true,
         "subplot": "polar",
         "theta": [
          "danceability",
          "energy",
          "speechiness",
          "acousticness",
          "liveness",
          "valence",
          "danceability"
         ],
         "type": "scatterpolargl"
        },
        {
         "hovertemplate": "name=Keify Keda<br>value=%{r}<br>variable=%{theta}<extra></extra>",
         "legendgroup": "Keify Keda",
         "line": {
          "color": "#FF97FF",
          "dash": "solid"
         },
         "marker": {
          "symbol": "circle"
         },
         "mode": "lines",
         "name": "Keify Keda",
         "opacity": 0.7,
         "r": [
          0.931,
          0.578,
          0.254,
          0.24,
          0.35,
          0.897,
          0.931
         ],
         "showlegend": true,
         "subplot": "polar",
         "theta": [
          "danceability",
          "energy",
          "speechiness",
          "acousticness",
          "liveness",
          "valence",
          "danceability"
         ],
         "type": "scatterpolargl"
        },
        {
         "hovertemplate": "name=Kissing Strangers<br>value=%{r}<br>variable=%{theta}<extra></extra>",
         "legendgroup": "Kissing Strangers",
         "line": {
          "color": "#FECB52",
          "dash": "solid"
         },
         "marker": {
          "symbol": "circle"
         },
         "mode": "lines",
         "name": "Kissing Strangers",
         "opacity": 0.7,
         "r": [
          0.8530000000000001,
          0.40199999999999997,
          0.0656,
          0.227,
          0.221,
          0.713,
          0.8530000000000001
         ],
         "showlegend": true,
         "subplot": "polar",
         "theta": [
          "danceability",
          "energy",
          "speechiness",
          "acousticness",
          "liveness",
          "valence",
          "danceability"
         ],
         "type": "scatterpolargl"
        },
        {
         "hovertemplate": "name=Konty 2olely<br>value=%{r}<br>variable=%{theta}<extra></extra>",
         "legendgroup": "Konty 2olely",
         "line": {
          "color": "#636efa",
          "dash": "solid"
         },
         "marker": {
          "symbol": "circle"
         },
         "mode": "lines",
         "name": "Konty 2olely",
         "opacity": 0.7,
         "r": [
          0.671,
          0.248,
          0.143,
          0.936,
          0.115,
          0.396,
          0.671
         ],
         "showlegend": true,
         "subplot": "polar",
         "theta": [
          "danceability",
          "energy",
          "speechiness",
          "acousticness",
          "liveness",
          "valence",
          "danceability"
         ],
         "type": "scatterpolargl"
        },
        {
         "hovertemplate": "name=LOVE DIVE<br>value=%{r}<br>variable=%{theta}<extra></extra>",
         "legendgroup": "LOVE DIVE",
         "line": {
          "color": "#EF553B",
          "dash": "solid"
         },
         "marker": {
          "symbol": "circle"
         },
         "mode": "lines",
         "name": "LOVE DIVE",
         "opacity": 0.7,
         "r": [
          0.703,
          0.709,
          0.0433,
          0.00379,
          0.333,
          0.538,
          0.703
         ],
         "showlegend": true,
         "subplot": "polar",
         "theta": [
          "danceability",
          "energy",
          "speechiness",
          "acousticness",
          "liveness",
          "valence",
          "danceability"
         ],
         "type": "scatterpolargl"
        },
        {
         "hovertemplate": "name=La Manga<br>value=%{r}<br>variable=%{theta}<extra></extra>",
         "legendgroup": "La Manga",
         "line": {
          "color": "#00cc96",
          "dash": "solid"
         },
         "marker": {
          "symbol": "circle"
         },
         "mode": "lines",
         "name": "La Manga",
         "opacity": 0.7,
         "r": [
          0.844,
          0.586,
          0.0725,
          0.402,
          0.0792,
          0.676,
          0.844
         ],
         "showlegend": true,
         "subplot": "polar",
         "theta": [
          "danceability",
          "energy",
          "speechiness",
          "acousticness",
          "liveness",
          "valence",
          "danceability"
         ],
         "type": "scatterpolargl"
        },
        {
         "hovertemplate": "name=Late Night Talking<br>value=%{r}<br>variable=%{theta}<extra></extra>",
         "legendgroup": "Late Night Talking",
         "line": {
          "color": "#ab63fa",
          "dash": "solid"
         },
         "marker": {
          "symbol": "circle"
         },
         "mode": "lines",
         "name": "Late Night Talking",
         "opacity": 0.7,
         "r": [
          0.714,
          0.7280000000000001,
          0.0468,
          0.298,
          0.106,
          0.9010000000000001,
          0.714
         ],
         "showlegend": true,
         "subplot": "polar",
         "theta": [
          "danceability",
          "energy",
          "speechiness",
          "acousticness",
          "liveness",
          "valence",
          "danceability"
         ],
         "type": "scatterpolargl"
        },
        {
         "hovertemplate": "name=Lawenda<br>value=%{r}<br>variable=%{theta}<extra></extra>",
         "legendgroup": "Lawenda",
         "line": {
          "color": "#FFA15A",
          "dash": "solid"
         },
         "marker": {
          "symbol": "circle"
         },
         "mode": "lines",
         "name": "Lawenda",
         "opacity": 0.7,
         "r": [
          0.638,
          0.543,
          0.0515,
          0.656,
          0.118,
          0.587,
          0.638
         ],
         "showlegend": true,
         "subplot": "polar",
         "theta": [
          "danceability",
          "energy",
          "speechiness",
          "acousticness",
          "liveness",
          "valence",
          "danceability"
         ],
         "type": "scatterpolargl"
        },
        {
         "hovertemplate": "name=Layers of Me<br>value=%{r}<br>variable=%{theta}<extra></extra>",
         "legendgroup": "Layers of Me",
         "line": {
          "color": "#19d3f3",
          "dash": "solid"
         },
         "marker": {
          "symbol": "circle"
         },
         "mode": "lines",
         "name": "Layers of Me",
         "opacity": 0.7,
         "r": [
          0.601,
          0.316,
          0.0308,
          0.831,
          0.143,
          0.385,
          0.601
         ],
         "showlegend": true,
         "subplot": "polar",
         "theta": [
          "danceability",
          "energy",
          "speechiness",
          "acousticness",
          "liveness",
          "valence",
          "danceability"
         ],
         "type": "scatterpolargl"
        },
        {
         "hovertemplate": "name=Let Me Love You<br>value=%{r}<br>variable=%{theta}<extra></extra>",
         "legendgroup": "Let Me Love You",
         "line": {
          "color": "#FF6692",
          "dash": "solid"
         },
         "marker": {
          "symbol": "circle"
         },
         "mode": "lines",
         "name": "Let Me Love You",
         "opacity": 0.7,
         "r": [
          0.715,
          0.731,
          0.0564,
          0.18400000000000002,
          0.34400000000000003,
          0.128,
          0.715
         ],
         "showlegend": true,
         "subplot": "polar",
         "theta": [
          "danceability",
          "energy",
          "speechiness",
          "acousticness",
          "liveness",
          "valence",
          "danceability"
         ],
         "type": "scatterpolargl"
        },
        {
         "hovertemplate": "name=Letters<br>value=%{r}<br>variable=%{theta}<extra></extra>",
         "legendgroup": "Letters",
         "line": {
          "color": "#B6E880",
          "dash": "solid"
         },
         "marker": {
          "symbol": "circle"
         },
         "mode": "lines",
         "name": "Letters",
         "opacity": 0.7,
         "r": [
          0.766,
          0.524,
          0.122,
          0.499,
          0.111,
          0.312,
          0.766
         ],
         "showlegend": true,
         "subplot": "polar",
         "theta": [
          "danceability",
          "energy",
          "speechiness",
          "acousticness",
          "liveness",
          "valence",
          "danceability"
         ],
         "type": "scatterpolargl"
        },
        {
         "hovertemplate": "name=Lie in It<br>value=%{r}<br>variable=%{theta}<extra></extra>",
         "legendgroup": "Lie in It",
         "line": {
          "color": "#FF97FF",
          "dash": "solid"
         },
         "marker": {
          "symbol": "circle"
         },
         "mode": "lines",
         "name": "Lie in It",
         "opacity": 0.7,
         "r": [
          0.525,
          0.595,
          0.0552,
          0.342,
          0.165,
          0.623,
          0.525
         ],
         "showlegend": true,
         "subplot": "polar",
         "theta": [
          "danceability",
          "energy",
          "speechiness",
          "acousticness",
          "liveness",
          "valence",
          "danceability"
         ],
         "type": "scatterpolargl"
        },
        {
         "hovertemplate": "name=Little Freak<br>value=%{r}<br>variable=%{theta}<extra></extra>",
         "legendgroup": "Little Freak",
         "line": {
          "color": "#FECB52",
          "dash": "solid"
         },
         "marker": {
          "symbol": "circle"
         },
         "mode": "lines",
         "name": "Little Freak",
         "opacity": 0.7,
         "r": [
          0.559,
          0.535,
          0.039,
          0.719,
          0.0954,
          0.402,
          0.559
         ],
         "showlegend": true,
         "subplot": "polar",
         "theta": [
          "danceability",
          "energy",
          "speechiness",
          "acousticness",
          "liveness",
          "valence",
          "danceability"
         ],
         "type": "scatterpolargl"
        },
        {
         "hovertemplate": "name=Love Of My Life<br>value=%{r}<br>variable=%{theta}<extra></extra>",
         "legendgroup": "Love Of My Life",
         "line": {
          "color": "#636efa",
          "dash": "solid"
         },
         "marker": {
          "symbol": "circle"
         },
         "mode": "lines",
         "name": "Love Of My Life",
         "opacity": 0.7,
         "r": [
          0.555,
          0.536,
          0.0452,
          0.669,
          0.0623,
          0.203,
          0.555
         ],
         "showlegend": true,
         "subplot": "polar",
         "theta": [
          "danceability",
          "energy",
          "speechiness",
          "acousticness",
          "liveness",
          "valence",
          "danceability"
         ],
         "type": "scatterpolargl"
        },
        {
         "hovertemplate": "name=MIDDLE OF THE NIGHT<br>value=%{r}<br>variable=%{theta}<extra></extra>",
         "legendgroup": "MIDDLE OF THE NIGHT",
         "line": {
          "color": "#EF553B",
          "dash": "solid"
         },
         "marker": {
          "symbol": "circle"
         },
         "mode": "lines",
         "name": "MIDDLE OF THE NIGHT",
         "opacity": 0.7,
         "r": [
          0.41,
          0.611,
          0.0467,
          0.0228,
          0.116,
          0.0899,
          0.41
         ],
         "showlegend": true,
         "subplot": "polar",
         "theta": [
          "danceability",
          "energy",
          "speechiness",
          "acousticness",
          "liveness",
          "valence",
          "danceability"
         ],
         "type": "scatterpolargl"
        },
        {
         "hovertemplate": "name=Mabahrbsh<br>value=%{r}<br>variable=%{theta}<extra></extra>",
         "legendgroup": "Mabahrbsh",
         "line": {
          "color": "#00cc96",
          "dash": "solid"
         },
         "marker": {
          "symbol": "circle"
         },
         "mode": "lines",
         "name": "Mabahrbsh",
         "opacity": 0.7,
         "r": [
          0.401,
          0.36,
          0.052,
          0.673,
          0.0967,
          0.319,
          0.401
         ],
         "showlegend": true,
         "subplot": "polar",
         "theta": [
          "danceability",
          "energy",
          "speechiness",
          "acousticness",
          "liveness",
          "valence",
          "danceability"
         ],
         "type": "scatterpolargl"
        },
        {
         "hovertemplate": "name=Mareed<br>value=%{r}<br>variable=%{theta}<extra></extra>",
         "legendgroup": "Mareed",
         "line": {
          "color": "#ab63fa",
          "dash": "solid"
         },
         "marker": {
          "symbol": "circle"
         },
         "mode": "lines",
         "name": "Mareed",
         "opacity": 0.7,
         "r": [
          0.82,
          0.513,
          0.0988,
          0.426,
          0.0794,
          0.585,
          0.82
         ],
         "showlegend": true,
         "subplot": "polar",
         "theta": [
          "danceability",
          "energy",
          "speechiness",
          "acousticness",
          "liveness",
          "valence",
          "danceability"
         ],
         "type": "scatterpolargl"
        },
        {
         "hovertemplate": "name=Matilda<br>value=%{r}<br>variable=%{theta}<extra></extra>",
         "legendgroup": "Matilda",
         "line": {
          "color": "#FFA15A",
          "dash": "solid"
         },
         "marker": {
          "symbol": "circle"
         },
         "mode": "lines",
         "name": "Matilda",
         "opacity": 0.7,
         "r": [
          0.507,
          0.294,
          0.04,
          0.896,
          0.0966,
          0.386,
          0.507
         ],
         "showlegend": true,
         "subplot": "polar",
         "theta": [
          "danceability",
          "energy",
          "speechiness",
          "acousticness",
          "liveness",
          "valence",
          "danceability"
         ],
         "type": "scatterpolargl"
        },
        {
         "hovertemplate": "name=Matkhafesh Yamma<br>value=%{r}<br>variable=%{theta}<extra></extra>",
         "legendgroup": "Matkhafesh Yamma",
         "line": {
          "color": "#19d3f3",
          "dash": "solid"
         },
         "marker": {
          "symbol": "circle"
         },
         "mode": "lines",
         "name": "Matkhafesh Yamma",
         "opacity": 0.7,
         "r": [
          0.798,
          0.678,
          0.0998,
          0.69,
          0.237,
          0.605,
          0.798
         ],
         "showlegend": true,
         "subplot": "polar",
         "theta": [
          "danceability",
          "energy",
          "speechiness",
          "acousticness",
          "liveness",
          "valence",
          "danceability"
         ],
         "type": "scatterpolargl"
        },
        {
         "hovertemplate": "name=Mesh Nadman<br>value=%{r}<br>variable=%{theta}<extra></extra>",
         "legendgroup": "Mesh Nadman",
         "line": {
          "color": "#FF6692",
          "dash": "solid"
         },
         "marker": {
          "symbol": "circle"
         },
         "mode": "lines",
         "name": "Mesh Nadman",
         "opacity": 0.7,
         "r": [
          0.566,
          0.332,
          0.0658,
          0.769,
          0.0806,
          0.322,
          0.566
         ],
         "showlegend": true,
         "subplot": "polar",
         "theta": [
          "danceability",
          "energy",
          "speechiness",
          "acousticness",
          "liveness",
          "valence",
          "danceability"
         ],
         "type": "scatterpolargl"
        },
        {
         "hovertemplate": "name=Midas<br>value=%{r}<br>variable=%{theta}<extra></extra>",
         "legendgroup": "Midas",
         "line": {
          "color": "#B6E880",
          "dash": "solid"
         },
         "marker": {
          "symbol": "circle"
         },
         "mode": "lines",
         "name": "Midas",
         "opacity": 0.7,
         "r": [
          0.697,
          0.802,
          0.129,
          0.0408,
          0.372,
          0.456,
          0.697
         ],
         "showlegend": true,
         "subplot": "polar",
         "theta": [
          "danceability",
          "energy",
          "speechiness",
          "acousticness",
          "liveness",
          "valence",
          "danceability"
         ],
         "type": "scatterpolargl"
        },
        {
         "hovertemplate": "name=Min Awel Dekika<br>value=%{r}<br>variable=%{theta}<extra></extra>",
         "legendgroup": "Min Awel Dekika",
         "line": {
          "color": "#FF97FF",
          "dash": "solid"
         },
         "marker": {
          "symbol": "circle"
         },
         "mode": "lines",
         "name": "Min Awel Dekika",
         "opacity": 0.7,
         "r": [
          0.468,
          0.544,
          0.0413,
          0.554,
          0.0864,
          0.296,
          0.468
         ],
         "showlegend": true,
         "subplot": "polar",
         "theta": [
          "danceability",
          "energy",
          "speechiness",
          "acousticness",
          "liveness",
          "valence",
          "danceability"
         ],
         "type": "scatterpolargl"
        },
        {
         "hovertemplate": "name=Miss You<br>value=%{r}<br>variable=%{theta}<extra></extra>",
         "legendgroup": "Miss You",
         "line": {
          "color": "#FECB52",
          "dash": "solid"
         },
         "marker": {
          "symbol": "circle"
         },
         "mode": "lines",
         "name": "Miss You",
         "opacity": 0.7,
         "r": [
          0.625,
          0.527,
          0.0529,
          0.239,
          0.13,
          0.28,
          0.625
         ],
         "showlegend": true,
         "subplot": "polar",
         "theta": [
          "danceability",
          "energy",
          "speechiness",
          "acousticness",
          "liveness",
          "valence",
          "danceability"
         ],
         "type": "scatterpolargl"
        },
        {
         "hovertemplate": "name=Mr. Invisible<br>value=%{r}<br>variable=%{theta}<extra></extra>",
         "legendgroup": "Mr. Invisible",
         "line": {
          "color": "#636efa",
          "dash": "solid"
         },
         "marker": {
          "symbol": "circle"
         },
         "mode": "lines",
         "name": "Mr. Invisible",
         "opacity": 0.7,
         "r": [
          0.584,
          0.627,
          0.0331,
          0.0217,
          0.0752,
          0.558,
          0.584
         ],
         "showlegend": true,
         "subplot": "polar",
         "theta": [
          "danceability",
          "energy",
          "speechiness",
          "acousticness",
          "liveness",
          "valence",
          "danceability"
         ],
         "type": "scatterpolargl"
        },
        {
         "hovertemplate": "name=Music For a Sushi Restaurant<br>value=%{r}<br>variable=%{theta}<extra></extra>",
         "legendgroup": "Music For a Sushi Restaurant",
         "line": {
          "color": "#EF553B",
          "dash": "solid"
         },
         "marker": {
          "symbol": "circle"
         },
         "mode": "lines",
         "name": "Music For a Sushi Restaurant",
         "opacity": 0.7,
         "r": [
          0.72,
          0.715,
          0.04,
          0.258,
          0.107,
          0.357,
          0.72
         ],
         "showlegend": true,
         "subplot": "polar",
         "theta": [
          "danceability",
          "energy",
          "speechiness",
          "acousticness",
          "liveness",
          "valence",
          "danceability"
         ],
         "type": "scatterpolargl"
        },
        {
         "hovertemplate": "name=N95<br>value=%{r}<br>variable=%{theta}<extra></extra>",
         "legendgroup": "N95",
         "line": {
          "color": "#00cc96",
          "dash": "solid"
         },
         "marker": {
          "symbol": "circle"
         },
         "mode": "lines",
         "name": "N95",
         "opacity": 0.7,
         "r": [
          0.812,
          0.669,
          0.15,
          0.418,
          0.122,
          0.42,
          0.812
         ],
         "showlegend": true,
         "subplot": "polar",
         "theta": [
          "danceability",
          "energy",
          "speechiness",
          "acousticness",
          "liveness",
          "valence",
          "danceability"
         ],
         "type": "scatterpolargl"
        },
        {
         "hovertemplate": "name=No Role Modelz<br>value=%{r}<br>variable=%{theta}<extra></extra>",
         "legendgroup": "No Role Modelz",
         "line": {
          "color": "#ab63fa",
          "dash": "solid"
         },
         "marker": {
          "symbol": "circle"
         },
         "mode": "lines",
         "name": "No Role Modelz",
         "opacity": 0.7,
         "r": [
          0.664,
          0.524,
          0.339,
          0.264,
          0.0555,
          0.476,
          0.664
         ],
         "showlegend": true,
         "subplot": "polar",
         "theta": [
          "danceability",
          "energy",
          "speechiness",
          "acousticness",
          "liveness",
          "valence",
          "danceability"
         ],
         "type": "scatterpolargl"
        },
        {
         "hovertemplate": "name=Not Complicated<br>value=%{r}<br>variable=%{theta}<extra></extra>",
         "legendgroup": "Not Complicated",
         "line": {
          "color": "#FFA15A",
          "dash": "solid"
         },
         "marker": {
          "symbol": "circle"
         },
         "mode": "lines",
         "name": "Not Complicated",
         "opacity": 0.7,
         "r": [
          0.649,
          0.681,
          0.036,
          0.0339,
          0.295,
          0.554,
          0.649
         ],
         "showlegend": true,
         "subplot": "polar",
         "theta": [
          "danceability",
          "energy",
          "speechiness",
          "acousticness",
          "liveness",
          "valence",
          "danceability"
         ],
         "type": "scatterpolargl"
        },
        {
         "hovertemplate": "name=Official<br>value=%{r}<br>variable=%{theta}<extra></extra>",
         "legendgroup": "Official",
         "line": {
          "color": "#19d3f3",
          "dash": "solid"
         },
         "marker": {
          "symbol": "circle"
         },
         "mode": "lines",
         "name": "Official",
         "opacity": 0.7,
         "r": [
          0.8,
          0.529,
          0.196,
          0.355,
          0.127,
          0.809,
          0.8
         ],
         "showlegend": true,
         "subplot": "polar",
         "theta": [
          "danceability",
          "energy",
          "speechiness",
          "acousticness",
          "liveness",
          "valence",
          "danceability"
         ],
         "type": "scatterpolargl"
        },
        {
         "hovertemplate": "name=Ojitos Lindos<br>value=%{r}<br>variable=%{theta}<extra></extra>",
         "legendgroup": "Ojitos Lindos",
         "line": {
          "color": "#FF6692",
          "dash": "solid"
         },
         "marker": {
          "symbol": "circle"
         },
         "mode": "lines",
         "name": "Ojitos Lindos",
         "opacity": 0.7,
         "r": [
          0.647,
          0.686,
          0.0413,
          0.08,
          0.528,
          0.268,
          0.647
         ],
         "showlegend": true,
         "subplot": "polar",
         "theta": [
          "danceability",
          "energy",
          "speechiness",
          "acousticness",
          "liveness",
          "valence",
          "danceability"
         ],
         "type": "scatterpolargl"
        },
        {
         "hovertemplate": "name=Ongewoon<br>value=%{r}<br>variable=%{theta}<extra></extra>",
         "legendgroup": "Ongewoon",
         "line": {
          "color": "#B6E880",
          "dash": "solid"
         },
         "marker": {
          "symbol": "circle"
         },
         "mode": "lines",
         "name": "Ongewoon",
         "opacity": 0.7,
         "r": [
          0.59,
          0.51,
          0.0355,
          0.0653,
          0.507,
          0.498,
          0.59
         ],
         "showlegend": true,
         "subplot": "polar",
         "theta": [
          "danceability",
          "energy",
          "speechiness",
          "acousticness",
          "liveness",
          "valence",
          "danceability"
         ],
         "type": "scatterpolargl"
        },
        {
         "hovertemplate": "name=PATOPROHIBICJA - 28.01.2022<br>value=%{r}<br>variable=%{theta}<extra></extra>",
         "legendgroup": "PATOPROHIBICJA - 28.01.2022",
         "line": {
          "color": "#FF97FF",
          "dash": "solid"
         },
         "marker": {
          "symbol": "circle"
         },
         "mode": "lines",
         "name": "PATOPROHIBICJA - 28.01.2022",
         "opacity": 0.7,
         "r": [
          0.735,
          0.672,
          0.0639,
          0.0744,
          0.0942,
          0.324,
          0.735
         ],
         "showlegend": true,
         "subplot": "polar",
         "theta": [
          "danceability",
          "energy",
          "speechiness",
          "acousticness",
          "liveness",
          "valence",
          "danceability"
         ],
         "type": "scatterpolargl"
        },
        {
         "hovertemplate": "name=PROVENZA<br>value=%{r}<br>variable=%{theta}<extra></extra>",
         "legendgroup": "PROVENZA",
         "line": {
          "color": "#FECB52",
          "dash": "solid"
         },
         "marker": {
          "symbol": "circle"
         },
         "mode": "lines",
         "name": "PROVENZA",
         "opacity": 0.7,
         "r": [
          0.87,
          0.516,
          0.0541,
          0.656,
          0.11,
          0.53,
          0.87
         ],
         "showlegend": true,
         "subplot": "polar",
         "theta": [
          "danceability",
          "energy",
          "speechiness",
          "acousticness",
          "liveness",
          "valence",
          "danceability"
         ],
         "type": "scatterpolargl"
        },
        {
         "hovertemplate": "name=PUFFIN ON ZOOTIEZ<br>value=%{r}<br>variable=%{theta}<extra></extra>",
         "legendgroup": "PUFFIN ON ZOOTIEZ",
         "line": {
          "color": "#636efa",
          "dash": "solid"
         },
         "marker": {
          "symbol": "circle"
         },
         "mode": "lines",
         "name": "PUFFIN ON ZOOTIEZ",
         "opacity": 0.7,
         "r": [
          0.891,
          0.645,
          0.314,
          0.0527,
          0.153,
          0.265,
          0.891
         ],
         "showlegend": true,
         "subplot": "polar",
         "theta": [
          "danceability",
          "energy",
          "speechiness",
          "acousticness",
          "liveness",
          "valence",
          "danceability"
         ],
         "type": "scatterpolargl"
        },
        {
         "hovertemplate": "name=Panamera<br>value=%{r}<br>variable=%{theta}<extra></extra>",
         "legendgroup": "Panamera",
         "line": {
          "color": "#EF553B",
          "dash": "solid"
         },
         "marker": {
          "symbol": "circle"
         },
         "mode": "lines",
         "name": "Panamera",
         "opacity": 0.7,
         "r": [
          0.894,
          0.562,
          0.0628,
          0.123,
          0.0716,
          0.475,
          0.894
         ],
         "showlegend": true,
         "subplot": "polar",
         "theta": [
          "danceability",
          "energy",
          "speechiness",
          "acousticness",
          "liveness",
          "valence",
          "danceability"
         ],
         "type": "scatterpolargl"
        },
        {
         "hovertemplate": "name=Party<br>value=%{r}<br>variable=%{theta}<extra></extra>",
         "legendgroup": "Party",
         "line": {
          "color": "#00cc96",
          "dash": "solid"
         },
         "marker": {
          "symbol": "circle"
         },
         "mode": "lines",
         "name": "Party",
         "opacity": 0.7,
         "r": [
          0.829,
          0.799,
          0.0897,
          0.0151,
          0.242,
          0.471,
          0.829
         ],
         "showlegend": true,
         "subplot": "polar",
         "theta": [
          "danceability",
          "energy",
          "speechiness",
          "acousticness",
          "liveness",
          "valence",
          "danceability"
         ],
         "type": "scatterpolargl"
        },
        {
         "hovertemplate": "name=Pijemy Za Lepszy Czas<br>value=%{r}<br>variable=%{theta}<extra></extra>",
         "legendgroup": "Pijemy Za Lepszy Czas",
         "line": {
          "color": "#ab63fa",
          "dash": "solid"
         },
         "marker": {
          "symbol": "circle"
         },
         "mode": "lines",
         "name": "Pijemy Za Lepszy Czas",
         "opacity": 0.7,
         "r": [
          0.709,
          0.633,
          0.0845,
          0.152,
          0.224,
          0.45,
          0.709
         ],
         "showlegend": true,
         "subplot": "polar",
         "theta": [
          "danceability",
          "energy",
          "speechiness",
          "acousticness",
          "liveness",
          "valence",
          "danceability"
         ],
         "type": "scatterpolargl"
        },
        {
         "hovertemplate": "name=Pink Ferrari<br>value=%{r}<br>variable=%{theta}<extra></extra>",
         "legendgroup": "Pink Ferrari",
         "line": {
          "color": "#FFA15A",
          "dash": "solid"
         },
         "marker": {
          "symbol": "circle"
         },
         "mode": "lines",
         "name": "Pink Ferrari",
         "opacity": 0.7,
         "r": [
          0.37600000000000006,
          0.432,
          0.0405,
          0.16,
          0.10000000000000002,
          0.233,
          0.37600000000000006
         ],
         "showlegend": true,
         "subplot": "polar",
         "theta": [
          "danceability",
          "energy",
          "speechiness",
          "acousticness",
          "liveness",
          "valence",
          "danceability"
         ],
         "type": "scatterpolargl"
        },
        {
         "hovertemplate": "name=RACORE<br>value=%{r}<br>variable=%{theta}<extra></extra>",
         "legendgroup": "RACORE",
         "line": {
          "color": "#19d3f3",
          "dash": "solid"
         },
         "marker": {
          "symbol": "circle"
         },
         "mode": "lines",
         "name": "RACORE",
         "opacity": 0.7,
         "r": [
          0.812,
          0.618,
          0.0656,
          0.0372,
          0.142,
          0.387,
          0.812
         ],
         "showlegend": true,
         "subplot": "polar",
         "theta": [
          "danceability",
          "energy",
          "speechiness",
          "acousticness",
          "liveness",
          "valence",
          "danceability"
         ],
         "type": "scatterpolargl"
        },
        {
         "hovertemplate": "name=RUNNERS<br>value=%{r}<br>variable=%{theta}<extra></extra>",
         "legendgroup": "RUNNERS",
         "line": {
          "color": "#FF6692",
          "dash": "solid"
         },
         "marker": {
          "symbol": "circle"
         },
         "mode": "lines",
         "name": "RUNNERS",
         "opacity": 0.7,
         "r": [
          0.517,
          0.579,
          0.0295,
          0.431,
          0.121,
          0.381,
          0.517
         ],
         "showlegend": true,
         "subplot": "polar",
         "theta": [
          "danceability",
          "energy",
          "speechiness",
          "acousticness",
          "liveness",
          "valence",
          "danceability"
         ],
         "type": "scatterpolargl"
        },
        {
         "hovertemplate": "name=Rich Spirit<br>value=%{r}<br>variable=%{theta}<extra></extra>",
         "legendgroup": "Rich Spirit",
         "line": {
          "color": "#B6E880",
          "dash": "solid"
         },
         "marker": {
          "symbol": "circle"
         },
         "mode": "lines",
         "name": "Rich Spirit",
         "opacity": 0.7,
         "r": [
          0.855,
          0.437,
          0.195,
          0.45,
          0.103,
          0.397,
          0.855
         ],
         "showlegend": true,
         "subplot": "polar",
         "theta": [
          "danceability",
          "energy",
          "speechiness",
          "acousticness",
          "liveness",
          "valence",
          "danceability"
         ],
         "type": "scatterpolargl"
        },
        {
         "hovertemplate": "name=Running Up That Hill (A Deal With God)<br>value=%{r}<br>variable=%{theta}<extra></extra>",
         "legendgroup": "Running Up That Hill (A Deal With God)",
         "line": {
          "color": "#FF97FF",
          "dash": "solid"
         },
         "marker": {
          "symbol": "circle"
         },
         "mode": "lines",
         "name": "Running Up That Hill (A Deal With God)",
         "opacity": 0.7,
         "r": [
          0.629,
          0.547,
          0.055,
          0.72,
          0.0604,
          0.197,
          0.629
         ],
         "showlegend": true,
         "subplot": "polar",
         "theta": [
          "danceability",
          "energy",
          "speechiness",
          "acousticness",
          "liveness",
          "valence",
          "danceability"
         ],
         "type": "scatterpolargl"
        },
        {
         "hovertemplate": "name=SLIDE ON IT<br>value=%{r}<br>variable=%{theta}<extra></extra>",
         "legendgroup": "SLIDE ON IT",
         "line": {
          "color": "#FECB52",
          "dash": "solid"
         },
         "marker": {
          "symbol": "circle"
         },
         "mode": "lines",
         "name": "SLIDE ON IT",
         "opacity": 0.7,
         "r": [
          0.753,
          0.445,
          0.048,
          0.0819,
          0.0908,
          0.61,
          0.753
         ],
         "showlegend": true,
         "subplot": "polar",
         "theta": [
          "danceability",
          "energy",
          "speechiness",
          "acousticness",
          "liveness",
          "valence",
          "danceability"
         ],
         "type": "scatterpolargl"
        },
        {
         "hovertemplate": "name=STAY (with Justin Bieber)<br>value=%{r}<br>variable=%{theta}<extra></extra>",
         "legendgroup": "STAY (with Justin Bieber)",
         "line": {
          "color": "#636efa",
          "dash": "solid"
         },
         "marker": {
          "symbol": "circle"
         },
         "mode": "lines",
         "name": "STAY (with Justin Bieber)",
         "opacity": 0.7,
         "r": [
          0.589,
          0.7795000000000001,
          0.05025,
          0.03765,
          0.103,
          0.477,
          0.589
         ],
         "showlegend": true,
         "subplot": "polar",
         "theta": [
          "danceability",
          "energy",
          "speechiness",
          "acousticness",
          "liveness",
          "valence",
          "danceability"
         ],
         "type": "scatterpolargl"
        },
        {
         "hovertemplate": "name=Satellite<br>value=%{r}<br>variable=%{theta}<extra></extra>",
         "legendgroup": "Satellite",
         "line": {
          "color": "#EF553B",
          "dash": "solid"
         },
         "marker": {
          "symbol": "circle"
         },
         "mode": "lines",
         "name": "Satellite",
         "opacity": 0.7,
         "r": [
          0.576,
          0.457,
          0.0304,
          0.143,
          0.0917,
          0.301,
          0.576
         ],
         "showlegend": true,
         "subplot": "polar",
         "theta": [
          "danceability",
          "energy",
          "speechiness",
          "acousticness",
          "liveness",
          "valence",
          "danceability"
         ],
         "type": "scatterpolargl"
        },
        {
         "hovertemplate": "name=Saturn<br>value=%{r}<br>variable=%{theta}<extra></extra>",
         "legendgroup": "Saturn",
         "line": {
          "color": "#00cc96",
          "dash": "solid"
         },
         "marker": {
          "symbol": "circle"
         },
         "mode": "lines",
         "name": "Saturn",
         "opacity": 0.7,
         "r": [
          0.6919999999999998,
          0.613,
          0.09000000000000001,
          0.579,
          0.256,
          0.722,
          0.6919999999999998
         ],
         "showlegend": true,
         "subplot": "polar",
         "theta": [
          "danceability",
          "energy",
          "speechiness",
          "acousticness",
          "liveness",
          "valence",
          "danceability"
         ],
         "type": "scatterpolargl"
        },
        {
         "hovertemplate": "name=Sayrena Ya Donia<br>value=%{r}<br>variable=%{theta}<extra></extra>",
         "legendgroup": "Sayrena Ya Donia",
         "line": {
          "color": "#ab63fa",
          "dash": "solid"
         },
         "marker": {
          "symbol": "circle"
         },
         "mode": "lines",
         "name": "Sayrena Ya Donia",
         "opacity": 0.7,
         "r": [
          0.656,
          0.723,
          0.0477,
          0.137,
          0.387,
          0.89,
          0.656
         ],
         "showlegend": true,
         "subplot": "polar",
         "theta": [
          "danceability",
          "energy",
          "speechiness",
          "acousticness",
          "liveness",
          "valence",
          "danceability"
         ],
         "type": "scatterpolargl"
        },
        {
         "hovertemplate": "name=Shivers<br>value=%{r}<br>variable=%{theta}<extra></extra>",
         "legendgroup": "Shivers",
         "line": {
          "color": "#FFA15A",
          "dash": "solid"
         },
         "marker": {
          "symbol": "circle"
         },
         "mode": "lines",
         "name": "Shivers",
         "opacity": 0.7,
         "r": [
          0.788,
          0.859,
          0.0856,
          0.281,
          0.0424,
          0.822,
          0.788
         ],
         "showlegend": true,
         "subplot": "polar",
         "theta": [
          "danceability",
          "energy",
          "speechiness",
          "acousticness",
          "liveness",
          "valence",
          "danceability"
         ],
         "type": "scatterpolargl"
        },
        {
         "hovertemplate": "name=Shokran<br>value=%{r}<br>variable=%{theta}<extra></extra>",
         "legendgroup": "Shokran",
         "line": {
          "color": "#19d3f3",
          "dash": "solid"
         },
         "marker": {
          "symbol": "circle"
         },
         "mode": "lines",
         "name": "Shokran",
         "opacity": 0.7,
         "r": [
          0.784,
          0.735,
          0.0905,
          0.455,
          0.061,
          0.748,
          0.784
         ],
         "showlegend": true,
         "subplot": "polar",
         "theta": [
          "danceability",
          "energy",
          "speechiness",
          "acousticness",
          "liveness",
          "valence",
          "danceability"
         ],
         "type": "scatterpolargl"
        },
        {
         "hovertemplate": "name=Sindbad<br>value=%{r}<br>variable=%{theta}<extra></extra>",
         "legendgroup": "Sindbad",
         "line": {
          "color": "#FF6692",
          "dash": "solid"
         },
         "marker": {
          "symbol": "circle"
         },
         "mode": "lines",
         "name": "Sindbad",
         "opacity": 0.7,
         "r": [
          0.751,
          0.774,
          0.142,
          0.105,
          0.292,
          0.603,
          0.751
         ],
         "showlegend": true,
         "subplot": "polar",
         "theta": [
          "danceability",
          "energy",
          "speechiness",
          "acousticness",
          "liveness",
          "valence",
          "danceability"
         ],
         "type": "scatterpolargl"
        },
        {
         "hovertemplate": "name=Siri<br>value=%{r}<br>variable=%{theta}<extra></extra>",
         "legendgroup": "Siri",
         "line": {
          "color": "#B6E880",
          "dash": "solid"
         },
         "marker": {
          "symbol": "circle"
         },
         "mode": "lines",
         "name": "Siri",
         "opacity": 0.7,
         "r": [
          0.862,
          0.699,
          0.0834,
          0.0458,
          0.107,
          0.49,
          0.862
         ],
         "showlegend": true,
         "subplot": "polar",
         "theta": [
          "danceability",
          "energy",
          "speechiness",
          "acousticness",
          "liveness",
          "valence",
          "danceability"
         ],
         "type": "scatterpolargl"
        },
        {
         "hovertemplate": "name=Something in the Orange<br>value=%{r}<br>variable=%{theta}<extra></extra>",
         "legendgroup": "Something in the Orange",
         "line": {
          "color": "#FF97FF",
          "dash": "solid"
         },
         "marker": {
          "symbol": "circle"
         },
         "mode": "lines",
         "name": "Something in the Orange",
         "opacity": 0.7,
         "r": [
          0.369,
          0.192,
          0.04,
          0.555,
          0.0954,
          0.148,
          0.369
         ],
         "showlegend": true,
         "subplot": "polar",
         "theta": [
          "danceability",
          "energy",
          "speechiness",
          "acousticness",
          "liveness",
          "valence",
          "danceability"
         ],
         "type": "scatterpolargl"
        },
        {
         "hovertemplate": "name=Still Make Your Tea<br>value=%{r}<br>variable=%{theta}<extra></extra>",
         "legendgroup": "Still Make Your Tea",
         "line": {
          "color": "#FECB52",
          "dash": "solid"
         },
         "marker": {
          "symbol": "circle"
         },
         "mode": "lines",
         "name": "Still Make Your Tea",
         "opacity": 0.7,
         "r": [
          0.341,
          0.38999999999999996,
          0.0567,
          0.506,
          0.271,
          0.164,
          0.341
         ],
         "showlegend": true,
         "subplot": "polar",
         "theta": [
          "danceability",
          "energy",
          "speechiness",
          "acousticness",
          "liveness",
          "valence",
          "danceability"
         ],
         "type": "scatterpolargl"
        },
        {
         "hovertemplate": "name=Suavemente<br>value=%{r}<br>variable=%{theta}<extra></extra>",
         "legendgroup": "Suavemente",
         "line": {
          "color": "#636efa",
          "dash": "solid"
         },
         "marker": {
          "symbol": "circle"
         },
         "mode": "lines",
         "name": "Suavemente",
         "opacity": 0.7,
         "r": [
          0.862,
          0.696,
          0.0538,
          0.326,
          0.0418,
          0.519,
          0.862
         ],
         "showlegend": true,
         "subplot": "polar",
         "theta": [
          "danceability",
          "energy",
          "speechiness",
          "acousticness",
          "liveness",
          "valence",
          "danceability"
         ],
         "type": "scatterpolargl"
        },
        {
         "hovertemplate": "name=Szary świat<br>value=%{r}<br>variable=%{theta}<extra></extra>",
         "legendgroup": "Szary świat",
         "line": {
          "color": "#EF553B",
          "dash": "solid"
         },
         "marker": {
          "symbol": "circle"
         },
         "mode": "lines",
         "name": "Szary świat",
         "opacity": 0.7,
         "r": [
          0.698,
          0.545,
          0.036,
          0.133,
          0.0835,
          0.27,
          0.698
         ],
         "showlegend": true,
         "subplot": "polar",
         "theta": [
          "danceability",
          "energy",
          "speechiness",
          "acousticness",
          "liveness",
          "valence",
          "danceability"
         ],
         "type": "scatterpolargl"
        },
        {
         "hovertemplate": "name=TOUT VA BIEN (feat. Ninho & Naps)<br>value=%{r}<br>variable=%{theta}<extra></extra>",
         "legendgroup": "TOUT VA BIEN (feat. Ninho & Naps)",
         "line": {
          "color": "#00cc96",
          "dash": "solid"
         },
         "marker": {
          "symbol": "circle"
         },
         "mode": "lines",
         "name": "TOUT VA BIEN (feat. Ninho & Naps)",
         "opacity": 0.7,
         "r": [
          0.66,
          0.72,
          0.0753,
          0.301,
          0.226,
          0.628,
          0.66
         ],
         "showlegend": true,
         "subplot": "polar",
         "theta": [
          "danceability",
          "energy",
          "speechiness",
          "acousticness",
          "liveness",
          "valence",
          "danceability"
         ],
         "type": "scatterpolargl"
        },
        {
         "hovertemplate": "name=Ta3ala Adalla3ak<br>value=%{r}<br>variable=%{theta}<extra></extra>",
         "legendgroup": "Ta3ala Adalla3ak",
         "line": {
          "color": "#ab63fa",
          "dash": "solid"
         },
         "marker": {
          "symbol": "circle"
         },
         "mode": "lines",
         "name": "Ta3ala Adalla3ak",
         "opacity": 0.7,
         "r": [
          0.763,
          0.863,
          0.0451,
          0.651,
          0.0815,
          0.9,
          0.763
         ],
         "showlegend": true,
         "subplot": "polar",
         "theta": [
          "danceability",
          "energy",
          "speechiness",
          "acousticness",
          "liveness",
          "valence",
          "danceability"
         ],
         "type": "scatterpolargl"
        },
        {
         "hovertemplate": "name=Take Five<br>value=%{r}<br>variable=%{theta}<extra></extra>",
         "legendgroup": "Take Five",
         "line": {
          "color": "#FFA15A",
          "dash": "solid"
         },
         "marker": {
          "symbol": "circle"
         },
         "mode": "lines",
         "name": "Take Five",
         "opacity": 0.7,
         "r": [
          0.643,
          0.616,
          0.027399999999999997,
          0.325,
          0.157,
          0.58,
          0.643
         ],
         "showlegend": true,
         "subplot": "polar",
         "theta": [
          "danceability",
          "energy",
          "speechiness",
          "acousticness",
          "liveness",
          "valence",
          "danceability"
         ],
         "type": "scatterpolargl"
        },
        {
         "hovertemplate": "name=Tarot<br>value=%{r}<br>variable=%{theta}<extra></extra>",
         "legendgroup": "Tarot",
         "line": {
          "color": "#19d3f3",
          "dash": "solid"
         },
         "marker": {
          "symbol": "circle"
         },
         "mode": "lines",
         "name": "Tarot",
         "opacity": 0.7,
         "r": [
          0.795,
          0.684,
          0.0419,
          0.0225,
          0.658,
          0.419,
          0.795
         ],
         "showlegend": true,
         "subplot": "polar",
         "theta": [
          "danceability",
          "energy",
          "speechiness",
          "acousticness",
          "liveness",
          "valence",
          "danceability"
         ],
         "type": "scatterpolargl"
        },
        {
         "hovertemplate": "name=Tege Goal<br>value=%{r}<br>variable=%{theta}<extra></extra>",
         "legendgroup": "Tege Goal",
         "line": {
          "color": "#FF6692",
          "dash": "solid"
         },
         "marker": {
          "symbol": "circle"
         },
         "mode": "lines",
         "name": "Tege Goal",
         "opacity": 0.7,
         "r": [
          0.783,
          0.59,
          0.222,
          0.0184,
          0.0835,
          0.711,
          0.783
         ],
         "showlegend": true,
         "subplot": "polar",
         "theta": [
          "danceability",
          "energy",
          "speechiness",
          "acousticness",
          "liveness",
          "valence",
          "danceability"
         ],
         "type": "scatterpolargl"
        },
        {
         "hovertemplate": "name=Tesla<br>value=%{r}<br>variable=%{theta}<extra></extra>",
         "legendgroup": "Tesla",
         "line": {
          "color": "#B6E880",
          "dash": "solid"
         },
         "marker": {
          "symbol": "circle"
         },
         "mode": "lines",
         "name": "Tesla",
         "opacity": 0.7,
         "r": [
          0.701,
          0.361,
          0.15,
          0.423,
          0.0896,
          0.83,
          0.701
         ],
         "showlegend": true,
         "subplot": "polar",
         "theta": [
          "danceability",
          "energy",
          "speechiness",
          "acousticness",
          "liveness",
          "valence",
          "danceability"
         ],
         "type": "scatterpolargl"
        },
        {
         "hovertemplate": "name=Thousand Miles<br>value=%{r}<br>variable=%{theta}<extra></extra>",
         "legendgroup": "Thousand Miles",
         "line": {
          "color": "#FF97FF",
          "dash": "solid"
         },
         "marker": {
          "symbol": "circle"
         },
         "mode": "lines",
         "name": "Thousand Miles",
         "opacity": 0.7,
         "r": [
          0.376,
          0.657,
          0.0768,
          0.0858,
          0.0884,
          0.203,
          0.376
         ],
         "showlegend": true,
         "subplot": "polar",
         "theta": [
          "danceability",
          "energy",
          "speechiness",
          "acousticness",
          "liveness",
          "valence",
          "danceability"
         ],
         "type": "scatterpolargl"
        },
        {
         "hovertemplate": "name=Thunder<br>value=%{r}<br>variable=%{theta}<extra></extra>",
         "legendgroup": "Thunder",
         "line": {
          "color": "#FECB52",
          "dash": "solid"
         },
         "marker": {
          "symbol": "circle"
         },
         "mode": "lines",
         "name": "Thunder",
         "opacity": 0.7,
         "r": [
          0.67,
          0.896,
          0.058,
          0.0342,
          0.344,
          0.403,
          0.67
         ],
         "showlegend": true,
         "subplot": "polar",
         "theta": [
          "danceability",
          "energy",
          "speechiness",
          "acousticness",
          "liveness",
          "valence",
          "danceability"
         ],
         "type": "scatterpolargl"
        },
        {
         "hovertemplate": "name=Tití Me Preguntó<br>value=%{r}<br>variable=%{theta}<extra></extra>",
         "legendgroup": "Tití Me Preguntó",
         "line": {
          "color": "#636efa",
          "dash": "solid"
         },
         "marker": {
          "symbol": "circle"
         },
         "mode": "lines",
         "name": "Tití Me Preguntó",
         "opacity": 0.7,
         "r": [
          0.65,
          0.715,
          0.253,
          0.0993,
          0.126,
          0.187,
          0.65
         ],
         "showlegend": true,
         "subplot": "polar",
         "theta": [
          "danceability",
          "energy",
          "speechiness",
          "acousticness",
          "liveness",
          "valence",
          "danceability"
         ],
         "type": "scatterpolargl"
        },
        {
         "hovertemplate": "name=Trompeta<br>value=%{r}<br>variable=%{theta}<extra></extra>",
         "legendgroup": "Trompeta",
         "line": {
          "color": "#EF553B",
          "dash": "solid"
         },
         "marker": {
          "symbol": "circle"
         },
         "mode": "lines",
         "name": "Trompeta",
         "opacity": 0.7,
         "r": [
          0.64,
          0.863,
          0.0321,
          0.0152,
          0.301,
          0.36,
          0.64
         ],
         "showlegend": true,
         "subplot": "polar",
         "theta": [
          "danceability",
          "energy",
          "speechiness",
          "acousticness",
          "liveness",
          "valence",
          "danceability"
         ],
         "type": "scatterpolargl"
        },
        {
         "hovertemplate": "name=True Love<br>value=%{r}<br>variable=%{theta}<extra></extra>",
         "legendgroup": "True Love",
         "line": {
          "color": "#00cc96",
          "dash": "solid"
         },
         "marker": {
          "symbol": "circle"
         },
         "mode": "lines",
         "name": "True Love",
         "opacity": 0.7,
         "r": [
          0.712,
          0.861,
          0.25,
          0.0182,
          0.511,
          0.388,
          0.712
         ],
         "showlegend": true,
         "subplot": "polar",
         "theta": [
          "danceability",
          "energy",
          "speechiness",
          "acousticness",
          "liveness",
          "valence",
          "danceability"
         ],
         "type": "scatterpolargl"
        },
        {
         "hovertemplate": "name=Trójkąt Bermudzki<br>value=%{r}<br>variable=%{theta}<extra></extra>",
         "legendgroup": "Trójkąt Bermudzki",
         "line": {
          "color": "#ab63fa",
          "dash": "solid"
         },
         "marker": {
          "symbol": "circle"
         },
         "mode": "lines",
         "name": "Trójkąt Bermudzki",
         "opacity": 0.7,
         "r": [
          0.645,
          0.839,
          0.168,
          0.323,
          0.214,
          0.632,
          0.645
         ],
         "showlegend": true,
         "subplot": "polar",
         "theta": [
          "danceability",
          "energy",
          "speechiness",
          "acousticness",
          "liveness",
          "valence",
          "danceability"
         ],
         "type": "scatterpolargl"
        },
        {
         "hovertemplate": "name=Un Ratito<br>value=%{r}<br>variable=%{theta}<extra></extra>",
         "legendgroup": "Un Ratito",
         "line": {
          "color": "#FFA15A",
          "dash": "solid"
         },
         "marker": {
          "symbol": "circle"
         },
         "mode": "lines",
         "name": "Un Ratito",
         "opacity": 0.7,
         "r": [
          0.787,
          0.546,
          0.0532,
          0.305,
          0.122,
          0.222,
          0.787
         ],
         "showlegend": true,
         "subplot": "polar",
         "theta": [
          "danceability",
          "energy",
          "speechiness",
          "acousticness",
          "liveness",
          "valence",
          "danceability"
         ],
         "type": "scatterpolargl"
        },
        {
         "hovertemplate": "name=Vluchtstrook<br>value=%{r}<br>variable=%{theta}<extra></extra>",
         "legendgroup": "Vluchtstrook",
         "line": {
          "color": "#19d3f3",
          "dash": "solid"
         },
         "marker": {
          "symbol": "circle"
         },
         "mode": "lines",
         "name": "Vluchtstrook",
         "opacity": 0.7,
         "r": [
          0.73,
          0.771,
          0.0534,
          0.0321,
          0.127,
          0.689,
          0.73
         ],
         "showlegend": true,
         "subplot": "polar",
         "theta": [
          "danceability",
          "energy",
          "speechiness",
          "acousticness",
          "liveness",
          "valence",
          "danceability"
         ],
         "type": "scatterpolargl"
        },
        {
         "hovertemplate": "name=W / X / Y<br>value=%{r}<br>variable=%{theta}<extra></extra>",
         "legendgroup": "W / X / Y",
         "line": {
          "color": "#FF6692",
          "dash": "solid"
         },
         "marker": {
          "symbol": "circle"
         },
         "mode": "lines",
         "name": "W / X / Y",
         "opacity": 0.7,
         "r": [
          0.628,
          0.775,
          0.0535,
          0.159,
          0.33,
          0.674,
          0.628
         ],
         "showlegend": true,
         "subplot": "polar",
         "theta": [
          "danceability",
          "energy",
          "speechiness",
          "acousticness",
          "liveness",
          "valence",
          "danceability"
         ],
         "type": "scatterpolargl"
        },
        {
         "hovertemplate": "name=WAIT FOR U (feat. Drake & Tems)<br>value=%{r}<br>variable=%{theta}<extra></extra>",
         "legendgroup": "WAIT FOR U (feat. Drake & Tems)",
         "line": {
          "color": "#B6E880",
          "dash": "solid"
         },
         "marker": {
          "symbol": "circle"
         },
         "mode": "lines",
         "name": "WAIT FOR U (feat. Drake & Tems)",
         "opacity": 0.7,
         "r": [
          0.463,
          0.667,
          0.38,
          0.334,
          0.0695,
          0.351,
          0.463
         ],
         "showlegend": true,
         "subplot": "polar",
         "theta": [
          "danceability",
          "energy",
          "speechiness",
          "acousticness",
          "liveness",
          "valence",
          "danceability"
         ],
         "type": "scatterpolargl"
        },
        {
         "hovertemplate": "name=WIĘCEJ DYMU<br>value=%{r}<br>variable=%{theta}<extra></extra>",
         "legendgroup": "WIĘCEJ DYMU",
         "line": {
          "color": "#FF97FF",
          "dash": "solid"
         },
         "marker": {
          "symbol": "circle"
         },
         "mode": "lines",
         "name": "WIĘCEJ DYMU",
         "opacity": 0.7,
         "r": [
          0.816,
          0.679,
          0.303,
          0.0537,
          0.0498,
          0.68,
          0.816
         ],
         "showlegend": true,
         "subplot": "polar",
         "theta": [
          "danceability",
          "energy",
          "speechiness",
          "acousticness",
          "liveness",
          "valence",
          "danceability"
         ],
         "type": "scatterpolargl"
        },
        {
         "hovertemplate": "name=Wasted On You<br>value=%{r}<br>variable=%{theta}<extra></extra>",
         "legendgroup": "Wasted On You",
         "line": {
          "color": "#FECB52",
          "dash": "solid"
         },
         "marker": {
          "symbol": "circle"
         },
         "mode": "lines",
         "name": "Wasted On You",
         "opacity": 0.7,
         "r": [
          0.505,
          0.657,
          0.0318,
          0.373,
          0.126,
          0.252,
          0.505
         ],
         "showlegend": true,
         "subplot": "polar",
         "theta": [
          "danceability",
          "energy",
          "speechiness",
          "acousticness",
          "liveness",
          "valence",
          "danceability"
         ],
         "type": "scatterpolargl"
        },
        {
         "hovertemplate": "name=Where Are You Now<br>value=%{r}<br>variable=%{theta}<extra></extra>",
         "legendgroup": "Where Are You Now",
         "line": {
          "color": "#636efa",
          "dash": "solid"
         },
         "marker": {
          "symbol": "circle"
         },
         "mode": "lines",
         "name": "Where Are You Now",
         "opacity": 0.7,
         "r": [
          0.671,
          0.636,
          0.103,
          0.515,
          0.172,
          0.262,
          0.671
         ],
         "showlegend": true,
         "subplot": "polar",
         "theta": [
          "danceability",
          "energy",
          "speechiness",
          "acousticness",
          "liveness",
          "valence",
          "danceability"
         ],
         "type": "scatterpolargl"
        },
        {
         "hovertemplate": "name=Whiskey Glasses<br>value=%{r}<br>variable=%{theta}<extra></extra>",
         "legendgroup": "Whiskey Glasses",
         "line": {
          "color": "#EF553B",
          "dash": "solid"
         },
         "marker": {
          "symbol": "circle"
         },
         "mode": "lines",
         "name": "Whiskey Glasses",
         "opacity": 0.7,
         "r": [
          0.614,
          0.68,
          0.0289,
          0.369,
          0.115,
          0.707,
          0.614
         ],
         "showlegend": true,
         "subplot": "polar",
         "theta": [
          "danceability",
          "energy",
          "speechiness",
          "acousticness",
          "liveness",
          "valence",
          "danceability"
         ],
         "type": "scatterpolargl"
        },
        {
         "hovertemplate": "name=Woman<br>value=%{r}<br>variable=%{theta}<extra></extra>",
         "legendgroup": "Woman",
         "line": {
          "color": "#00cc96",
          "dash": "solid"
         },
         "marker": {
          "symbol": "circle"
         },
         "mode": "lines",
         "name": "Woman",
         "opacity": 0.7,
         "r": [
          0.825,
          0.761,
          0.0895,
          0.109,
          0.119,
          0.881,
          0.825
         ],
         "showlegend": true,
         "subplot": "polar",
         "theta": [
          "danceability",
          "energy",
          "speechiness",
          "acousticness",
          "liveness",
          "valence",
          "danceability"
         ],
         "type": "scatterpolargl"
        },
        {
         "hovertemplate": "name=Ya Salam - Remix<br>value=%{r}<br>variable=%{theta}<extra></extra>",
         "legendgroup": "Ya Salam - Remix",
         "line": {
          "color": "#ab63fa",
          "dash": "solid"
         },
         "marker": {
          "symbol": "circle"
         },
         "mode": "lines",
         "name": "Ya Salam - Remix",
         "opacity": 0.7,
         "r": [
          0.536,
          0.408,
          0.275,
          0.729,
          0.109,
          0.569,
          0.536
         ],
         "showlegend": true,
         "subplot": "polar",
         "theta": [
          "danceability",
          "energy",
          "speechiness",
          "acousticness",
          "liveness",
          "valence",
          "danceability"
         ],
         "type": "scatterpolargl"
        },
        {
         "hovertemplate": "name=You Proof<br>value=%{r}<br>variable=%{theta}<extra></extra>",
         "legendgroup": "You Proof",
         "line": {
          "color": "#FFA15A",
          "dash": "solid"
         },
         "marker": {
          "symbol": "circle"
         },
         "mode": "lines",
         "name": "You Proof",
         "opacity": 0.7,
         "r": [
          0.731,
          0.85,
          0.0336,
          0.252,
          0.605,
          0.644,
          0.731
         ],
         "showlegend": true,
         "subplot": "polar",
         "theta": [
          "danceability",
          "energy",
          "speechiness",
          "acousticness",
          "liveness",
          "valence",
          "danceability"
         ],
         "type": "scatterpolargl"
        },
        {
         "hovertemplate": "name=You Should Know<br>value=%{r}<br>variable=%{theta}<extra></extra>",
         "legendgroup": "You Should Know",
         "line": {
          "color": "#19d3f3",
          "dash": "solid"
         },
         "marker": {
          "symbol": "circle"
         },
         "mode": "lines",
         "name": "You Should Know",
         "opacity": 0.7,
         "r": [
          0.579,
          0.663,
          0.0408,
          0.363,
          0.0936,
          0.446,
          0.579
         ],
         "showlegend": true,
         "subplot": "polar",
         "theta": [
          "danceability",
          "energy",
          "speechiness",
          "acousticness",
          "liveness",
          "valence",
          "danceability"
         ],
         "type": "scatterpolargl"
        },
        {
         "hovertemplate": "name=You and I<br>value=%{r}<br>variable=%{theta}<extra></extra>",
         "legendgroup": "You and I",
         "line": {
          "color": "#FF6692",
          "dash": "solid"
         },
         "marker": {
          "symbol": "circle"
         },
         "mode": "lines",
         "name": "You and I",
         "opacity": 0.7,
         "r": [
          0.662,
          0.695,
          0.0502,
          0.20200000000000004,
          0.0647,
          0.643,
          0.662
         ],
         "showlegend": true,
         "subplot": "polar",
         "theta": [
          "danceability",
          "energy",
          "speechiness",
          "acousticness",
          "liveness",
          "valence",
          "danceability"
         ],
         "type": "scatterpolargl"
        },
        {
         "hovertemplate": "name=Zatańczysz ze mną<br>value=%{r}<br>variable=%{theta}<extra></extra>",
         "legendgroup": "Zatańczysz ze mną",
         "line": {
          "color": "#B6E880",
          "dash": "solid"
         },
         "marker": {
          "symbol": "circle"
         },
         "mode": "lines",
         "name": "Zatańczysz ze mną",
         "opacity": 0.7,
         "r": [
          0.744,
          0.928,
          0.238,
          0.0084,
          0.14,
          0.302,
          0.744
         ],
         "showlegend": true,
         "subplot": "polar",
         "theta": [
          "danceability",
          "energy",
          "speechiness",
          "acousticness",
          "liveness",
          "valence",
          "danceability"
         ],
         "type": "scatterpolargl"
        },
        {
         "hovertemplate": "name=Zegarek ze Szwajcarii<br>value=%{r}<br>variable=%{theta}<extra></extra>",
         "legendgroup": "Zegarek ze Szwajcarii",
         "line": {
          "color": "#FF97FF",
          "dash": "solid"
         },
         "marker": {
          "symbol": "circle"
         },
         "mode": "lines",
         "name": "Zegarek ze Szwajcarii",
         "opacity": 0.7,
         "r": [
          0.919,
          0.305,
          0.227,
          0.103,
          0.145,
          0.294,
          0.919
         ],
         "showlegend": true,
         "subplot": "polar",
         "theta": [
          "danceability",
          "energy",
          "speechiness",
          "acousticness",
          "liveness",
          "valence",
          "danceability"
         ],
         "type": "scatterpolargl"
        },
        {
         "hovertemplate": "name=Zombie<br>value=%{r}<br>variable=%{theta}<extra></extra>",
         "legendgroup": "Zombie",
         "line": {
          "color": "#FECB52",
          "dash": "solid"
         },
         "marker": {
          "symbol": "circle"
         },
         "mode": "lines",
         "name": "Zombie",
         "opacity": 0.7,
         "r": [
          0.724,
          0.875,
          0.0395,
          0.00225,
          0.16,
          0.442,
          0.724
         ],
         "showlegend": true,
         "subplot": "polar",
         "theta": [
          "danceability",
          "energy",
          "speechiness",
          "acousticness",
          "liveness",
          "valence",
          "danceability"
         ],
         "type": "scatterpolargl"
        },
        {
         "hovertemplate": "name=Zosia<br>value=%{r}<br>variable=%{theta}<extra></extra>",
         "legendgroup": "Zosia",
         "line": {
          "color": "#636efa",
          "dash": "solid"
         },
         "marker": {
          "symbol": "circle"
         },
         "mode": "lines",
         "name": "Zosia",
         "opacity": 0.7,
         "r": [
          0.826,
          0.629,
          0.17,
          0.479,
          0.195,
          0.864,
          0.826
         ],
         "showlegend": true,
         "subplot": "polar",
         "theta": [
          "danceability",
          "energy",
          "speechiness",
          "acousticness",
          "liveness",
          "valence",
          "danceability"
         ],
         "type": "scatterpolargl"
        },
        {
         "hovertemplate": "name=Złote Tarasy<br>value=%{r}<br>variable=%{theta}<extra></extra>",
         "legendgroup": "Złote Tarasy",
         "line": {
          "color": "#EF553B",
          "dash": "solid"
         },
         "marker": {
          "symbol": "circle"
         },
         "mode": "lines",
         "name": "Złote Tarasy",
         "opacity": 0.7,
         "r": [
          0.878,
          0.604,
          0.334,
          0.52,
          0.286,
          0.928,
          0.878
         ],
         "showlegend": true,
         "subplot": "polar",
         "theta": [
          "danceability",
          "energy",
          "speechiness",
          "acousticness",
          "liveness",
          "valence",
          "danceability"
         ],
         "type": "scatterpolargl"
        },
        {
         "hovertemplate": "name=clockwork Monkeys<br>value=%{r}<br>variable=%{theta}<extra></extra>",
         "legendgroup": "clockwork Monkeys",
         "line": {
          "color": "#00cc96",
          "dash": "solid"
         },
         "marker": {
          "symbol": "circle"
         },
         "mode": "lines",
         "name": "clockwork Monkeys",
         "opacity": 0.7,
         "r": [
          0.469,
          0.938,
          0.0526,
          0.0000453,
          0.158,
          0.699,
          0.469
         ],
         "showlegend": true,
         "subplot": "polar",
         "theta": [
          "danceability",
          "energy",
          "speechiness",
          "acousticness",
          "liveness",
          "valence",
          "danceability"
         ],
         "type": "scatterpolargl"
        },
        {
         "hovertemplate": "name=dres<br>value=%{r}<br>variable=%{theta}<extra></extra>",
         "legendgroup": "dres",
         "line": {
          "color": "#ab63fa",
          "dash": "solid"
         },
         "marker": {
          "symbol": "circle"
         },
         "mode": "lines",
         "name": "dres",
         "opacity": 0.7,
         "r": [
          0.664,
          0.617,
          0.115,
          0.352,
          0.235,
          0.637,
          0.664
         ],
         "showlegend": true,
         "subplot": "polar",
         "theta": [
          "danceability",
          "energy",
          "speechiness",
          "acousticness",
          "liveness",
          "valence",
          "danceability"
         ],
         "type": "scatterpolargl"
        },
        {
         "hovertemplate": "name=for always. forever<br>value=%{r}<br>variable=%{theta}<extra></extra>",
         "legendgroup": "for always. forever",
         "line": {
          "color": "#FFA15A",
          "dash": "solid"
         },
         "marker": {
          "symbol": "circle"
         },
         "mode": "lines",
         "name": "for always. forever",
         "opacity": 0.7,
         "r": [
          0.315,
          0.8169999999999998,
          0.081,
          0.298,
          0.216,
          0.208,
          0.315
         ],
         "showlegend": true,
         "subplot": "polar",
         "theta": [
          "danceability",
          "energy",
          "speechiness",
          "acousticness",
          "liveness",
          "valence",
          "danceability"
         ],
         "type": "scatterpolargl"
        },
        {
         "hovertemplate": "name=good 4 u<br>value=%{r}<br>variable=%{theta}<extra></extra>",
         "legendgroup": "good 4 u",
         "line": {
          "color": "#19d3f3",
          "dash": "solid"
         },
         "marker": {
          "symbol": "circle"
         },
         "mode": "lines",
         "name": "good 4 u",
         "opacity": 0.7,
         "r": [
          0.562,
          0.643,
          0.141,
          0.297,
          0.0848,
          0.672,
          0.562
         ],
         "showlegend": true,
         "subplot": "polar",
         "theta": [
          "danceability",
          "energy",
          "speechiness",
          "acousticness",
          "liveness",
          "valence",
          "danceability"
         ],
         "type": "scatterpolargl"
        },
        {
         "hovertemplate": "name=hello darlin'<br>value=%{r}<br>variable=%{theta}<extra></extra>",
         "legendgroup": "hello darlin'",
         "line": {
          "color": "#FF6692",
          "dash": "solid"
         },
         "marker": {
          "symbol": "circle"
         },
         "mode": "lines",
         "name": "hello darlin'",
         "opacity": 0.7,
         "r": [
          0.603,
          0.517,
          0.03,
          0.0201,
          0.17200000000000001,
          0.305,
          0.603
         ],
         "showlegend": true,
         "subplot": "polar",
         "theta": [
          "danceability",
          "energy",
          "speechiness",
          "acousticness",
          "liveness",
          "valence",
          "danceability"
         ],
         "type": "scatterpolargl"
        },
        {
         "hovertemplate": "name=ostatnia nadzieja<br>value=%{r}<br>variable=%{theta}<extra></extra>",
         "legendgroup": "ostatnia nadzieja",
         "line": {
          "color": "#B6E880",
          "dash": "solid"
         },
         "marker": {
          "symbol": "circle"
         },
         "mode": "lines",
         "name": "ostatnia nadzieja",
         "opacity": 0.7,
         "r": [
          0.688,
          0.721,
          0.0326,
          0.126,
          0.583,
          0.493,
          0.688
         ],
         "showlegend": true,
         "subplot": "polar",
         "theta": [
          "danceability",
          "energy",
          "speechiness",
          "acousticness",
          "liveness",
          "valence",
          "danceability"
         ],
         "type": "scatterpolargl"
        },
        {
         "hovertemplate": "name=ŚMIECI WYWÓZ<br>value=%{r}<br>variable=%{theta}<extra></extra>",
         "legendgroup": "ŚMIECI WYWÓZ",
         "line": {
          "color": "#FF97FF",
          "dash": "solid"
         },
         "marker": {
          "symbol": "circle"
         },
         "mode": "lines",
         "name": "ŚMIECI WYWÓZ",
         "opacity": 0.7,
         "r": [
          0.702,
          0.655,
          0.345,
          0.534,
          0.122,
          0.63,
          0.702
         ],
         "showlegend": true,
         "subplot": "polar",
         "theta": [
          "danceability",
          "energy",
          "speechiness",
          "acousticness",
          "liveness",
          "valence",
          "danceability"
         ],
         "type": "scatterpolargl"
        },
        {
         "hovertemplate": "name=أسياد الصوت<br>value=%{r}<br>variable=%{theta}<extra></extra>",
         "legendgroup": "أسياد الصوت",
         "line": {
          "color": "#FECB52",
          "dash": "solid"
         },
         "marker": {
          "symbol": "circle"
         },
         "mode": "lines",
         "name": "أسياد الصوت",
         "opacity": 0.7,
         "r": [
          0.823,
          0.584,
          0.0677,
          0.436,
          0.16,
          0.284,
          0.823
         ],
         "showlegend": true,
         "subplot": "polar",
         "theta": [
          "danceability",
          "energy",
          "speechiness",
          "acousticness",
          "liveness",
          "valence",
          "danceability"
         ],
         "type": "scatterpolargl"
        },
        {
         "hovertemplate": "name=اغنية اقوى ميكس من وي<br>value=%{r}<br>variable=%{theta}<extra></extra>",
         "legendgroup": "اغنية اقوى ميكس من وي",
         "line": {
          "color": "#636efa",
          "dash": "solid"
         },
         "marker": {
          "symbol": "circle"
         },
         "mode": "lines",
         "name": "اغنية اقوى ميكس من وي",
         "opacity": 0.7,
         "r": [
          0.779,
          0.808,
          0.292,
          0.0845,
          0.0656,
          0.52,
          0.779
         ],
         "showlegend": true,
         "subplot": "polar",
         "theta": [
          "danceability",
          "energy",
          "speechiness",
          "acousticness",
          "liveness",
          "valence",
          "danceability"
         ],
         "type": "scatterpolargl"
        },
        {
         "hovertemplate": "name=البخت<br>value=%{r}<br>variable=%{theta}<extra></extra>",
         "legendgroup": "البخت",
         "line": {
          "color": "#EF553B",
          "dash": "solid"
         },
         "marker": {
          "symbol": "circle"
         },
         "mode": "lines",
         "name": "البخت",
         "opacity": 0.7,
         "r": [
          0.78,
          0.59,
          0.132,
          0.487,
          0.115,
          0.66,
          0.78
         ],
         "showlegend": true,
         "subplot": "polar",
         "theta": [
          "danceability",
          "energy",
          "speechiness",
          "acousticness",
          "liveness",
          "valence",
          "danceability"
         ],
         "type": "scatterpolargl"
        },
        {
         "hovertemplate": "name=البوصلة ضاعت<br>value=%{r}<br>variable=%{theta}<extra></extra>",
         "legendgroup": "البوصلة ضاعت",
         "line": {
          "color": "#00cc96",
          "dash": "solid"
         },
         "marker": {
          "symbol": "circle"
         },
         "mode": "lines",
         "name": "البوصلة ضاعت",
         "opacity": 0.7,
         "r": [
          0.753,
          0.504,
          0.132,
          0.666,
          0.121,
          0.299,
          0.753
         ],
         "showlegend": true,
         "subplot": "polar",
         "theta": [
          "danceability",
          "energy",
          "speechiness",
          "acousticness",
          "liveness",
          "valence",
          "danceability"
         ],
         "type": "scatterpolargl"
        },
        {
         "hovertemplate": "name=بعودة يا بلادى ( من فيلم \" كباتن الزعتري \")<br>value=%{r}<br>variable=%{theta}<extra></extra>",
         "legendgroup": "بعودة يا بلادى ( من فيلم \" كباتن الزعتري \")",
         "line": {
          "color": "#ab63fa",
          "dash": "solid"
         },
         "marker": {
          "symbol": "circle"
         },
         "mode": "lines",
         "name": "بعودة يا بلادى ( من فيلم \" كباتن الزعتري \")",
         "opacity": 0.7,
         "r": [
          0.872,
          0.665,
          0.121,
          0.187,
          0.0817,
          0.897,
          0.872
         ],
         "showlegend": true,
         "subplot": "polar",
         "theta": [
          "danceability",
          "energy",
          "speechiness",
          "acousticness",
          "liveness",
          "valence",
          "danceability"
         ],
         "type": "scatterpolargl"
        },
        {
         "hovertemplate": "name=ديدي<br>value=%{r}<br>variable=%{theta}<extra></extra>",
         "legendgroup": "ديدي",
         "line": {
          "color": "#FFA15A",
          "dash": "solid"
         },
         "marker": {
          "symbol": "circle"
         },
         "mode": "lines",
         "name": "ديدي",
         "opacity": 0.7,
         "r": [
          0.93,
          0.516,
          0.053,
          0.221,
          0.0935,
          0.741,
          0.93
         ],
         "showlegend": true,
         "subplot": "polar",
         "theta": [
          "danceability",
          "energy",
          "speechiness",
          "acousticness",
          "liveness",
          "valence",
          "danceability"
         ],
         "type": "scatterpolargl"
        },
        {
         "hovertemplate": "name=ستو أنا<br>value=%{r}<br>variable=%{theta}<extra></extra>",
         "legendgroup": "ستو أنا",
         "line": {
          "color": "#19d3f3",
          "dash": "solid"
         },
         "marker": {
          "symbol": "circle"
         },
         "mode": "lines",
         "name": "ستو أنا",
         "opacity": 0.7,
         "r": [
          0.903,
          0.745,
          0.0412,
          0.294,
          0.0811,
          0.972,
          0.903
         ],
         "showlegend": true,
         "subplot": "polar",
         "theta": [
          "danceability",
          "energy",
          "speechiness",
          "acousticness",
          "liveness",
          "valence",
          "danceability"
         ],
         "type": "scatterpolargl"
        },
        {
         "hovertemplate": "name=سكرتي<br>value=%{r}<br>variable=%{theta}<extra></extra>",
         "legendgroup": "سكرتي",
         "line": {
          "color": "#FF6692",
          "dash": "solid"
         },
         "marker": {
          "symbol": "circle"
         },
         "mode": "lines",
         "name": "سكرتي",
         "opacity": 0.7,
         "r": [
          0.769,
          0.503,
          0.348,
          0.647,
          0.115,
          0.371,
          0.769
         ],
         "showlegend": true,
         "subplot": "polar",
         "theta": [
          "danceability",
          "energy",
          "speechiness",
          "acousticness",
          "liveness",
          "valence",
          "danceability"
         ],
         "type": "scatterpolargl"
        },
        {
         "hovertemplate": "name=عرفة<br>value=%{r}<br>variable=%{theta}<extra></extra>",
         "legendgroup": "عرفة",
         "line": {
          "color": "#B6E880",
          "dash": "solid"
         },
         "marker": {
          "symbol": "circle"
         },
         "mode": "lines",
         "name": "عرفة",
         "opacity": 0.7,
         "r": [
          0.766,
          0.444,
          0.226,
          0.878,
          0.438,
          0.499,
          0.766
         ],
         "showlegend": true,
         "subplot": "polar",
         "theta": [
          "danceability",
          "energy",
          "speechiness",
          "acousticness",
          "liveness",
          "valence",
          "danceability"
         ],
         "type": "scatterpolargl"
        },
        {
         "hovertemplate": "name=عفاريت الأسفلت<br>value=%{r}<br>variable=%{theta}<extra></extra>",
         "legendgroup": "عفاريت الأسفلت",
         "line": {
          "color": "#FF97FF",
          "dash": "solid"
         },
         "marker": {
          "symbol": "circle"
         },
         "mode": "lines",
         "name": "عفاريت الأسفلت",
         "opacity": 0.7,
         "r": [
          0.85,
          0.528,
          0.267,
          0.505,
          0.204,
          0.801,
          0.85
         ],
         "showlegend": true,
         "subplot": "polar",
         "theta": [
          "danceability",
          "energy",
          "speechiness",
          "acousticness",
          "liveness",
          "valence",
          "danceability"
         ],
         "type": "scatterpolargl"
        },
        {
         "hovertemplate": "name=كان نفسي<br>value=%{r}<br>variable=%{theta}<extra></extra>",
         "legendgroup": "كان نفسي",
         "line": {
          "color": "#FECB52",
          "dash": "solid"
         },
         "marker": {
          "symbol": "circle"
         },
         "mode": "lines",
         "name": "كان نفسي",
         "opacity": 0.7,
         "r": [
          0.731,
          0.294,
          0.148,
          0.856,
          0.0817,
          0.486,
          0.731
         ],
         "showlegend": true,
         "subplot": "polar",
         "theta": [
          "danceability",
          "energy",
          "speechiness",
          "acousticness",
          "liveness",
          "valence",
          "danceability"
         ],
         "type": "scatterpolargl"
        },
        {
         "hovertemplate": "name=كنق الحلبة<br>value=%{r}<br>variable=%{theta}<extra></extra>",
         "legendgroup": "كنق الحلبة",
         "line": {
          "color": "#636efa",
          "dash": "solid"
         },
         "marker": {
          "symbol": "circle"
         },
         "mode": "lines",
         "name": "كنق الحلبة",
         "opacity": 0.7,
         "r": [
          0.963,
          0.35,
          0.117,
          0.0487,
          0.101,
          0.417,
          0.963
         ],
         "showlegend": true,
         "subplot": "polar",
         "theta": [
          "danceability",
          "energy",
          "speechiness",
          "acousticness",
          "liveness",
          "valence",
          "danceability"
         ],
         "type": "scatterpolargl"
        },
        {
         "hovertemplate": "name=وسط دموع وجراح<br>value=%{r}<br>variable=%{theta}<extra></extra>",
         "legendgroup": "وسط دموع وجراح",
         "line": {
          "color": "#EF553B",
          "dash": "solid"
         },
         "marker": {
          "symbol": "circle"
         },
         "mode": "lines",
         "name": "وسط دموع وجراح",
         "opacity": 0.7,
         "r": [
          0.805,
          0.78,
          0.0764,
          0.498,
          0.526,
          0.813,
          0.805
         ],
         "showlegend": true,
         "subplot": "polar",
         "theta": [
          "danceability",
          "energy",
          "speechiness",
          "acousticness",
          "liveness",
          "valence",
          "danceability"
         ],
         "type": "scatterpolargl"
        },
        {
         "hovertemplate": "name=きらり<br>value=%{r}<br>variable=%{theta}<extra></extra>",
         "legendgroup": "きらり",
         "line": {
          "color": "#00cc96",
          "dash": "solid"
         },
         "marker": {
          "symbol": "circle"
         },
         "mode": "lines",
         "name": "きらり",
         "opacity": 0.7,
         "r": [
          0.746,
          0.764,
          0.0462,
          0.00803,
          0.357,
          0.701,
          0.746
         ],
         "showlegend": true,
         "subplot": "polar",
         "theta": [
          "danceability",
          "energy",
          "speechiness",
          "acousticness",
          "liveness",
          "valence",
          "danceability"
         ],
         "type": "scatterpolargl"
        },
        {
         "hovertemplate": "name=なんでもないよ、<br>value=%{r}<br>variable=%{theta}<extra></extra>",
         "legendgroup": "なんでもないよ、",
         "line": {
          "color": "#ab63fa",
          "dash": "solid"
         },
         "marker": {
          "symbol": "circle"
         },
         "mode": "lines",
         "name": "なんでもないよ、",
         "opacity": 0.7,
         "r": [
          0.598,
          0.511,
          0.0423,
          0.245,
          0.0732,
          0.652,
          0.598
         ],
         "showlegend": true,
         "subplot": "polar",
         "theta": [
          "danceability",
          "energy",
          "speechiness",
          "acousticness",
          "liveness",
          "valence",
          "danceability"
         ],
         "type": "scatterpolargl"
        },
        {
         "hovertemplate": "name=カメレオン<br>value=%{r}<br>variable=%{theta}<extra></extra>",
         "legendgroup": "カメレオン",
         "line": {
          "color": "#FFA15A",
          "dash": "solid"
         },
         "marker": {
          "symbol": "circle"
         },
         "mode": "lines",
         "name": "カメレオン",
         "opacity": 0.7,
         "r": [
          0.628,
          0.533,
          0.0417,
          0.643,
          0.0733,
          0.459,
          0.628
         ],
         "showlegend": true,
         "subplot": "polar",
         "theta": [
          "danceability",
          "energy",
          "speechiness",
          "acousticness",
          "liveness",
          "valence",
          "danceability"
         ],
         "type": "scatterpolargl"
        },
        {
         "hovertemplate": "name=シャッター<br>value=%{r}<br>variable=%{theta}<extra></extra>",
         "legendgroup": "シャッター",
         "line": {
          "color": "#19d3f3",
          "dash": "solid"
         },
         "marker": {
          "symbol": "circle"
         },
         "mode": "lines",
         "name": "シャッター",
         "opacity": 0.7,
         "r": [
          0.606,
          0.579,
          0.033,
          0.512,
          0.381,
          0.661,
          0.606
         ],
         "showlegend": true,
         "subplot": "polar",
         "theta": [
          "danceability",
          "energy",
          "speechiness",
          "acousticness",
          "liveness",
          "valence",
          "danceability"
         ],
         "type": "scatterpolargl"
        },
        {
         "hovertemplate": "name=シンデレラボーイ<br>value=%{r}<br>variable=%{theta}<extra></extra>",
         "legendgroup": "シンデレラボーイ",
         "line": {
          "color": "#FF6692",
          "dash": "solid"
         },
         "marker": {
          "symbol": "circle"
         },
         "mode": "lines",
         "name": "シンデレラボーイ",
         "opacity": 0.7,
         "r": [
          0.596,
          0.735,
          0.0332,
          0.0748,
          0.269,
          0.524,
          0.596
         ],
         "showlegend": true,
         "subplot": "polar",
         "theta": [
          "danceability",
          "energy",
          "speechiness",
          "acousticness",
          "liveness",
          "valence",
          "danceability"
         ],
         "type": "scatterpolargl"
        },
        {
         "hovertemplate": "name=ドライフラワー<br>value=%{r}<br>variable=%{theta}<extra></extra>",
         "legendgroup": "ドライフラワー",
         "line": {
          "color": "#B6E880",
          "dash": "solid"
         },
         "marker": {
          "symbol": "circle"
         },
         "mode": "lines",
         "name": "ドライフラワー",
         "opacity": 0.7,
         "r": [
          0.463,
          0.603,
          0.0276,
          0.495,
          0.167,
          0.477,
          0.463
         ],
         "showlegend": true,
         "subplot": "polar",
         "theta": [
          "danceability",
          "energy",
          "speechiness",
          "acousticness",
          "liveness",
          "valence",
          "danceability"
         ],
         "type": "scatterpolargl"
        },
        {
         "hovertemplate": "name=ベテルギウス<br>value=%{r}<br>variable=%{theta}<extra></extra>",
         "legendgroup": "ベテルギウス",
         "line": {
          "color": "#FF97FF",
          "dash": "solid"
         },
         "marker": {
          "symbol": "circle"
         },
         "mode": "lines",
         "name": "ベテルギウス",
         "opacity": 0.7,
         "r": [
          0.367,
          0.671,
          0.0478,
          0.222,
          0.494,
          0.691,
          0.367
         ],
         "showlegend": true,
         "subplot": "polar",
         "theta": [
          "danceability",
          "energy",
          "speechiness",
          "acousticness",
          "liveness",
          "valence",
          "danceability"
         ],
         "type": "scatterpolargl"
        },
        {
         "hovertemplate": "name=喜劇<br>value=%{r}<br>variable=%{theta}<extra></extra>",
         "legendgroup": "喜劇",
         "line": {
          "color": "#FECB52",
          "dash": "solid"
         },
         "marker": {
          "symbol": "circle"
         },
         "mode": "lines",
         "name": "喜劇",
         "opacity": 0.7,
         "r": [
          0.676,
          0.461,
          0.143,
          0.0322,
          0.358,
          0.715,
          0.676
         ],
         "showlegend": true,
         "subplot": "polar",
         "theta": [
          "danceability",
          "energy",
          "speechiness",
          "acousticness",
          "liveness",
          "valence",
          "danceability"
         ],
         "type": "scatterpolargl"
        },
        {
         "hovertemplate": "name=契約<br>value=%{r}<br>variable=%{theta}<extra></extra>",
         "legendgroup": "契約",
         "line": {
          "color": "#636efa",
          "dash": "solid"
         },
         "marker": {
          "symbol": "circle"
         },
         "mode": "lines",
         "name": "契約",
         "opacity": 0.7,
         "r": [
          0.518,
          0.929,
          0.0427,
          0.0000306,
          0.114,
          0.715,
          0.518
         ],
         "showlegend": true,
         "subplot": "polar",
         "theta": [
          "danceability",
          "energy",
          "speechiness",
          "acousticness",
          "liveness",
          "valence",
          "danceability"
         ],
         "type": "scatterpolargl"
        },
        {
         "hovertemplate": "name=月光<br>value=%{r}<br>variable=%{theta}<extra></extra>",
         "legendgroup": "月光",
         "line": {
          "color": "#EF553B",
          "dash": "solid"
         },
         "marker": {
          "symbol": "circle"
         },
         "mode": "lines",
         "name": "月光",
         "opacity": 0.7,
         "r": [
          0.277,
          0.923,
          0.153,
          0.000212,
          0.0891,
          0.622,
          0.277
         ],
         "showlegend": true,
         "subplot": "polar",
         "theta": [
          "danceability",
          "energy",
          "speechiness",
          "acousticness",
          "liveness",
          "valence",
          "danceability"
         ],
         "type": "scatterpolargl"
        },
        {
         "hovertemplate": "name=残響散歌<br>value=%{r}<br>variable=%{theta}<extra></extra>",
         "legendgroup": "残響散歌",
         "line": {
          "color": "#00cc96",
          "dash": "solid"
         },
         "marker": {
          "symbol": "circle"
         },
         "mode": "lines",
         "name": "残響散歌",
         "opacity": 0.7,
         "r": [
          0.367,
          0.896,
          0.091,
          0.000627,
          0.207,
          0.38,
          0.367
         ],
         "showlegend": true,
         "subplot": "polar",
         "theta": [
          "danceability",
          "energy",
          "speechiness",
          "acousticness",
          "liveness",
          "valence",
          "danceability"
         ],
         "type": "scatterpolargl"
        },
        {
         "hovertemplate": "name=水平線<br>value=%{r}<br>variable=%{theta}<extra></extra>",
         "legendgroup": "水平線",
         "line": {
          "color": "#ab63fa",
          "dash": "solid"
         },
         "marker": {
          "symbol": "circle"
         },
         "mode": "lines",
         "name": "水平線",
         "opacity": 0.7,
         "r": [
          0.419,
          0.75,
          0.0316,
          0.011,
          0.159,
          0.436,
          0.419
         ],
         "showlegend": true,
         "subplot": "polar",
         "theta": [
          "danceability",
          "energy",
          "speechiness",
          "acousticness",
          "liveness",
          "valence",
          "danceability"
         ],
         "type": "scatterpolargl"
        },
        {
         "hovertemplate": "name=逆夢<br>value=%{r}<br>variable=%{theta}<extra></extra>",
         "legendgroup": "逆夢",
         "line": {
          "color": "#FFA15A",
          "dash": "solid"
         },
         "marker": {
          "symbol": "circle"
         },
         "mode": "lines",
         "name": "逆夢",
         "opacity": 0.7,
         "r": [
          0.204,
          0.708,
          0.0458,
          0.442,
          0.319,
          0.278,
          0.204
         ],
         "showlegend": true,
         "subplot": "polar",
         "theta": [
          "danceability",
          "energy",
          "speechiness",
          "acousticness",
          "liveness",
          "valence",
          "danceability"
         ],
         "type": "scatterpolargl"
        }
       ],
       "layout": {
        "legend": {
         "title": {
          "text": "name"
         },
         "tracegroupgap": 0
        },
        "margin": {
         "b": 25,
         "l": 0,
         "r": 0,
         "t": 25
        },
        "polar": {
         "angularaxis": {
          "direction": "clockwise",
          "rotation": 90
         },
         "domain": {
          "x": [
           0,
           1
          ],
          "y": [
           0,
           1
          ]
         },
         "radialaxis": {
          "range": [
           0,
           1
          ]
         }
        },
        "template": {
         "data": {
          "bar": [
           {
            "error_x": {
             "color": "#2a3f5f"
            },
            "error_y": {
             "color": "#2a3f5f"
            },
            "marker": {
             "line": {
              "color": "#E5ECF6",
              "width": 0.5
             },
             "pattern": {
              "fillmode": "overlay",
              "size": 10,
              "solidity": 0.2
             }
            },
            "type": "bar"
           }
          ],
          "barpolar": [
           {
            "marker": {
             "line": {
              "color": "#E5ECF6",
              "width": 0.5
             },
             "pattern": {
              "fillmode": "overlay",
              "size": 10,
              "solidity": 0.2
             }
            },
            "type": "barpolar"
           }
          ],
          "carpet": [
           {
            "aaxis": {
             "endlinecolor": "#2a3f5f",
             "gridcolor": "white",
             "linecolor": "white",
             "minorgridcolor": "white",
             "startlinecolor": "#2a3f5f"
            },
            "baxis": {
             "endlinecolor": "#2a3f5f",
             "gridcolor": "white",
             "linecolor": "white",
             "minorgridcolor": "white",
             "startlinecolor": "#2a3f5f"
            },
            "type": "carpet"
           }
          ],
          "choropleth": [
           {
            "colorbar": {
             "outlinewidth": 0,
             "ticks": ""
            },
            "type": "choropleth"
           }
          ],
          "contour": [
           {
            "colorbar": {
             "outlinewidth": 0,
             "ticks": ""
            },
            "colorscale": [
             [
              0,
              "#0d0887"
             ],
             [
              0.1111111111111111,
              "#46039f"
             ],
             [
              0.2222222222222222,
              "#7201a8"
             ],
             [
              0.3333333333333333,
              "#9c179e"
             ],
             [
              0.4444444444444444,
              "#bd3786"
             ],
             [
              0.5555555555555556,
              "#d8576b"
             ],
             [
              0.6666666666666666,
              "#ed7953"
             ],
             [
              0.7777777777777778,
              "#fb9f3a"
             ],
             [
              0.8888888888888888,
              "#fdca26"
             ],
             [
              1,
              "#f0f921"
             ]
            ],
            "type": "contour"
           }
          ],
          "contourcarpet": [
           {
            "colorbar": {
             "outlinewidth": 0,
             "ticks": ""
            },
            "type": "contourcarpet"
           }
          ],
          "heatmap": [
           {
            "colorbar": {
             "outlinewidth": 0,
             "ticks": ""
            },
            "colorscale": [
             [
              0,
              "#0d0887"
             ],
             [
              0.1111111111111111,
              "#46039f"
             ],
             [
              0.2222222222222222,
              "#7201a8"
             ],
             [
              0.3333333333333333,
              "#9c179e"
             ],
             [
              0.4444444444444444,
              "#bd3786"
             ],
             [
              0.5555555555555556,
              "#d8576b"
             ],
             [
              0.6666666666666666,
              "#ed7953"
             ],
             [
              0.7777777777777778,
              "#fb9f3a"
             ],
             [
              0.8888888888888888,
              "#fdca26"
             ],
             [
              1,
              "#f0f921"
             ]
            ],
            "type": "heatmap"
           }
          ],
          "heatmapgl": [
           {
            "colorbar": {
             "outlinewidth": 0,
             "ticks": ""
            },
            "colorscale": [
             [
              0,
              "#0d0887"
             ],
             [
              0.1111111111111111,
              "#46039f"
             ],
             [
              0.2222222222222222,
              "#7201a8"
             ],
             [
              0.3333333333333333,
              "#9c179e"
             ],
             [
              0.4444444444444444,
              "#bd3786"
             ],
             [
              0.5555555555555556,
              "#d8576b"
             ],
             [
              0.6666666666666666,
              "#ed7953"
             ],
             [
              0.7777777777777778,
              "#fb9f3a"
             ],
             [
              0.8888888888888888,
              "#fdca26"
             ],
             [
              1,
              "#f0f921"
             ]
            ],
            "type": "heatmapgl"
           }
          ],
          "histogram": [
           {
            "marker": {
             "pattern": {
              "fillmode": "overlay",
              "size": 10,
              "solidity": 0.2
             }
            },
            "type": "histogram"
           }
          ],
          "histogram2d": [
           {
            "colorbar": {
             "outlinewidth": 0,
             "ticks": ""
            },
            "colorscale": [
             [
              0,
              "#0d0887"
             ],
             [
              0.1111111111111111,
              "#46039f"
             ],
             [
              0.2222222222222222,
              "#7201a8"
             ],
             [
              0.3333333333333333,
              "#9c179e"
             ],
             [
              0.4444444444444444,
              "#bd3786"
             ],
             [
              0.5555555555555556,
              "#d8576b"
             ],
             [
              0.6666666666666666,
              "#ed7953"
             ],
             [
              0.7777777777777778,
              "#fb9f3a"
             ],
             [
              0.8888888888888888,
              "#fdca26"
             ],
             [
              1,
              "#f0f921"
             ]
            ],
            "type": "histogram2d"
           }
          ],
          "histogram2dcontour": [
           {
            "colorbar": {
             "outlinewidth": 0,
             "ticks": ""
            },
            "colorscale": [
             [
              0,
              "#0d0887"
             ],
             [
              0.1111111111111111,
              "#46039f"
             ],
             [
              0.2222222222222222,
              "#7201a8"
             ],
             [
              0.3333333333333333,
              "#9c179e"
             ],
             [
              0.4444444444444444,
              "#bd3786"
             ],
             [
              0.5555555555555556,
              "#d8576b"
             ],
             [
              0.6666666666666666,
              "#ed7953"
             ],
             [
              0.7777777777777778,
              "#fb9f3a"
             ],
             [
              0.8888888888888888,
              "#fdca26"
             ],
             [
              1,
              "#f0f921"
             ]
            ],
            "type": "histogram2dcontour"
           }
          ],
          "mesh3d": [
           {
            "colorbar": {
             "outlinewidth": 0,
             "ticks": ""
            },
            "type": "mesh3d"
           }
          ],
          "parcoords": [
           {
            "line": {
             "colorbar": {
              "outlinewidth": 0,
              "ticks": ""
             }
            },
            "type": "parcoords"
           }
          ],
          "pie": [
           {
            "automargin": true,
            "type": "pie"
           }
          ],
          "scatter": [
           {
            "fillpattern": {
             "fillmode": "overlay",
             "size": 10,
             "solidity": 0.2
            },
            "type": "scatter"
           }
          ],
          "scatter3d": [
           {
            "line": {
             "colorbar": {
              "outlinewidth": 0,
              "ticks": ""
             }
            },
            "marker": {
             "colorbar": {
              "outlinewidth": 0,
              "ticks": ""
             }
            },
            "type": "scatter3d"
           }
          ],
          "scattercarpet": [
           {
            "marker": {
             "colorbar": {
              "outlinewidth": 0,
              "ticks": ""
             }
            },
            "type": "scattercarpet"
           }
          ],
          "scattergeo": [
           {
            "marker": {
             "colorbar": {
              "outlinewidth": 0,
              "ticks": ""
             }
            },
            "type": "scattergeo"
           }
          ],
          "scattergl": [
           {
            "marker": {
             "colorbar": {
              "outlinewidth": 0,
              "ticks": ""
             }
            },
            "type": "scattergl"
           }
          ],
          "scattermapbox": [
           {
            "marker": {
             "colorbar": {
              "outlinewidth": 0,
              "ticks": ""
             }
            },
            "type": "scattermapbox"
           }
          ],
          "scatterpolar": [
           {
            "marker": {
             "colorbar": {
              "outlinewidth": 0,
              "ticks": ""
             }
            },
            "type": "scatterpolar"
           }
          ],
          "scatterpolargl": [
           {
            "marker": {
             "colorbar": {
              "outlinewidth": 0,
              "ticks": ""
             }
            },
            "type": "scatterpolargl"
           }
          ],
          "scatterternary": [
           {
            "marker": {
             "colorbar": {
              "outlinewidth": 0,
              "ticks": ""
             }
            },
            "type": "scatterternary"
           }
          ],
          "surface": [
           {
            "colorbar": {
             "outlinewidth": 0,
             "ticks": ""
            },
            "colorscale": [
             [
              0,
              "#0d0887"
             ],
             [
              0.1111111111111111,
              "#46039f"
             ],
             [
              0.2222222222222222,
              "#7201a8"
             ],
             [
              0.3333333333333333,
              "#9c179e"
             ],
             [
              0.4444444444444444,
              "#bd3786"
             ],
             [
              0.5555555555555556,
              "#d8576b"
             ],
             [
              0.6666666666666666,
              "#ed7953"
             ],
             [
              0.7777777777777778,
              "#fb9f3a"
             ],
             [
              0.8888888888888888,
              "#fdca26"
             ],
             [
              1,
              "#f0f921"
             ]
            ],
            "type": "surface"
           }
          ],
          "table": [
           {
            "cells": {
             "fill": {
              "color": "#EBF0F8"
             },
             "line": {
              "color": "white"
             }
            },
            "header": {
             "fill": {
              "color": "#C8D4E3"
             },
             "line": {
              "color": "white"
             }
            },
            "type": "table"
           }
          ]
         },
         "layout": {
          "annotationdefaults": {
           "arrowcolor": "#2a3f5f",
           "arrowhead": 0,
           "arrowwidth": 1
          },
          "autotypenumbers": "strict",
          "coloraxis": {
           "colorbar": {
            "outlinewidth": 0,
            "ticks": ""
           }
          },
          "colorscale": {
           "diverging": [
            [
             0,
             "#8e0152"
            ],
            [
             0.1,
             "#c51b7d"
            ],
            [
             0.2,
             "#de77ae"
            ],
            [
             0.3,
             "#f1b6da"
            ],
            [
             0.4,
             "#fde0ef"
            ],
            [
             0.5,
             "#f7f7f7"
            ],
            [
             0.6,
             "#e6f5d0"
            ],
            [
             0.7,
             "#b8e186"
            ],
            [
             0.8,
             "#7fbc41"
            ],
            [
             0.9,
             "#4d9221"
            ],
            [
             1,
             "#276419"
            ]
           ],
           "sequential": [
            [
             0,
             "#0d0887"
            ],
            [
             0.1111111111111111,
             "#46039f"
            ],
            [
             0.2222222222222222,
             "#7201a8"
            ],
            [
             0.3333333333333333,
             "#9c179e"
            ],
            [
             0.4444444444444444,
             "#bd3786"
            ],
            [
             0.5555555555555556,
             "#d8576b"
            ],
            [
             0.6666666666666666,
             "#ed7953"
            ],
            [
             0.7777777777777778,
             "#fb9f3a"
            ],
            [
             0.8888888888888888,
             "#fdca26"
            ],
            [
             1,
             "#f0f921"
            ]
           ],
           "sequentialminus": [
            [
             0,
             "#0d0887"
            ],
            [
             0.1111111111111111,
             "#46039f"
            ],
            [
             0.2222222222222222,
             "#7201a8"
            ],
            [
             0.3333333333333333,
             "#9c179e"
            ],
            [
             0.4444444444444444,
             "#bd3786"
            ],
            [
             0.5555555555555556,
             "#d8576b"
            ],
            [
             0.6666666666666666,
             "#ed7953"
            ],
            [
             0.7777777777777778,
             "#fb9f3a"
            ],
            [
             0.8888888888888888,
             "#fdca26"
            ],
            [
             1,
             "#f0f921"
            ]
           ]
          },
          "colorway": [
           "#636efa",
           "#EF553B",
           "#00cc96",
           "#ab63fa",
           "#FFA15A",
           "#19d3f3",
           "#FF6692",
           "#B6E880",
           "#FF97FF",
           "#FECB52"
          ],
          "font": {
           "color": "#2a3f5f"
          },
          "geo": {
           "bgcolor": "white",
           "lakecolor": "white",
           "landcolor": "#E5ECF6",
           "showlakes": true,
           "showland": true,
           "subunitcolor": "white"
          },
          "hoverlabel": {
           "align": "left"
          },
          "hovermode": "closest",
          "mapbox": {
           "style": "light"
          },
          "paper_bgcolor": "white",
          "plot_bgcolor": "#E5ECF6",
          "polar": {
           "angularaxis": {
            "gridcolor": "white",
            "linecolor": "white",
            "ticks": ""
           },
           "bgcolor": "#E5ECF6",
           "radialaxis": {
            "gridcolor": "white",
            "linecolor": "white",
            "ticks": ""
           }
          },
          "scene": {
           "xaxis": {
            "backgroundcolor": "#E5ECF6",
            "gridcolor": "white",
            "gridwidth": 2,
            "linecolor": "white",
            "showbackground": true,
            "ticks": "",
            "zerolinecolor": "white"
           },
           "yaxis": {
            "backgroundcolor": "#E5ECF6",
            "gridcolor": "white",
            "gridwidth": 2,
            "linecolor": "white",
            "showbackground": true,
            "ticks": "",
            "zerolinecolor": "white"
           },
           "zaxis": {
            "backgroundcolor": "#E5ECF6",
            "gridcolor": "white",
            "gridwidth": 2,
            "linecolor": "white",
            "showbackground": true,
            "ticks": "",
            "zerolinecolor": "white"
           }
          },
          "shapedefaults": {
           "line": {
            "color": "#2a3f5f"
           }
          },
          "ternary": {
           "aaxis": {
            "gridcolor": "white",
            "linecolor": "white",
            "ticks": ""
           },
           "baxis": {
            "gridcolor": "white",
            "linecolor": "white",
            "ticks": ""
           },
           "bgcolor": "#E5ECF6",
           "caxis": {
            "gridcolor": "white",
            "linecolor": "white",
            "ticks": ""
           }
          },
          "title": {
           "x": 0.05
          },
          "xaxis": {
           "automargin": true,
           "gridcolor": "white",
           "linecolor": "white",
           "ticks": "",
           "title": {
            "standoff": 15
           },
           "zerolinecolor": "white",
           "zerolinewidth": 2
          },
          "yaxis": {
           "automargin": true,
           "gridcolor": "white",
           "linecolor": "white",
           "ticks": "",
           "title": {
            "standoff": 15
           },
           "zerolinecolor": "white",
           "zerolinewidth": 2
          }
         }
        }
       }
      }
     },
     "metadata": {},
     "output_type": "display_data"
    }
   ],
   "source": [
    "radarPlot(df, behaviour=\"separate\")"
   ]
  },
  {
   "cell_type": "code",
   "execution_count": 4,
   "metadata": {},
   "outputs": [],
   "source": [
    "def topNTracks(data: pd.DataFrame, attribute='danceability', color='energy', top_n = 5):\n",
    "    print(\"jeeej\")\n",
    "    plotData = data.sort_values(by=[attribute], ascending=False)\n",
    "    fig = px.bar(plotData.head(top_n), x='name', y=attribute, color=color)\n",
    "    fig.update_layout(title_text=f'Top {top_n} tracks based on {attribute}', title_x=0.5, title_font = {'size' : 24})\n",
    "\n",
    "    return fig\n"
   ]
  },
  {
   "cell_type": "code",
   "execution_count": 6,
   "metadata": {},
   "outputs": [
    {
     "name": "stdout",
     "output_type": "stream",
     "text": [
      "jeeej\n"
     ]
    },
    {
     "data": {
      "application/vnd.plotly.v1+json": {
       "config": {
        "plotlyServerURL": "https://plot.ly"
       },
       "data": [
        {
         "alignmentgroup": "True",
         "hovertemplate": "name=%{x}<br>danceability=%{y}<br>energy=%{marker.color}<extra></extra>",
         "legendgroup": "",
         "marker": {
          "color": [
           0.35,
           0.578,
           0.516,
           0.305,
           0.575
          ],
          "coloraxis": "coloraxis",
          "pattern": {
           "shape": ""
          }
         },
         "name": "",
         "offsetgroup": "",
         "orientation": "v",
         "showlegend": false,
         "textposition": "auto",
         "type": "bar",
         "x": [
          "كنق الحلبة",
          "Keify Keda",
          "ديدي",
          "Zegarek ze Szwajcarii",
          "BEDOESIARA"
         ],
         "xaxis": "x",
         "y": [
          0.963,
          0.931,
          0.93,
          0.919,
          0.919
         ],
         "yaxis": "y"
        }
       ],
       "layout": {
        "barmode": "relative",
        "coloraxis": {
         "colorbar": {
          "title": {
           "text": "energy"
          }
         },
         "colorscale": [
          [
           0,
           "#0d0887"
          ],
          [
           0.1111111111111111,
           "#46039f"
          ],
          [
           0.2222222222222222,
           "#7201a8"
          ],
          [
           0.3333333333333333,
           "#9c179e"
          ],
          [
           0.4444444444444444,
           "#bd3786"
          ],
          [
           0.5555555555555556,
           "#d8576b"
          ],
          [
           0.6666666666666666,
           "#ed7953"
          ],
          [
           0.7777777777777778,
           "#fb9f3a"
          ],
          [
           0.8888888888888888,
           "#fdca26"
          ],
          [
           1,
           "#f0f921"
          ]
         ]
        },
        "legend": {
         "tracegroupgap": 0
        },
        "margin": {
         "t": 60
        },
        "template": {
         "data": {
          "bar": [
           {
            "error_x": {
             "color": "#2a3f5f"
            },
            "error_y": {
             "color": "#2a3f5f"
            },
            "marker": {
             "line": {
              "color": "#E5ECF6",
              "width": 0.5
             },
             "pattern": {
              "fillmode": "overlay",
              "size": 10,
              "solidity": 0.2
             }
            },
            "type": "bar"
           }
          ],
          "barpolar": [
           {
            "marker": {
             "line": {
              "color": "#E5ECF6",
              "width": 0.5
             },
             "pattern": {
              "fillmode": "overlay",
              "size": 10,
              "solidity": 0.2
             }
            },
            "type": "barpolar"
           }
          ],
          "carpet": [
           {
            "aaxis": {
             "endlinecolor": "#2a3f5f",
             "gridcolor": "white",
             "linecolor": "white",
             "minorgridcolor": "white",
             "startlinecolor": "#2a3f5f"
            },
            "baxis": {
             "endlinecolor": "#2a3f5f",
             "gridcolor": "white",
             "linecolor": "white",
             "minorgridcolor": "white",
             "startlinecolor": "#2a3f5f"
            },
            "type": "carpet"
           }
          ],
          "choropleth": [
           {
            "colorbar": {
             "outlinewidth": 0,
             "ticks": ""
            },
            "type": "choropleth"
           }
          ],
          "contour": [
           {
            "colorbar": {
             "outlinewidth": 0,
             "ticks": ""
            },
            "colorscale": [
             [
              0,
              "#0d0887"
             ],
             [
              0.1111111111111111,
              "#46039f"
             ],
             [
              0.2222222222222222,
              "#7201a8"
             ],
             [
              0.3333333333333333,
              "#9c179e"
             ],
             [
              0.4444444444444444,
              "#bd3786"
             ],
             [
              0.5555555555555556,
              "#d8576b"
             ],
             [
              0.6666666666666666,
              "#ed7953"
             ],
             [
              0.7777777777777778,
              "#fb9f3a"
             ],
             [
              0.8888888888888888,
              "#fdca26"
             ],
             [
              1,
              "#f0f921"
             ]
            ],
            "type": "contour"
           }
          ],
          "contourcarpet": [
           {
            "colorbar": {
             "outlinewidth": 0,
             "ticks": ""
            },
            "type": "contourcarpet"
           }
          ],
          "heatmap": [
           {
            "colorbar": {
             "outlinewidth": 0,
             "ticks": ""
            },
            "colorscale": [
             [
              0,
              "#0d0887"
             ],
             [
              0.1111111111111111,
              "#46039f"
             ],
             [
              0.2222222222222222,
              "#7201a8"
             ],
             [
              0.3333333333333333,
              "#9c179e"
             ],
             [
              0.4444444444444444,
              "#bd3786"
             ],
             [
              0.5555555555555556,
              "#d8576b"
             ],
             [
              0.6666666666666666,
              "#ed7953"
             ],
             [
              0.7777777777777778,
              "#fb9f3a"
             ],
             [
              0.8888888888888888,
              "#fdca26"
             ],
             [
              1,
              "#f0f921"
             ]
            ],
            "type": "heatmap"
           }
          ],
          "heatmapgl": [
           {
            "colorbar": {
             "outlinewidth": 0,
             "ticks": ""
            },
            "colorscale": [
             [
              0,
              "#0d0887"
             ],
             [
              0.1111111111111111,
              "#46039f"
             ],
             [
              0.2222222222222222,
              "#7201a8"
             ],
             [
              0.3333333333333333,
              "#9c179e"
             ],
             [
              0.4444444444444444,
              "#bd3786"
             ],
             [
              0.5555555555555556,
              "#d8576b"
             ],
             [
              0.6666666666666666,
              "#ed7953"
             ],
             [
              0.7777777777777778,
              "#fb9f3a"
             ],
             [
              0.8888888888888888,
              "#fdca26"
             ],
             [
              1,
              "#f0f921"
             ]
            ],
            "type": "heatmapgl"
           }
          ],
          "histogram": [
           {
            "marker": {
             "pattern": {
              "fillmode": "overlay",
              "size": 10,
              "solidity": 0.2
             }
            },
            "type": "histogram"
           }
          ],
          "histogram2d": [
           {
            "colorbar": {
             "outlinewidth": 0,
             "ticks": ""
            },
            "colorscale": [
             [
              0,
              "#0d0887"
             ],
             [
              0.1111111111111111,
              "#46039f"
             ],
             [
              0.2222222222222222,
              "#7201a8"
             ],
             [
              0.3333333333333333,
              "#9c179e"
             ],
             [
              0.4444444444444444,
              "#bd3786"
             ],
             [
              0.5555555555555556,
              "#d8576b"
             ],
             [
              0.6666666666666666,
              "#ed7953"
             ],
             [
              0.7777777777777778,
              "#fb9f3a"
             ],
             [
              0.8888888888888888,
              "#fdca26"
             ],
             [
              1,
              "#f0f921"
             ]
            ],
            "type": "histogram2d"
           }
          ],
          "histogram2dcontour": [
           {
            "colorbar": {
             "outlinewidth": 0,
             "ticks": ""
            },
            "colorscale": [
             [
              0,
              "#0d0887"
             ],
             [
              0.1111111111111111,
              "#46039f"
             ],
             [
              0.2222222222222222,
              "#7201a8"
             ],
             [
              0.3333333333333333,
              "#9c179e"
             ],
             [
              0.4444444444444444,
              "#bd3786"
             ],
             [
              0.5555555555555556,
              "#d8576b"
             ],
             [
              0.6666666666666666,
              "#ed7953"
             ],
             [
              0.7777777777777778,
              "#fb9f3a"
             ],
             [
              0.8888888888888888,
              "#fdca26"
             ],
             [
              1,
              "#f0f921"
             ]
            ],
            "type": "histogram2dcontour"
           }
          ],
          "mesh3d": [
           {
            "colorbar": {
             "outlinewidth": 0,
             "ticks": ""
            },
            "type": "mesh3d"
           }
          ],
          "parcoords": [
           {
            "line": {
             "colorbar": {
              "outlinewidth": 0,
              "ticks": ""
             }
            },
            "type": "parcoords"
           }
          ],
          "pie": [
           {
            "automargin": true,
            "type": "pie"
           }
          ],
          "scatter": [
           {
            "fillpattern": {
             "fillmode": "overlay",
             "size": 10,
             "solidity": 0.2
            },
            "type": "scatter"
           }
          ],
          "scatter3d": [
           {
            "line": {
             "colorbar": {
              "outlinewidth": 0,
              "ticks": ""
             }
            },
            "marker": {
             "colorbar": {
              "outlinewidth": 0,
              "ticks": ""
             }
            },
            "type": "scatter3d"
           }
          ],
          "scattercarpet": [
           {
            "marker": {
             "colorbar": {
              "outlinewidth": 0,
              "ticks": ""
             }
            },
            "type": "scattercarpet"
           }
          ],
          "scattergeo": [
           {
            "marker": {
             "colorbar": {
              "outlinewidth": 0,
              "ticks": ""
             }
            },
            "type": "scattergeo"
           }
          ],
          "scattergl": [
           {
            "marker": {
             "colorbar": {
              "outlinewidth": 0,
              "ticks": ""
             }
            },
            "type": "scattergl"
           }
          ],
          "scattermapbox": [
           {
            "marker": {
             "colorbar": {
              "outlinewidth": 0,
              "ticks": ""
             }
            },
            "type": "scattermapbox"
           }
          ],
          "scatterpolar": [
           {
            "marker": {
             "colorbar": {
              "outlinewidth": 0,
              "ticks": ""
             }
            },
            "type": "scatterpolar"
           }
          ],
          "scatterpolargl": [
           {
            "marker": {
             "colorbar": {
              "outlinewidth": 0,
              "ticks": ""
             }
            },
            "type": "scatterpolargl"
           }
          ],
          "scatterternary": [
           {
            "marker": {
             "colorbar": {
              "outlinewidth": 0,
              "ticks": ""
             }
            },
            "type": "scatterternary"
           }
          ],
          "surface": [
           {
            "colorbar": {
             "outlinewidth": 0,
             "ticks": ""
            },
            "colorscale": [
             [
              0,
              "#0d0887"
             ],
             [
              0.1111111111111111,
              "#46039f"
             ],
             [
              0.2222222222222222,
              "#7201a8"
             ],
             [
              0.3333333333333333,
              "#9c179e"
             ],
             [
              0.4444444444444444,
              "#bd3786"
             ],
             [
              0.5555555555555556,
              "#d8576b"
             ],
             [
              0.6666666666666666,
              "#ed7953"
             ],
             [
              0.7777777777777778,
              "#fb9f3a"
             ],
             [
              0.8888888888888888,
              "#fdca26"
             ],
             [
              1,
              "#f0f921"
             ]
            ],
            "type": "surface"
           }
          ],
          "table": [
           {
            "cells": {
             "fill": {
              "color": "#EBF0F8"
             },
             "line": {
              "color": "white"
             }
            },
            "header": {
             "fill": {
              "color": "#C8D4E3"
             },
             "line": {
              "color": "white"
             }
            },
            "type": "table"
           }
          ]
         },
         "layout": {
          "annotationdefaults": {
           "arrowcolor": "#2a3f5f",
           "arrowhead": 0,
           "arrowwidth": 1
          },
          "autotypenumbers": "strict",
          "coloraxis": {
           "colorbar": {
            "outlinewidth": 0,
            "ticks": ""
           }
          },
          "colorscale": {
           "diverging": [
            [
             0,
             "#8e0152"
            ],
            [
             0.1,
             "#c51b7d"
            ],
            [
             0.2,
             "#de77ae"
            ],
            [
             0.3,
             "#f1b6da"
            ],
            [
             0.4,
             "#fde0ef"
            ],
            [
             0.5,
             "#f7f7f7"
            ],
            [
             0.6,
             "#e6f5d0"
            ],
            [
             0.7,
             "#b8e186"
            ],
            [
             0.8,
             "#7fbc41"
            ],
            [
             0.9,
             "#4d9221"
            ],
            [
             1,
             "#276419"
            ]
           ],
           "sequential": [
            [
             0,
             "#0d0887"
            ],
            [
             0.1111111111111111,
             "#46039f"
            ],
            [
             0.2222222222222222,
             "#7201a8"
            ],
            [
             0.3333333333333333,
             "#9c179e"
            ],
            [
             0.4444444444444444,
             "#bd3786"
            ],
            [
             0.5555555555555556,
             "#d8576b"
            ],
            [
             0.6666666666666666,
             "#ed7953"
            ],
            [
             0.7777777777777778,
             "#fb9f3a"
            ],
            [
             0.8888888888888888,
             "#fdca26"
            ],
            [
             1,
             "#f0f921"
            ]
           ],
           "sequentialminus": [
            [
             0,
             "#0d0887"
            ],
            [
             0.1111111111111111,
             "#46039f"
            ],
            [
             0.2222222222222222,
             "#7201a8"
            ],
            [
             0.3333333333333333,
             "#9c179e"
            ],
            [
             0.4444444444444444,
             "#bd3786"
            ],
            [
             0.5555555555555556,
             "#d8576b"
            ],
            [
             0.6666666666666666,
             "#ed7953"
            ],
            [
             0.7777777777777778,
             "#fb9f3a"
            ],
            [
             0.8888888888888888,
             "#fdca26"
            ],
            [
             1,
             "#f0f921"
            ]
           ]
          },
          "colorway": [
           "#636efa",
           "#EF553B",
           "#00cc96",
           "#ab63fa",
           "#FFA15A",
           "#19d3f3",
           "#FF6692",
           "#B6E880",
           "#FF97FF",
           "#FECB52"
          ],
          "font": {
           "color": "#2a3f5f"
          },
          "geo": {
           "bgcolor": "white",
           "lakecolor": "white",
           "landcolor": "#E5ECF6",
           "showlakes": true,
           "showland": true,
           "subunitcolor": "white"
          },
          "hoverlabel": {
           "align": "left"
          },
          "hovermode": "closest",
          "mapbox": {
           "style": "light"
          },
          "paper_bgcolor": "white",
          "plot_bgcolor": "#E5ECF6",
          "polar": {
           "angularaxis": {
            "gridcolor": "white",
            "linecolor": "white",
            "ticks": ""
           },
           "bgcolor": "#E5ECF6",
           "radialaxis": {
            "gridcolor": "white",
            "linecolor": "white",
            "ticks": ""
           }
          },
          "scene": {
           "xaxis": {
            "backgroundcolor": "#E5ECF6",
            "gridcolor": "white",
            "gridwidth": 2,
            "linecolor": "white",
            "showbackground": true,
            "ticks": "",
            "zerolinecolor": "white"
           },
           "yaxis": {
            "backgroundcolor": "#E5ECF6",
            "gridcolor": "white",
            "gridwidth": 2,
            "linecolor": "white",
            "showbackground": true,
            "ticks": "",
            "zerolinecolor": "white"
           },
           "zaxis": {
            "backgroundcolor": "#E5ECF6",
            "gridcolor": "white",
            "gridwidth": 2,
            "linecolor": "white",
            "showbackground": true,
            "ticks": "",
            "zerolinecolor": "white"
           }
          },
          "shapedefaults": {
           "line": {
            "color": "#2a3f5f"
           }
          },
          "ternary": {
           "aaxis": {
            "gridcolor": "white",
            "linecolor": "white",
            "ticks": ""
           },
           "baxis": {
            "gridcolor": "white",
            "linecolor": "white",
            "ticks": ""
           },
           "bgcolor": "#E5ECF6",
           "caxis": {
            "gridcolor": "white",
            "linecolor": "white",
            "ticks": ""
           }
          },
          "title": {
           "x": 0.05
          },
          "xaxis": {
           "automargin": true,
           "gridcolor": "white",
           "linecolor": "white",
           "ticks": "",
           "title": {
            "standoff": 15
           },
           "zerolinecolor": "white",
           "zerolinewidth": 2
          },
          "yaxis": {
           "automargin": true,
           "gridcolor": "white",
           "linecolor": "white",
           "ticks": "",
           "title": {
            "standoff": 15
           },
           "zerolinecolor": "white",
           "zerolinewidth": 2
          }
         }
        },
        "title": {
         "font": {
          "size": 24
         },
         "text": "Top 5 tracks based on danceability",
         "x": 0.5
        },
        "xaxis": {
         "anchor": "y",
         "domain": [
          0,
          1
         ],
         "title": {
          "text": "name"
         }
        },
        "yaxis": {
         "anchor": "x",
         "domain": [
          0,
          1
         ],
         "title": {
          "text": "danceability"
         }
        }
       }
      }
     },
     "metadata": {},
     "output_type": "display_data"
    }
   ],
   "source": [
    "topNTracks(df)"
   ]
  },
  {
   "cell_type": "code",
   "execution_count": null,
   "metadata": {},
   "outputs": [],
   "source": []
  }
 ],
 "metadata": {
  "interpreter": {
   "hash": "8c252f30e6b77a0f45cc1bbd0a26b5e9253af7ed12036af03318e246ade66513"
  },
  "kernelspec": {
   "display_name": "Python 3.9.12 ('base')",
   "language": "python",
   "name": "python3"
  },
  "language_info": {
   "codemirror_mode": {
    "name": "ipython",
    "version": 3
   },
   "file_extension": ".py",
   "mimetype": "text/x-python",
   "name": "python",
   "nbconvert_exporter": "python",
   "pygments_lexer": "ipython3",
   "version": "3.9.12"
  },
  "orig_nbformat": 4
 },
 "nbformat": 4,
 "nbformat_minor": 2
}
