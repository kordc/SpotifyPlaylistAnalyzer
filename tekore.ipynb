{
 "cells": [
  {
   "cell_type": "code",
   "execution_count": 1,
   "metadata": {},
   "outputs": [],
   "source": [
    "#Let's try to make these calls faster\n",
    "import tekore as tk\n",
    "import asyncio\n",
    "import yaml\n",
    "import requests\n"
   ]
  },
  {
   "cell_type": "code",
   "execution_count": 2,
   "metadata": {},
   "outputs": [],
   "source": [
    "credentials_path = \"credentials.yaml\"\n",
    "with open(credentials_path) as file:\n",
    "    cred = yaml.load(file, Loader=yaml.FullLoader)"
   ]
  },
  {
   "cell_type": "code",
   "execution_count": 3,
   "metadata": {},
   "outputs": [],
   "source": [
    "conf = cred['client_id'], cred['client_secret']\n",
    "\n",
    "app_token = tk.request_client_token(*conf)\n",
    "\n",
    "#Let's try to connect these words\n",
    "spotify = tk.Spotify(app_token)\n"
   ]
  },
  {
   "cell_type": "code",
   "execution_count": 4,
   "metadata": {},
   "outputs": [
    {
     "data": {
      "text/plain": [
       "'BQAKfG-zUZ5_wOWADgTXc9lcoMcDOUL9OWB8Ek2mpL2ES3CtGTsu1OwW-034DUxh0XbYsdsoCULPfi31zH4'"
      ]
     },
     "execution_count": 4,
     "metadata": {},
     "output_type": "execute_result"
    }
   ],
   "source": [
    "app_token.access_token"
   ]
  },
  {
   "cell_type": "markdown",
   "metadata": {},
   "source": [
    "## Playlist search"
   ]
  },
  {
   "cell_type": "code",
   "execution_count": 8,
   "metadata": {},
   "outputs": [],
   "source": [
    "obj = spotify.search(\"Top 50 USA\", types=(\"playlist\",), limit=1)"
   ]
  },
  {
   "cell_type": "code",
   "execution_count": 9,
   "metadata": {},
   "outputs": [],
   "source": [
    "ids = []\n",
    "for track in spotify.playlist_items(obj[0].items[0].id, as_tracks=True)['items']:\n",
    "    ids.append(track[\"track\"][\"id\"])\n"
   ]
  },
  {
   "cell_type": "code",
   "execution_count": 10,
   "metadata": {},
   "outputs": [],
   "source": [
    "features = spotify.tracks_audio_features(ids)"
   ]
  },
  {
   "cell_type": "code",
   "execution_count": 11,
   "metadata": {},
   "outputs": [
    {
     "data": {
      "text/plain": [
       "tekore.model.ModelList"
      ]
     },
     "execution_count": 11,
     "metadata": {},
     "output_type": "execute_result"
    }
   ],
   "source": [
    "type(features)"
   ]
  },
  {
   "cell_type": "markdown",
   "metadata": {},
   "source": [
    "## Track search"
   ]
  },
  {
   "cell_type": "code",
   "execution_count": 9,
   "metadata": {},
   "outputs": [],
   "source": [
    "obj = spotify.search(\"Show must go on\", types=(\"track\",), limit=1)"
   ]
  },
  {
   "cell_type": "code",
   "execution_count": 10,
   "metadata": {},
   "outputs": [
    {
     "data": {
      "text/plain": [
       "'3m86qx7aIeqFcYcQ1UXUvP'"
      ]
     },
     "execution_count": 10,
     "metadata": {},
     "output_type": "execute_result"
    }
   ],
   "source": [
    "obj[0].items[0].id"
   ]
  },
  {
   "cell_type": "code",
   "execution_count": 11,
   "metadata": {},
   "outputs": [],
   "source": [
    "features = spotify.track_audio_features(obj[0].items[0].id)"
   ]
  },
  {
   "cell_type": "code",
   "execution_count": 107,
   "metadata": {},
   "outputs": [
    {
     "data": {
      "text/plain": [
       "AudioFeatures with fields:\n",
       "  acousticness = 0.526\n",
       "  analysis_url = 'https://api.spotify.com/v1/audio-analysis/3m86qx7aIeq...'\n",
       "  danceability = 0.421\n",
       "  duration_ms = 272107\n",
       "  energy = 0.517\n",
       "  id = '3m86qx7aIeqFcYcQ1UXUvP'\n",
       "  instrumentalness = 1.82e-06\n",
       "  key = 11\n",
       "  liveness = 0.136\n",
       "  loudness = -11.49\n",
       "  mode = 0\n",
       "  speechiness = 0.035\n",
       "  tempo = 84.011\n",
       "  time_signature = 4\n",
       "  track_href = 'https://api.spotify.com/v1/tracks/3m86qx7aIeqFcYcQ1UXUvP'\n",
       "  type = 'audio_features'\n",
       "  uri = 'spotify:track:3m86qx7aIeqFcYcQ1UXUvP'\n",
       "  valence = 0.109"
      ]
     },
     "execution_count": 107,
     "metadata": {},
     "output_type": "execute_result"
    }
   ],
   "source": [
    "features"
   ]
  },
  {
   "cell_type": "code",
   "execution_count": 28,
   "metadata": {},
   "outputs": [
    {
     "data": {
      "text/plain": [
       "AudioFeatures with fields:\n",
       "  acousticness = 0.526\n",
       "  analysis_url = 'https://api.spotify.com/v1/audio-analysis/3m86qx7aIeq...'\n",
       "  danceability = 0.421\n",
       "  duration_ms = 272107\n",
       "  energy = 0.517\n",
       "  id = '3m86qx7aIeqFcYcQ1UXUvP'\n",
       "  instrumentalness = 1.82e-06\n",
       "  key = 11\n",
       "  liveness = 0.136\n",
       "  loudness = -11.49\n",
       "  mode = 0\n",
       "  speechiness = 0.035\n",
       "  tempo = 84.011\n",
       "  time_signature = 4\n",
       "  track_href = 'https://api.spotify.com/v1/tracks/3m86qx7aIeqFcYcQ1UXUvP'\n",
       "  type = 'audio_features'\n",
       "  uri = 'spotify:track:3m86qx7aIeqFcYcQ1UXUvP'\n",
       "  valence = 0.109"
      ]
     },
     "execution_count": 28,
     "metadata": {},
     "output_type": "execute_result"
    }
   ],
   "source": [
    "spotify.track_audio_features('3m86qx7aIeqFcYcQ1UXUvP')"
   ]
  },
  {
   "cell_type": "markdown",
   "metadata": {},
   "source": [
    "### Dummy dataset"
   ]
  },
  {
   "cell_type": "code",
   "execution_count": 4,
   "metadata": {},
   "outputs": [],
   "source": [
    "import sys\n",
    "sys.path.append(\"app\")\n",
    "import pandas as pd\n",
    "%load_ext autoreload\n",
    "\n",
    "%autoreload 2\n",
    "\n",
    "from spotifyData import getdata_faster\n",
    "from utils import request_manager\n",
    "creator = getdata_faster.DatasetCreator(spotify_api=spotify)\n",
    "\n",
    "request_manager = request_manager.RequestManager()"
   ]
  },
  {
   "cell_type": "code",
   "execution_count": 15,
   "metadata": {},
   "outputs": [
    {
     "name": "stdout",
     "output_type": "stream",
     "text": [
      "<class 'tekore.model.ModelList'>\n",
      "<class 'tekore.model.ModelList'>\n"
     ]
    }
   ],
   "source": [
    "dfs = []\n",
    "#phrases = ['Top 50 Australia', 'Top 50 Poland', 'Top 50 USA']\n",
    "#phrases = ['Funky 80\\'s', 'best metal songs', 'best rock']\n",
    "phrases = [\"Happy mix\", \"best sad songs\"]\n",
    "for phrase in phrases:\n",
    "    outcome = creator.search(phrase, type=\"playlist\")\n",
    "    rows = request_manager.add_data([], outcome, query_name=phrase)\n",
    "    request_manager.add_request(phrase, \"playlist\")\n",
    "    dfs.append(pd.DataFrame(rows))\n"
   ]
  },
  {
   "cell_type": "code",
   "execution_count": 16,
   "metadata": {},
   "outputs": [],
   "source": [
    "df = pd.concat(dfs, axis=0)"
   ]
  },
  {
   "cell_type": "code",
   "execution_count": 17,
   "metadata": {},
   "outputs": [],
   "source": [
    "df.to_csv(\"Different_modes.csv\")"
   ]
  },
  {
   "cell_type": "code",
   "execution_count": 18,
   "metadata": {},
   "outputs": [
    {
     "data": {
      "text/html": [
       "<div>\n",
       "<style scoped>\n",
       "    .dataframe tbody tr th:only-of-type {\n",
       "        vertical-align: middle;\n",
       "    }\n",
       "\n",
       "    .dataframe tbody tr th {\n",
       "        vertical-align: top;\n",
       "    }\n",
       "\n",
       "    .dataframe thead th {\n",
       "        text-align: right;\n",
       "    }\n",
       "</style>\n",
       "<table border=\"1\" class=\"dataframe\">\n",
       "  <thead>\n",
       "    <tr style=\"text-align: right;\">\n",
       "      <th></th>\n",
       "      <th>artist</th>\n",
       "      <th>explicit</th>\n",
       "      <th>name</th>\n",
       "      <th>album</th>\n",
       "      <th>popularity</th>\n",
       "      <th>acousticness</th>\n",
       "      <th>danceability</th>\n",
       "      <th>duration</th>\n",
       "      <th>energy</th>\n",
       "      <th>instrumentalness</th>\n",
       "      <th>...</th>\n",
       "      <th>liveness</th>\n",
       "      <th>loudness</th>\n",
       "      <th>mode</th>\n",
       "      <th>speechiness</th>\n",
       "      <th>time_signature</th>\n",
       "      <th>valence</th>\n",
       "      <th>tempo</th>\n",
       "      <th>id</th>\n",
       "      <th>query</th>\n",
       "      <th>count</th>\n",
       "    </tr>\n",
       "  </thead>\n",
       "  <tbody>\n",
       "    <tr>\n",
       "      <th>0</th>\n",
       "      <td>Joni Mitchell</td>\n",
       "      <td>False</td>\n",
       "      <td>Big Yellow Taxi</td>\n",
       "      <td>Ladies of the Canyon</td>\n",
       "      <td>24</td>\n",
       "      <td>0.5790</td>\n",
       "      <td>0.611</td>\n",
       "      <td>2</td>\n",
       "      <td>0.470</td>\n",
       "      <td>0.000000</td>\n",
       "      <td>...</td>\n",
       "      <td>0.5810</td>\n",
       "      <td>-9.135</td>\n",
       "      <td>major</td>\n",
       "      <td>0.0356</td>\n",
       "      <td>4</td>\n",
       "      <td>0.970</td>\n",
       "      <td>85.527</td>\n",
       "      <td>10</td>\n",
       "      <td>Happy mix</td>\n",
       "      <td>1</td>\n",
       "    </tr>\n",
       "    <tr>\n",
       "      <th>1</th>\n",
       "      <td>The Rascals</td>\n",
       "      <td>False</td>\n",
       "      <td>A Beautiful Morning - Single Version</td>\n",
       "      <td>Time Peace: The Rascals' Greatest Hits</td>\n",
       "      <td>52</td>\n",
       "      <td>0.3990</td>\n",
       "      <td>0.503</td>\n",
       "      <td>2</td>\n",
       "      <td>0.484</td>\n",
       "      <td>0.000000</td>\n",
       "      <td>...</td>\n",
       "      <td>0.3450</td>\n",
       "      <td>-12.833</td>\n",
       "      <td>minor</td>\n",
       "      <td>0.0311</td>\n",
       "      <td>4</td>\n",
       "      <td>0.800</td>\n",
       "      <td>122.203</td>\n",
       "      <td>10</td>\n",
       "      <td>Happy mix</td>\n",
       "      <td>1</td>\n",
       "    </tr>\n",
       "    <tr>\n",
       "      <th>2</th>\n",
       "      <td>The Foundations</td>\n",
       "      <td>False</td>\n",
       "      <td>Build Me Up Buttercup - Mono</td>\n",
       "      <td>The Foundations</td>\n",
       "      <td>73</td>\n",
       "      <td>0.3150</td>\n",
       "      <td>0.659</td>\n",
       "      <td>2</td>\n",
       "      <td>0.513</td>\n",
       "      <td>0.000000</td>\n",
       "      <td>...</td>\n",
       "      <td>0.2830</td>\n",
       "      <td>-7.186</td>\n",
       "      <td>major</td>\n",
       "      <td>0.0293</td>\n",
       "      <td>4</td>\n",
       "      <td>0.855</td>\n",
       "      <td>133.609</td>\n",
       "      <td>10</td>\n",
       "      <td>Happy mix</td>\n",
       "      <td>1</td>\n",
       "    </tr>\n",
       "    <tr>\n",
       "      <th>3</th>\n",
       "      <td>Jeff Lynne</td>\n",
       "      <td>False</td>\n",
       "      <td>Every Little Thing</td>\n",
       "      <td>Armchair Theatre</td>\n",
       "      <td>36</td>\n",
       "      <td>0.2670</td>\n",
       "      <td>0.576</td>\n",
       "      <td>3</td>\n",
       "      <td>0.560</td>\n",
       "      <td>0.000037</td>\n",
       "      <td>...</td>\n",
       "      <td>0.2640</td>\n",
       "      <td>-7.296</td>\n",
       "      <td>major</td>\n",
       "      <td>0.0362</td>\n",
       "      <td>4</td>\n",
       "      <td>0.724</td>\n",
       "      <td>115.326</td>\n",
       "      <td>10</td>\n",
       "      <td>Happy mix</td>\n",
       "      <td>1</td>\n",
       "    </tr>\n",
       "    <tr>\n",
       "      <th>4</th>\n",
       "      <td>George Harrison</td>\n",
       "      <td>False</td>\n",
       "      <td>Got My Mind Set On You - Remastered 2004</td>\n",
       "      <td>Cloud Nine</td>\n",
       "      <td>71</td>\n",
       "      <td>0.4650</td>\n",
       "      <td>0.767</td>\n",
       "      <td>3</td>\n",
       "      <td>0.854</td>\n",
       "      <td>0.000002</td>\n",
       "      <td>...</td>\n",
       "      <td>0.4850</td>\n",
       "      <td>-6.947</td>\n",
       "      <td>major</td>\n",
       "      <td>0.0426</td>\n",
       "      <td>4</td>\n",
       "      <td>0.963</td>\n",
       "      <td>149.206</td>\n",
       "      <td>10</td>\n",
       "      <td>Happy mix</td>\n",
       "      <td>1</td>\n",
       "    </tr>\n",
       "    <tr>\n",
       "      <th>...</th>\n",
       "      <td>...</td>\n",
       "      <td>...</td>\n",
       "      <td>...</td>\n",
       "      <td>...</td>\n",
       "      <td>...</td>\n",
       "      <td>...</td>\n",
       "      <td>...</td>\n",
       "      <td>...</td>\n",
       "      <td>...</td>\n",
       "      <td>...</td>\n",
       "      <td>...</td>\n",
       "      <td>...</td>\n",
       "      <td>...</td>\n",
       "      <td>...</td>\n",
       "      <td>...</td>\n",
       "      <td>...</td>\n",
       "      <td>...</td>\n",
       "      <td>...</td>\n",
       "      <td>...</td>\n",
       "      <td>...</td>\n",
       "      <td>...</td>\n",
       "    </tr>\n",
       "    <tr>\n",
       "      <th>95</th>\n",
       "      <td>James Bay</td>\n",
       "      <td>False</td>\n",
       "      <td>Let It Go</td>\n",
       "      <td>Chaos And The Calm</td>\n",
       "      <td>71</td>\n",
       "      <td>0.8200</td>\n",
       "      <td>0.536</td>\n",
       "      <td>4</td>\n",
       "      <td>0.311</td>\n",
       "      <td>0.000017</td>\n",
       "      <td>...</td>\n",
       "      <td>0.1070</td>\n",
       "      <td>-10.396</td>\n",
       "      <td>major</td>\n",
       "      <td>0.0288</td>\n",
       "      <td>4</td>\n",
       "      <td>0.246</td>\n",
       "      <td>147.486</td>\n",
       "      <td>11</td>\n",
       "      <td>best sad songs</td>\n",
       "      <td>1</td>\n",
       "    </tr>\n",
       "    <tr>\n",
       "      <th>96</th>\n",
       "      <td>Calum Scott</td>\n",
       "      <td>False</td>\n",
       "      <td>Dancing On My Own</td>\n",
       "      <td>Only Human (Deluxe)</td>\n",
       "      <td>79</td>\n",
       "      <td>0.8370</td>\n",
       "      <td>0.681</td>\n",
       "      <td>4</td>\n",
       "      <td>0.174</td>\n",
       "      <td>0.000034</td>\n",
       "      <td>...</td>\n",
       "      <td>0.0983</td>\n",
       "      <td>-8.745</td>\n",
       "      <td>major</td>\n",
       "      <td>0.0315</td>\n",
       "      <td>4</td>\n",
       "      <td>0.231</td>\n",
       "      <td>112.672</td>\n",
       "      <td>11</td>\n",
       "      <td>best sad songs</td>\n",
       "      <td>1</td>\n",
       "    </tr>\n",
       "    <tr>\n",
       "      <th>97</th>\n",
       "      <td>Sam Smith</td>\n",
       "      <td>False</td>\n",
       "      <td>Fire On Fire - From \"Watership Down\"</td>\n",
       "      <td>Fire On Fire (From \"Watership Down\")</td>\n",
       "      <td>67</td>\n",
       "      <td>0.4760</td>\n",
       "      <td>0.584</td>\n",
       "      <td>4</td>\n",
       "      <td>0.407</td>\n",
       "      <td>0.000000</td>\n",
       "      <td>...</td>\n",
       "      <td>0.1800</td>\n",
       "      <td>-7.356</td>\n",
       "      <td>minor</td>\n",
       "      <td>0.0460</td>\n",
       "      <td>4</td>\n",
       "      <td>0.341</td>\n",
       "      <td>115.124</td>\n",
       "      <td>11</td>\n",
       "      <td>best sad songs</td>\n",
       "      <td>1</td>\n",
       "    </tr>\n",
       "    <tr>\n",
       "      <th>98</th>\n",
       "      <td>Billie Eilish</td>\n",
       "      <td>False</td>\n",
       "      <td>bury a friend</td>\n",
       "      <td>WHEN WE ALL FALL ASLEEP, WHERE DO WE GO?</td>\n",
       "      <td>74</td>\n",
       "      <td>0.7400</td>\n",
       "      <td>0.905</td>\n",
       "      <td>3</td>\n",
       "      <td>0.389</td>\n",
       "      <td>0.162000</td>\n",
       "      <td>...</td>\n",
       "      <td>0.1060</td>\n",
       "      <td>-14.505</td>\n",
       "      <td>major</td>\n",
       "      <td>0.3320</td>\n",
       "      <td>4</td>\n",
       "      <td>0.196</td>\n",
       "      <td>120.046</td>\n",
       "      <td>11</td>\n",
       "      <td>best sad songs</td>\n",
       "      <td>1</td>\n",
       "    </tr>\n",
       "    <tr>\n",
       "      <th>99</th>\n",
       "      <td>Lady A</td>\n",
       "      <td>False</td>\n",
       "      <td>Need You Now</td>\n",
       "      <td>Need You Now</td>\n",
       "      <td>73</td>\n",
       "      <td>0.0298</td>\n",
       "      <td>0.581</td>\n",
       "      <td>3</td>\n",
       "      <td>0.717</td>\n",
       "      <td>0.000186</td>\n",
       "      <td>...</td>\n",
       "      <td>0.2430</td>\n",
       "      <td>-4.433</td>\n",
       "      <td>major</td>\n",
       "      <td>0.0318</td>\n",
       "      <td>4</td>\n",
       "      <td>0.316</td>\n",
       "      <td>107.884</td>\n",
       "      <td>11</td>\n",
       "      <td>best sad songs</td>\n",
       "      <td>1</td>\n",
       "    </tr>\n",
       "  </tbody>\n",
       "</table>\n",
       "<p>200 rows × 21 columns</p>\n",
       "</div>"
      ],
      "text/plain": [
       "             artist  explicit                                      name  \\\n",
       "0     Joni Mitchell     False                           Big Yellow Taxi   \n",
       "1       The Rascals     False      A Beautiful Morning - Single Version   \n",
       "2   The Foundations     False              Build Me Up Buttercup - Mono   \n",
       "3        Jeff Lynne     False                        Every Little Thing   \n",
       "4   George Harrison     False  Got My Mind Set On You - Remastered 2004   \n",
       "..              ...       ...                                       ...   \n",
       "95        James Bay     False                                 Let It Go   \n",
       "96      Calum Scott     False                         Dancing On My Own   \n",
       "97        Sam Smith     False      Fire On Fire - From \"Watership Down\"   \n",
       "98    Billie Eilish     False                             bury a friend   \n",
       "99           Lady A     False                              Need You Now   \n",
       "\n",
       "                                       album  popularity  acousticness  \\\n",
       "0                       Ladies of the Canyon          24        0.5790   \n",
       "1     Time Peace: The Rascals' Greatest Hits          52        0.3990   \n",
       "2                            The Foundations          73        0.3150   \n",
       "3                           Armchair Theatre          36        0.2670   \n",
       "4                                 Cloud Nine          71        0.4650   \n",
       "..                                       ...         ...           ...   \n",
       "95                        Chaos And The Calm          71        0.8200   \n",
       "96                       Only Human (Deluxe)          79        0.8370   \n",
       "97      Fire On Fire (From \"Watership Down\")          67        0.4760   \n",
       "98  WHEN WE ALL FALL ASLEEP, WHERE DO WE GO?          74        0.7400   \n",
       "99                              Need You Now          73        0.0298   \n",
       "\n",
       "    danceability  duration  energy  instrumentalness  ... liveness  loudness  \\\n",
       "0          0.611         2   0.470          0.000000  ...   0.5810    -9.135   \n",
       "1          0.503         2   0.484          0.000000  ...   0.3450   -12.833   \n",
       "2          0.659         2   0.513          0.000000  ...   0.2830    -7.186   \n",
       "3          0.576         3   0.560          0.000037  ...   0.2640    -7.296   \n",
       "4          0.767         3   0.854          0.000002  ...   0.4850    -6.947   \n",
       "..           ...       ...     ...               ...  ...      ...       ...   \n",
       "95         0.536         4   0.311          0.000017  ...   0.1070   -10.396   \n",
       "96         0.681         4   0.174          0.000034  ...   0.0983    -8.745   \n",
       "97         0.584         4   0.407          0.000000  ...   0.1800    -7.356   \n",
       "98         0.905         3   0.389          0.162000  ...   0.1060   -14.505   \n",
       "99         0.581         3   0.717          0.000186  ...   0.2430    -4.433   \n",
       "\n",
       "     mode speechiness  time_signature  valence    tempo  id           query  \\\n",
       "0   major      0.0356               4    0.970   85.527  10       Happy mix   \n",
       "1   minor      0.0311               4    0.800  122.203  10       Happy mix   \n",
       "2   major      0.0293               4    0.855  133.609  10       Happy mix   \n",
       "3   major      0.0362               4    0.724  115.326  10       Happy mix   \n",
       "4   major      0.0426               4    0.963  149.206  10       Happy mix   \n",
       "..    ...         ...             ...      ...      ...  ..             ...   \n",
       "95  major      0.0288               4    0.246  147.486  11  best sad songs   \n",
       "96  major      0.0315               4    0.231  112.672  11  best sad songs   \n",
       "97  minor      0.0460               4    0.341  115.124  11  best sad songs   \n",
       "98  major      0.3320               4    0.196  120.046  11  best sad songs   \n",
       "99  major      0.0318               4    0.316  107.884  11  best sad songs   \n",
       "\n",
       "   count  \n",
       "0      1  \n",
       "1      1  \n",
       "2      1  \n",
       "3      1  \n",
       "4      1  \n",
       "..   ...  \n",
       "95     1  \n",
       "96     1  \n",
       "97     1  \n",
       "98     1  \n",
       "99     1  \n",
       "\n",
       "[200 rows x 21 columns]"
      ]
     },
     "execution_count": 18,
     "metadata": {},
     "output_type": "execute_result"
    }
   ],
   "source": [
    "df"
   ]
  },
  {
   "cell_type": "code",
   "execution_count": null,
   "metadata": {},
   "outputs": [],
   "source": []
  }
 ],
 "metadata": {
  "interpreter": {
   "hash": "8c252f30e6b77a0f45cc1bbd0a26b5e9253af7ed12036af03318e246ade66513"
  },
  "kernelspec": {
   "display_name": "Python 3.9.12 ('base')",
   "language": "python",
   "name": "python3"
  },
  "language_info": {
   "codemirror_mode": {
    "name": "ipython",
    "version": 3
   },
   "file_extension": ".py",
   "mimetype": "text/x-python",
   "name": "python",
   "nbconvert_exporter": "python",
   "pygments_lexer": "ipython3",
   "version": "3.9.12"
  },
  "orig_nbformat": 4
 },
 "nbformat": 4,
 "nbformat_minor": 2
}
