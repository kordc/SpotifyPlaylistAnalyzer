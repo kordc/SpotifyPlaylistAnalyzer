{
 "cells": [
  {
   "cell_type": "code",
   "execution_count": 1,
   "metadata": {},
   "outputs": [],
   "source": [
    "#Let's try to make these calls faster\n",
    "import tekore as tk\n",
    "import asyncio\n",
    "import yaml\n",
    "import requests\n"
   ]
  },
  {
   "cell_type": "code",
   "execution_count": 2,
   "metadata": {},
   "outputs": [],
   "source": [
    "credentials_path = \"credentials.yaml\"\n",
    "with open(credentials_path) as file:\n",
    "    cred = yaml.load(file, Loader=yaml.FullLoader)"
   ]
  },
  {
   "cell_type": "code",
   "execution_count": 3,
   "metadata": {},
   "outputs": [],
   "source": [
    "conf = cred['client_id'], cred['client_secret']\n",
    "\n",
    "app_token = tk.request_client_token(*conf)\n",
    "\n",
    "#Let's try to connect these words\n",
    "spotify = tk.Spotify(app_token)\n"
   ]
  },
  {
   "cell_type": "code",
   "execution_count": 4,
   "metadata": {},
   "outputs": [
    {
     "data": {
      "text/plain": [
       "'BQChUZzYF-CQb4_t5XJ4wVQSeFA0xGNfGV-I4zqTyEcpiYi7yGa7egeYf1u1FxRUeV5oOOjEy6LlXkx3LM0'"
      ]
     },
     "execution_count": 4,
     "metadata": {},
     "output_type": "execute_result"
    }
   ],
   "source": [
    "app_token.access_token"
   ]
  },
  {
   "cell_type": "markdown",
   "metadata": {},
   "source": [
    "## Playlist search"
   ]
  },
  {
   "cell_type": "code",
   "execution_count": 8,
   "metadata": {},
   "outputs": [],
   "source": [
    "obj = spotify.search(\"Top 50 USA\", types=(\"playlist\",), limit=1)"
   ]
  },
  {
   "cell_type": "code",
   "execution_count": 9,
   "metadata": {},
   "outputs": [],
   "source": [
    "ids = []\n",
    "for track in spotify.playlist_items(obj[0].items[0].id, as_tracks=True)['items']:\n",
    "    ids.append(track[\"track\"][\"id\"])\n"
   ]
  },
  {
   "cell_type": "code",
   "execution_count": 10,
   "metadata": {},
   "outputs": [],
   "source": [
    "features = spotify.tracks_audio_features(ids)"
   ]
  },
  {
   "cell_type": "code",
   "execution_count": 11,
   "metadata": {},
   "outputs": [
    {
     "data": {
      "text/plain": [
       "tekore.model.ModelList"
      ]
     },
     "execution_count": 11,
     "metadata": {},
     "output_type": "execute_result"
    }
   ],
   "source": [
    "type(features)"
   ]
  },
  {
   "cell_type": "markdown",
   "metadata": {},
   "source": [
    "## Track search"
   ]
  },
  {
   "cell_type": "code",
   "execution_count": 9,
   "metadata": {},
   "outputs": [],
   "source": [
    "obj = spotify.search(\"Show must go on\", types=(\"track\",), limit=1)"
   ]
  },
  {
   "cell_type": "code",
   "execution_count": 10,
   "metadata": {},
   "outputs": [
    {
     "data": {
      "text/plain": [
       "'3m86qx7aIeqFcYcQ1UXUvP'"
      ]
     },
     "execution_count": 10,
     "metadata": {},
     "output_type": "execute_result"
    }
   ],
   "source": [
    "obj[0].items[0].id"
   ]
  },
  {
   "cell_type": "code",
   "execution_count": 11,
   "metadata": {},
   "outputs": [],
   "source": [
    "features = spotify.track_audio_features(obj[0].items[0].id)"
   ]
  },
  {
   "cell_type": "code",
   "execution_count": 107,
   "metadata": {},
   "outputs": [
    {
     "data": {
      "text/plain": [
       "AudioFeatures with fields:\n",
       "  acousticness = 0.526\n",
       "  analysis_url = 'https://api.spotify.com/v1/audio-analysis/3m86qx7aIeq...'\n",
       "  danceability = 0.421\n",
       "  duration_ms = 272107\n",
       "  energy = 0.517\n",
       "  id = '3m86qx7aIeqFcYcQ1UXUvP'\n",
       "  instrumentalness = 1.82e-06\n",
       "  key = 11\n",
       "  liveness = 0.136\n",
       "  loudness = -11.49\n",
       "  mode = 0\n",
       "  speechiness = 0.035\n",
       "  tempo = 84.011\n",
       "  time_signature = 4\n",
       "  track_href = 'https://api.spotify.com/v1/tracks/3m86qx7aIeqFcYcQ1UXUvP'\n",
       "  type = 'audio_features'\n",
       "  uri = 'spotify:track:3m86qx7aIeqFcYcQ1UXUvP'\n",
       "  valence = 0.109"
      ]
     },
     "execution_count": 107,
     "metadata": {},
     "output_type": "execute_result"
    }
   ],
   "source": [
    "features"
   ]
  },
  {
   "cell_type": "code",
   "execution_count": 28,
   "metadata": {},
   "outputs": [
    {
     "data": {
      "text/plain": [
       "AudioFeatures with fields:\n",
       "  acousticness = 0.526\n",
       "  analysis_url = 'https://api.spotify.com/v1/audio-analysis/3m86qx7aIeq...'\n",
       "  danceability = 0.421\n",
       "  duration_ms = 272107\n",
       "  energy = 0.517\n",
       "  id = '3m86qx7aIeqFcYcQ1UXUvP'\n",
       "  instrumentalness = 1.82e-06\n",
       "  key = 11\n",
       "  liveness = 0.136\n",
       "  loudness = -11.49\n",
       "  mode = 0\n",
       "  speechiness = 0.035\n",
       "  tempo = 84.011\n",
       "  time_signature = 4\n",
       "  track_href = 'https://api.spotify.com/v1/tracks/3m86qx7aIeqFcYcQ1UXUvP'\n",
       "  type = 'audio_features'\n",
       "  uri = 'spotify:track:3m86qx7aIeqFcYcQ1UXUvP'\n",
       "  valence = 0.109"
      ]
     },
     "execution_count": 28,
     "metadata": {},
     "output_type": "execute_result"
    }
   ],
   "source": [
    "spotify.track_audio_features('3m86qx7aIeqFcYcQ1UXUvP')"
   ]
  },
  {
   "cell_type": "markdown",
   "metadata": {},
   "source": [
    "### Dummy dataset"
   ]
  },
  {
   "cell_type": "code",
   "execution_count": 24,
   "metadata": {},
   "outputs": [
    {
     "name": "stdout",
     "output_type": "stream",
     "text": [
      "The autoreload extension is already loaded. To reload it, use:\n",
      "  %reload_ext autoreload\n"
     ]
    }
   ],
   "source": [
    "import sys\n",
    "sys.path.append(\"app\")\n",
    "import pandas as pd\n",
    "%load_ext autoreload\n",
    "\n",
    "%autoreload 2\n",
    "\n",
    "from spotifyData import getdata_faster\n",
    "from utils import request_manager\n",
    "creator = getdata_faster.DatasetCreator(spotify_api=spotify)\n",
    "\n",
    "request_manager = request_manager.RequestManager()"
   ]
  },
  {
   "cell_type": "code",
   "execution_count": 25,
   "metadata": {},
   "outputs": [
    {
     "name": "stdout",
     "output_type": "stream",
     "text": [
      "<class 'tekore.model.ModelList'>\n",
      "<class 'tekore.model.ModelList'>\n"
     ]
    }
   ],
   "source": [
    "dfs = []\n",
    "#phrases = ['Top 50 Australia', 'Top 50 Poland', 'Top 50 USA']\n",
    "phrases = ['Funky 80\\'s', 'best metal songs', 'best rock']\n",
    "phrases = [\"Happy mix\", \"best sad songs\"]\n",
    "for phrase in phrases:\n",
    "    outcome = creator.search(phrase, type=\"playlist\")\n",
    "    rows = request_manager.add_data([], outcome, query_name=phrase)\n",
    "    request_manager.add_request(phrase, \"playlist\")\n",
    "    dfs.append(pd.DataFrame(rows))\n"
   ]
  },
  {
   "cell_type": "code",
   "execution_count": 26,
   "metadata": {},
   "outputs": [],
   "source": [
    "df = pd.concat(dfs, axis=0)"
   ]
  },
  {
   "cell_type": "code",
   "execution_count": 27,
   "metadata": {},
   "outputs": [],
   "source": [
    "df.to_csv(\"Different_modes.csv\")"
   ]
  },
  {
   "cell_type": "code",
   "execution_count": 23,
   "metadata": {},
   "outputs": [
    {
     "data": {
      "text/html": [
       "<div>\n",
       "<style scoped>\n",
       "    .dataframe tbody tr th:only-of-type {\n",
       "        vertical-align: middle;\n",
       "    }\n",
       "\n",
       "    .dataframe tbody tr th {\n",
       "        vertical-align: top;\n",
       "    }\n",
       "\n",
       "    .dataframe thead th {\n",
       "        text-align: right;\n",
       "    }\n",
       "</style>\n",
       "<table border=\"1\" class=\"dataframe\">\n",
       "  <thead>\n",
       "    <tr style=\"text-align: right;\">\n",
       "      <th></th>\n",
       "      <th>artist</th>\n",
       "      <th>explicit</th>\n",
       "      <th>name</th>\n",
       "      <th>album</th>\n",
       "      <th>popularity</th>\n",
       "      <th>acousticness</th>\n",
       "      <th>danceability</th>\n",
       "      <th>duration</th>\n",
       "      <th>energy</th>\n",
       "      <th>instrumentalness</th>\n",
       "      <th>...</th>\n",
       "      <th>liveness</th>\n",
       "      <th>loudness</th>\n",
       "      <th>mode</th>\n",
       "      <th>speechiness</th>\n",
       "      <th>time_signature</th>\n",
       "      <th>valence</th>\n",
       "      <th>tempo</th>\n",
       "      <th>id</th>\n",
       "      <th>query</th>\n",
       "      <th>count</th>\n",
       "    </tr>\n",
       "  </thead>\n",
       "  <tbody>\n",
       "    <tr>\n",
       "      <th>0</th>\n",
       "      <td>Mary Jane Girls</td>\n",
       "      <td>False</td>\n",
       "      <td>In My House - Single Version</td>\n",
       "      <td>80s Soul (International Version)</td>\n",
       "      <td>24</td>\n",
       "      <td>0.013700</td>\n",
       "      <td>0.795</td>\n",
       "      <td>3</td>\n",
       "      <td>0.664</td>\n",
       "      <td>0.079600</td>\n",
       "      <td>...</td>\n",
       "      <td>0.0726</td>\n",
       "      <td>-9.171</td>\n",
       "      <td>minor</td>\n",
       "      <td>0.0316</td>\n",
       "      <td>4</td>\n",
       "      <td>0.936</td>\n",
       "      <td>116.808</td>\n",
       "      <td>1</td>\n",
       "      <td>Funky 80's</td>\n",
       "      <td>1</td>\n",
       "    </tr>\n",
       "    <tr>\n",
       "      <th>1</th>\n",
       "      <td>Michael Jackson</td>\n",
       "      <td>False</td>\n",
       "      <td>Thriller - Single Version</td>\n",
       "      <td>The Essential Michael Jackson</td>\n",
       "      <td>0</td>\n",
       "      <td>0.093400</td>\n",
       "      <td>0.775</td>\n",
       "      <td>5</td>\n",
       "      <td>0.815</td>\n",
       "      <td>0.000034</td>\n",
       "      <td>...</td>\n",
       "      <td>0.2560</td>\n",
       "      <td>-5.639</td>\n",
       "      <td>major</td>\n",
       "      <td>0.0477</td>\n",
       "      <td>4</td>\n",
       "      <td>0.835</td>\n",
       "      <td>118.402</td>\n",
       "      <td>1</td>\n",
       "      <td>Funky 80's</td>\n",
       "      <td>1</td>\n",
       "    </tr>\n",
       "    <tr>\n",
       "      <th>2</th>\n",
       "      <td>Change</td>\n",
       "      <td>False</td>\n",
       "      <td>A Lovers'S Holiday - Single Edit</td>\n",
       "      <td>Greatest Hits &amp; Rare Tracks</td>\n",
       "      <td>0</td>\n",
       "      <td>0.027700</td>\n",
       "      <td>0.932</td>\n",
       "      <td>4</td>\n",
       "      <td>0.651</td>\n",
       "      <td>0.009590</td>\n",
       "      <td>...</td>\n",
       "      <td>0.0714</td>\n",
       "      <td>-5.747</td>\n",
       "      <td>minor</td>\n",
       "      <td>0.2240</td>\n",
       "      <td>4</td>\n",
       "      <td>0.821</td>\n",
       "      <td>116.357</td>\n",
       "      <td>1</td>\n",
       "      <td>Funky 80's</td>\n",
       "      <td>1</td>\n",
       "    </tr>\n",
       "    <tr>\n",
       "      <th>3</th>\n",
       "      <td>George Duke</td>\n",
       "      <td>False</td>\n",
       "      <td>Shine On</td>\n",
       "      <td>DREAM ON</td>\n",
       "      <td>40</td>\n",
       "      <td>0.017600</td>\n",
       "      <td>0.800</td>\n",
       "      <td>5</td>\n",
       "      <td>0.770</td>\n",
       "      <td>0.011500</td>\n",
       "      <td>...</td>\n",
       "      <td>0.0285</td>\n",
       "      <td>-11.271</td>\n",
       "      <td>minor</td>\n",
       "      <td>0.0415</td>\n",
       "      <td>4</td>\n",
       "      <td>0.960</td>\n",
       "      <td>118.832</td>\n",
       "      <td>1</td>\n",
       "      <td>Funky 80's</td>\n",
       "      <td>1</td>\n",
       "    </tr>\n",
       "    <tr>\n",
       "      <th>4</th>\n",
       "      <td>CHIC</td>\n",
       "      <td>False</td>\n",
       "      <td>Believer</td>\n",
       "      <td>The Best of Chic Vol. 2</td>\n",
       "      <td>21</td>\n",
       "      <td>0.360000</td>\n",
       "      <td>0.855</td>\n",
       "      <td>5</td>\n",
       "      <td>0.506</td>\n",
       "      <td>0.006870</td>\n",
       "      <td>...</td>\n",
       "      <td>0.0391</td>\n",
       "      <td>-14.156</td>\n",
       "      <td>major</td>\n",
       "      <td>0.0944</td>\n",
       "      <td>4</td>\n",
       "      <td>0.882</td>\n",
       "      <td>115.708</td>\n",
       "      <td>1</td>\n",
       "      <td>Funky 80's</td>\n",
       "      <td>1</td>\n",
       "    </tr>\n",
       "    <tr>\n",
       "      <th>...</th>\n",
       "      <td>...</td>\n",
       "      <td>...</td>\n",
       "      <td>...</td>\n",
       "      <td>...</td>\n",
       "      <td>...</td>\n",
       "      <td>...</td>\n",
       "      <td>...</td>\n",
       "      <td>...</td>\n",
       "      <td>...</td>\n",
       "      <td>...</td>\n",
       "      <td>...</td>\n",
       "      <td>...</td>\n",
       "      <td>...</td>\n",
       "      <td>...</td>\n",
       "      <td>...</td>\n",
       "      <td>...</td>\n",
       "      <td>...</td>\n",
       "      <td>...</td>\n",
       "      <td>...</td>\n",
       "      <td>...</td>\n",
       "      <td>...</td>\n",
       "    </tr>\n",
       "    <tr>\n",
       "      <th>95</th>\n",
       "      <td>Tenacious D</td>\n",
       "      <td>True</td>\n",
       "      <td>Tribute</td>\n",
       "      <td>Tenacious D</td>\n",
       "      <td>65</td>\n",
       "      <td>0.181000</td>\n",
       "      <td>0.365</td>\n",
       "      <td>4</td>\n",
       "      <td>0.767</td>\n",
       "      <td>0.000856</td>\n",
       "      <td>...</td>\n",
       "      <td>0.0942</td>\n",
       "      <td>-6.185</td>\n",
       "      <td>minor</td>\n",
       "      <td>0.0681</td>\n",
       "      <td>4</td>\n",
       "      <td>0.422</td>\n",
       "      <td>94.174</td>\n",
       "      <td>3</td>\n",
       "      <td>best rock</td>\n",
       "      <td>1</td>\n",
       "    </tr>\n",
       "    <tr>\n",
       "      <th>96</th>\n",
       "      <td>Muse</td>\n",
       "      <td>False</td>\n",
       "      <td>Knights of Cydonia</td>\n",
       "      <td>Black Holes and Revelations</td>\n",
       "      <td>67</td>\n",
       "      <td>0.000273</td>\n",
       "      <td>0.366</td>\n",
       "      <td>6</td>\n",
       "      <td>0.963</td>\n",
       "      <td>0.012200</td>\n",
       "      <td>...</td>\n",
       "      <td>0.1150</td>\n",
       "      <td>-5.301</td>\n",
       "      <td>minor</td>\n",
       "      <td>0.1420</td>\n",
       "      <td>4</td>\n",
       "      <td>0.211</td>\n",
       "      <td>137.114</td>\n",
       "      <td>3</td>\n",
       "      <td>best rock</td>\n",
       "      <td>1</td>\n",
       "    </tr>\n",
       "    <tr>\n",
       "      <th>97</th>\n",
       "      <td>Puddle Of Mudd</td>\n",
       "      <td>False</td>\n",
       "      <td>Gimme Shelter</td>\n",
       "      <td>Re (Disc) Overed</td>\n",
       "      <td>45</td>\n",
       "      <td>0.004820</td>\n",
       "      <td>0.502</td>\n",
       "      <td>5</td>\n",
       "      <td>0.898</td>\n",
       "      <td>0.021900</td>\n",
       "      <td>...</td>\n",
       "      <td>0.1460</td>\n",
       "      <td>-4.086</td>\n",
       "      <td>minor</td>\n",
       "      <td>0.0431</td>\n",
       "      <td>4</td>\n",
       "      <td>0.456</td>\n",
       "      <td>120.015</td>\n",
       "      <td>3</td>\n",
       "      <td>best rock</td>\n",
       "      <td>1</td>\n",
       "    </tr>\n",
       "    <tr>\n",
       "      <th>98</th>\n",
       "      <td>Green Day</td>\n",
       "      <td>True</td>\n",
       "      <td>American Idiot</td>\n",
       "      <td>American Idiot</td>\n",
       "      <td>77</td>\n",
       "      <td>0.000026</td>\n",
       "      <td>0.380</td>\n",
       "      <td>2</td>\n",
       "      <td>0.988</td>\n",
       "      <td>0.000079</td>\n",
       "      <td>...</td>\n",
       "      <td>0.3680</td>\n",
       "      <td>-2.042</td>\n",
       "      <td>major</td>\n",
       "      <td>0.0639</td>\n",
       "      <td>4</td>\n",
       "      <td>0.769</td>\n",
       "      <td>186.113</td>\n",
       "      <td>3</td>\n",
       "      <td>best rock</td>\n",
       "      <td>1</td>\n",
       "    </tr>\n",
       "    <tr>\n",
       "      <th>99</th>\n",
       "      <td>Weezer</td>\n",
       "      <td>False</td>\n",
       "      <td>Say It Ain't So</td>\n",
       "      <td>Weezer</td>\n",
       "      <td>0</td>\n",
       "      <td>0.007370</td>\n",
       "      <td>0.634</td>\n",
       "      <td>4</td>\n",
       "      <td>0.551</td>\n",
       "      <td>0.000018</td>\n",
       "      <td>...</td>\n",
       "      <td>0.0700</td>\n",
       "      <td>-7.136</td>\n",
       "      <td>major</td>\n",
       "      <td>0.0352</td>\n",
       "      <td>4</td>\n",
       "      <td>0.453</td>\n",
       "      <td>151.779</td>\n",
       "      <td>3</td>\n",
       "      <td>best rock</td>\n",
       "      <td>1</td>\n",
       "    </tr>\n",
       "  </tbody>\n",
       "</table>\n",
       "<p>300 rows × 21 columns</p>\n",
       "</div>"
      ],
      "text/plain": [
       "             artist  explicit                              name  \\\n",
       "0   Mary Jane Girls     False      In My House - Single Version   \n",
       "1   Michael Jackson     False         Thriller - Single Version   \n",
       "2            Change     False  A Lovers'S Holiday - Single Edit   \n",
       "3       George Duke     False                          Shine On   \n",
       "4              CHIC     False                          Believer   \n",
       "..              ...       ...                               ...   \n",
       "95      Tenacious D      True                           Tribute   \n",
       "96             Muse     False                Knights of Cydonia   \n",
       "97   Puddle Of Mudd     False                     Gimme Shelter   \n",
       "98        Green Day      True                    American Idiot   \n",
       "99           Weezer     False                   Say It Ain't So   \n",
       "\n",
       "                               album  popularity  acousticness  danceability  \\\n",
       "0   80s Soul (International Version)          24      0.013700         0.795   \n",
       "1      The Essential Michael Jackson           0      0.093400         0.775   \n",
       "2        Greatest Hits & Rare Tracks           0      0.027700         0.932   \n",
       "3                           DREAM ON          40      0.017600         0.800   \n",
       "4            The Best of Chic Vol. 2          21      0.360000         0.855   \n",
       "..                               ...         ...           ...           ...   \n",
       "95                       Tenacious D          65      0.181000         0.365   \n",
       "96       Black Holes and Revelations          67      0.000273         0.366   \n",
       "97                  Re (Disc) Overed          45      0.004820         0.502   \n",
       "98                    American Idiot          77      0.000026         0.380   \n",
       "99                            Weezer           0      0.007370         0.634   \n",
       "\n",
       "    duration  energy  instrumentalness  ... liveness  loudness   mode  \\\n",
       "0          3   0.664          0.079600  ...   0.0726    -9.171  minor   \n",
       "1          5   0.815          0.000034  ...   0.2560    -5.639  major   \n",
       "2          4   0.651          0.009590  ...   0.0714    -5.747  minor   \n",
       "3          5   0.770          0.011500  ...   0.0285   -11.271  minor   \n",
       "4          5   0.506          0.006870  ...   0.0391   -14.156  major   \n",
       "..       ...     ...               ...  ...      ...       ...    ...   \n",
       "95         4   0.767          0.000856  ...   0.0942    -6.185  minor   \n",
       "96         6   0.963          0.012200  ...   0.1150    -5.301  minor   \n",
       "97         5   0.898          0.021900  ...   0.1460    -4.086  minor   \n",
       "98         2   0.988          0.000079  ...   0.3680    -2.042  major   \n",
       "99         4   0.551          0.000018  ...   0.0700    -7.136  major   \n",
       "\n",
       "   speechiness  time_signature  valence    tempo  id       query count  \n",
       "0       0.0316               4    0.936  116.808   1  Funky 80's     1  \n",
       "1       0.0477               4    0.835  118.402   1  Funky 80's     1  \n",
       "2       0.2240               4    0.821  116.357   1  Funky 80's     1  \n",
       "3       0.0415               4    0.960  118.832   1  Funky 80's     1  \n",
       "4       0.0944               4    0.882  115.708   1  Funky 80's     1  \n",
       "..         ...             ...      ...      ...  ..         ...   ...  \n",
       "95      0.0681               4    0.422   94.174   3   best rock     1  \n",
       "96      0.1420               4    0.211  137.114   3   best rock     1  \n",
       "97      0.0431               4    0.456  120.015   3   best rock     1  \n",
       "98      0.0639               4    0.769  186.113   3   best rock     1  \n",
       "99      0.0352               4    0.453  151.779   3   best rock     1  \n",
       "\n",
       "[300 rows x 21 columns]"
      ]
     },
     "execution_count": 23,
     "metadata": {},
     "output_type": "execute_result"
    }
   ],
   "source": [
    "df"
   ]
  },
  {
   "cell_type": "code",
   "execution_count": null,
   "metadata": {},
   "outputs": [],
   "source": []
  }
 ],
 "metadata": {
  "interpreter": {
   "hash": "8c252f30e6b77a0f45cc1bbd0a26b5e9253af7ed12036af03318e246ade66513"
  },
  "kernelspec": {
   "display_name": "Python 3.9.12 ('base')",
   "language": "python",
   "name": "python3"
  },
  "language_info": {
   "codemirror_mode": {
    "name": "ipython",
    "version": 3
   },
   "file_extension": ".py",
   "mimetype": "text/x-python",
   "name": "python",
   "nbconvert_exporter": "python",
   "pygments_lexer": "ipython3",
   "version": "3.9.12"
  },
  "orig_nbformat": 4
 },
 "nbformat": 4,
 "nbformat_minor": 2
}
