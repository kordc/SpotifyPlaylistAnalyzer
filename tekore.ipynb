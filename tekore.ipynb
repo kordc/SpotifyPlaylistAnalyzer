{
 "cells": [
  {
   "cell_type": "code",
   "execution_count": 1,
   "metadata": {},
   "outputs": [],
   "source": [
    "#Let's try to make these calls faster\n",
    "import tekore as tk\n",
    "import asyncio\n",
    "import yaml\n",
    "import requests\n"
   ]
  },
  {
   "cell_type": "code",
   "execution_count": 2,
   "metadata": {},
   "outputs": [],
   "source": [
    "credentials_path = \"credentials.yaml\"\n",
    "with open(credentials_path) as file:\n",
    "    cred = yaml.load(file, Loader=yaml.FullLoader)"
   ]
  },
  {
   "cell_type": "code",
   "execution_count": 3,
   "metadata": {},
   "outputs": [],
   "source": [
    "conf = cred['client_id'], cred['client_secret']\n",
    "\n",
    "app_token = tk.request_client_token(*conf)\n",
    "\n",
    "#Let's try to connect these words\n",
    "spotify = tk.Spotify(app_token)\n"
   ]
  },
  {
   "cell_type": "code",
   "execution_count": 4,
   "metadata": {},
   "outputs": [
    {
     "data": {
      "text/plain": [
       "'BQAY8_-0-Fm2-Adz0m8_RpBU4GUrG2BoR1QeRpT6_W9aO91p92QTTK7Q_zQa_xV8rY2dk-Je2pu0FIbPFR0'"
      ]
     },
     "execution_count": 4,
     "metadata": {},
     "output_type": "execute_result"
    }
   ],
   "source": [
    "app_token.access_token"
   ]
  },
  {
   "cell_type": "markdown",
   "metadata": {},
   "source": [
    "## Playlist search"
   ]
  },
  {
   "cell_type": "code",
   "execution_count": 5,
   "metadata": {},
   "outputs": [],
   "source": [
    "obj = spotify.search(\"Top 50 USA\", types=(\"playlist\",), limit=1)"
   ]
  },
  {
   "cell_type": "code",
   "execution_count": 6,
   "metadata": {},
   "outputs": [],
   "source": [
    "ids = []\n",
    "for track in spotify.playlist_items(obj[0].items[0].id, as_tracks=True)['items']:\n",
    "    ids.append(track[\"track\"][\"id\"])\n"
   ]
  },
  {
   "cell_type": "code",
   "execution_count": 7,
   "metadata": {},
   "outputs": [],
   "source": [
    "features = spotify.tracks_audio_features(ids)"
   ]
  },
  {
   "cell_type": "code",
   "execution_count": 8,
   "metadata": {},
   "outputs": [
    {
     "data": {
      "text/plain": [
       "tekore.model.ModelList"
      ]
     },
     "execution_count": 8,
     "metadata": {},
     "output_type": "execute_result"
    }
   ],
   "source": [
    "type(features)"
   ]
  },
  {
   "cell_type": "markdown",
   "metadata": {},
   "source": [
    "## Track search"
   ]
  },
  {
   "cell_type": "code",
   "execution_count": 9,
   "metadata": {},
   "outputs": [],
   "source": [
    "obj = spotify.search(\"Show must go on\", types=(\"track\",), limit=1)"
   ]
  },
  {
   "cell_type": "code",
   "execution_count": 10,
   "metadata": {},
   "outputs": [
    {
     "data": {
      "text/plain": [
       "'3m86qx7aIeqFcYcQ1UXUvP'"
      ]
     },
     "execution_count": 10,
     "metadata": {},
     "output_type": "execute_result"
    }
   ],
   "source": [
    "obj[0].items[0].id"
   ]
  },
  {
   "cell_type": "code",
   "execution_count": 11,
   "metadata": {},
   "outputs": [],
   "source": [
    "features = spotify.track_audio_features(obj[0].items[0].id)"
   ]
  },
  {
   "cell_type": "code",
   "execution_count": 107,
   "metadata": {},
   "outputs": [
    {
     "data": {
      "text/plain": [
       "AudioFeatures with fields:\n",
       "  acousticness = 0.526\n",
       "  analysis_url = 'https://api.spotify.com/v1/audio-analysis/3m86qx7aIeq...'\n",
       "  danceability = 0.421\n",
       "  duration_ms = 272107\n",
       "  energy = 0.517\n",
       "  id = '3m86qx7aIeqFcYcQ1UXUvP'\n",
       "  instrumentalness = 1.82e-06\n",
       "  key = 11\n",
       "  liveness = 0.136\n",
       "  loudness = -11.49\n",
       "  mode = 0\n",
       "  speechiness = 0.035\n",
       "  tempo = 84.011\n",
       "  time_signature = 4\n",
       "  track_href = 'https://api.spotify.com/v1/tracks/3m86qx7aIeqFcYcQ1UXUvP'\n",
       "  type = 'audio_features'\n",
       "  uri = 'spotify:track:3m86qx7aIeqFcYcQ1UXUvP'\n",
       "  valence = 0.109"
      ]
     },
     "execution_count": 107,
     "metadata": {},
     "output_type": "execute_result"
    }
   ],
   "source": [
    "features"
   ]
  },
  {
   "cell_type": "code",
   "execution_count": 28,
   "metadata": {},
   "outputs": [
    {
     "data": {
      "text/plain": [
       "AudioFeatures with fields:\n",
       "  acousticness = 0.526\n",
       "  analysis_url = 'https://api.spotify.com/v1/audio-analysis/3m86qx7aIeq...'\n",
       "  danceability = 0.421\n",
       "  duration_ms = 272107\n",
       "  energy = 0.517\n",
       "  id = '3m86qx7aIeqFcYcQ1UXUvP'\n",
       "  instrumentalness = 1.82e-06\n",
       "  key = 11\n",
       "  liveness = 0.136\n",
       "  loudness = -11.49\n",
       "  mode = 0\n",
       "  speechiness = 0.035\n",
       "  tempo = 84.011\n",
       "  time_signature = 4\n",
       "  track_href = 'https://api.spotify.com/v1/tracks/3m86qx7aIeqFcYcQ1UXUvP'\n",
       "  type = 'audio_features'\n",
       "  uri = 'spotify:track:3m86qx7aIeqFcYcQ1UXUvP'\n",
       "  valence = 0.109"
      ]
     },
     "execution_count": 28,
     "metadata": {},
     "output_type": "execute_result"
    }
   ],
   "source": [
    "spotify.track_audio_features('3m86qx7aIeqFcYcQ1UXUvP')"
   ]
  },
  {
   "cell_type": "markdown",
   "metadata": {},
   "source": [
    "### Dummy dataset"
   ]
  },
  {
   "cell_type": "code",
   "execution_count": 113,
   "metadata": {},
   "outputs": [
    {
     "name": "stdout",
     "output_type": "stream",
     "text": [
      "The autoreload extension is already loaded. To reload it, use:\n",
      "  %reload_ext autoreload\n"
     ]
    }
   ],
   "source": [
    "import sys\n",
    "sys.path.append(\"app\")\n",
    "import pandas as pd\n",
    "%load_ext autoreload\n",
    "\n",
    "%autoreload 2\n",
    "\n",
    "from spotifyData import getdata_faster\n",
    "from utils import request_manager\n",
    "creator = getdata_faster.DatasetCreator(spotify_api=spotify)\n",
    "\n",
    "request_manager = request_manager.RequestManager()"
   ]
  },
  {
   "cell_type": "code",
   "execution_count": 134,
   "metadata": {},
   "outputs": [],
   "source": [
    "\n",
    "dfs = []\n",
    "phrases = [\"Top 50 Poland\", \"Top 50 USA\", \"Top 50 belgium\", \"Top 50 Japan\", \"Top 50 Australia\", \"Top 50 Egypt\"]\n",
    "for phrase in phrases:\n",
    "    outcome = creator.search(phrase, type=\"playlist\")\n",
    "    rows = request_manager.add_data([], outcome, query_name=phrase)\n",
    "    dfs.append(pd.DataFrame(rows))\n"
   ]
  },
  {
   "cell_type": "code",
   "execution_count": 135,
   "metadata": {},
   "outputs": [],
   "source": [
    "df = pd.concat(dfs, axis=0)"
   ]
  },
  {
   "cell_type": "code",
   "execution_count": 137,
   "metadata": {},
   "outputs": [],
   "source": [
    "df.to_csv(\"Different_top_50.csv\")"
   ]
  },
  {
   "cell_type": "code",
   "execution_count": null,
   "metadata": {},
   "outputs": [],
   "source": []
  }
 ],
 "metadata": {
  "interpreter": {
   "hash": "8c252f30e6b77a0f45cc1bbd0a26b5e9253af7ed12036af03318e246ade66513"
  },
  "kernelspec": {
   "display_name": "Python 3.9.12 ('base')",
   "language": "python",
   "name": "python3"
  },
  "language_info": {
   "codemirror_mode": {
    "name": "ipython",
    "version": 3
   },
   "file_extension": ".py",
   "mimetype": "text/x-python",
   "name": "python",
   "nbconvert_exporter": "python",
   "pygments_lexer": "ipython3",
   "version": "3.9.12"
  },
  "orig_nbformat": 4
 },
 "nbformat": 4,
 "nbformat_minor": 2
}
